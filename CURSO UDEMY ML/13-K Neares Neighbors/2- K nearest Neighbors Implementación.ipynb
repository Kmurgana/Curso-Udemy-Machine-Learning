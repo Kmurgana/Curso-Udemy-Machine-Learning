{
 "cells": [
  {
   "cell_type": "markdown",
   "id": "0f27b2cd",
   "metadata": {},
   "source": [
    "# Creando nuestro propio KNN"
   ]
  },
  {
   "cell_type": "code",
   "execution_count": 1,
   "id": "18c1b7d0",
   "metadata": {},
   "outputs": [],
   "source": [
    "import numpy as np\n",
    "import matplotlib.pyplot as plt\n",
    "from matplotlib import style\n",
    "import warnings\n",
    "from math import sqrt\n",
    "from collections import Counter"
   ]
  },
  {
   "cell_type": "code",
   "execution_count": 2,
   "id": "6bd43766",
   "metadata": {},
   "outputs": [],
   "source": [
    "dataset = {\n",
    "    'k':[[1,2],[2,3],[3,1]],\n",
    "    'r':[[6,5],[7,7],[8,6]]\n",
    "}\n",
    "new_point = [5,7]"
   ]
  },
  {
   "cell_type": "code",
   "execution_count": 3,
   "id": "60b8ebb0",
   "metadata": {},
   "outputs": [
    {
     "data": {
      "text/plain": [
       "<matplotlib.collections.PathCollection at 0x1a48ce0da30>"
      ]
     },
     "execution_count": 3,
     "metadata": {},
     "output_type": "execute_result"
    },
    {
     "data": {
      "image/png": "[encoded data removed]",
      "text/plain": [
       "<Figure size 432x288 with 1 Axes>"
      ]
     },
     "metadata": {
      "needs_background": "light"
     },
     "output_type": "display_data"
    }
   ],
   "source": [
    "[[plt.scatter(ii[0], ii[1], s=50, color = i) for ii in dataset[i]] for i in dataset]\n",
    "plt.scatter(new_point[0], new_point[1], s=100)"
   ]
  },
  {
   "cell_type": "code",
   "execution_count": 4,
   "id": "d8b11883",
   "metadata": {},
   "outputs": [],
   "source": [
    "def k_nearest_neighbors(data, predict, k = 3, verbose = False):\n",
    "    \"\"\"Función de K neares Neighbors, k es la cantidad de vecinos que decidirán\"\"\"\n",
    "    \n",
    "    if len(data) >= k:\n",
    "        warnings.warn(\"K es un valor menor que el número total de elementos a votar!!\")\n",
    "    \n",
    "    distances = []\n",
    "    for group in data: #Asigna la cantidad de grupos\n",
    "        for feature in data[group]:#Revisa los elementos de cada grupo\n",
    "            #d=sqrt((feature[0]-predict[0])**2 + (feature[1]-predict[1])**2)\n",
    "            #d = np.sqrt(np.sum((np.array(feature)-np.array(predict))**2))\n",
    "            d = np.linalg.norm(np.array(feature)-np.array(predict))\n",
    "            #Calcular la norma, es lo mismo que calcular la distancia euclídea.\n",
    "            distances.append([d, group])\n",
    "    if verbose:        \n",
    "        print(distances)\n",
    "    \n",
    "    votes = [i[1] for i in sorted(distances)[:k]]#Ordena por el primer item del array\n",
    "    if verbose: \n",
    "        print(\"Los votos son: \" +str(votes))\n",
    "    #Con k, me quedo con los k más cercanos.\n",
    "    #Con i en la posición uno me importa la clase, si fuese en pos 0 sería la dist.\n",
    "       \n",
    "    vote_result = Counter(votes).most_common(1)\n",
    "    if verbose:   \n",
    "        print(vote_result)\n",
    "    \n",
    "    return vote_result[0][0]#[('r', 2), ('k',1)]"
   ]
  },
  {
   "cell_type": "markdown",
   "id": "e4ecbfca",
   "metadata": {},
   "source": [
    "Básicamente lo que hace la función es calcular la distancia euclídea entre cada elemento del data set y el nuevo punto, a esta distancia la indexa en un array llamado distances con el orden siguiente [(distancia, clase)], de esta manera calcula tantas distancias como puntos halla. Una vez terminado de crear el array de distancias lo ordena de la menor a la mayor distancia. Esto lo hace para luego quedarse con los k primeros (3) primeros. Y finalmente, de estos tres primeros calcula cuál es el más comun y listo, ahí está."
   ]
  },
  {
   "cell_type": "code",
   "execution_count": 5,
   "id": "03aed70a",
   "metadata": {},
   "outputs": [
    {
     "data": {
      "text/plain": [
       "'k'"
      ]
     },
     "execution_count": 5,
     "metadata": {},
     "output_type": "execute_result"
    }
   ],
   "source": [
    "new_point = [4.5,4.333333333]\n",
    "result = k_nearest_neighbors(dataset, new_point)\n",
    "result"
   ]
  },
  {
   "cell_type": "markdown",
   "id": "fd743314",
   "metadata": {},
   "source": [
    "### Ploteando el punto nuevo punto."
   ]
  },
  {
   "cell_type": "code",
   "execution_count": 6,
   "id": "42293316",
   "metadata": {},
   "outputs": [
    {
     "data": {
      "text/plain": [
       "<matplotlib.collections.PathCollection at 0x1a48f0c1ee0>"
      ]
     },
     "execution_count": 6,
     "metadata": {},
     "output_type": "execute_result"
    },
    {
     "data": {
      "image/png": "[encoded data removed]",
      "text/plain": [
       "<Figure size 432x288 with 1 Axes>"
      ]
     },
     "metadata": {
      "needs_background": "light"
     },
     "output_type": "display_data"
    }
   ],
   "source": [
    "[[plt.scatter(ii[0], ii[1], s=50, color = i) for ii in dataset[i]] for i in dataset]\n",
    "#Con el doble for, recorro cada uno de los puntos, como i va a valer r o k, es rojo o negro\n",
    "\n",
    "plt.scatter(new_point[0], new_point[1], s=100, color=result)"
   ]
  },
  {
   "cell_type": "markdown",
   "id": "6d0cae2e",
   "metadata": {},
   "source": [
    "# Aplicando nuestro KNN al Data Set del Cancer"
   ]
  },
  {
   "cell_type": "code",
   "execution_count": 7,
   "id": "da646028",
   "metadata": {},
   "outputs": [],
   "source": [
    "import pandas as pd\n",
    "import random"
   ]
  },
  {
   "cell_type": "code",
   "execution_count": 8,
   "id": "9681b22b",
   "metadata": {},
   "outputs": [
    {
     "data": {
      "text/html": [
       "<div>\n",
       "<style scoped>\n",
       "    .dataframe tbody tr th:only-of-type {\n",
       "        vertical-align: middle;\n",
       "    }\n",
       "\n",
       "    .dataframe tbody tr th {\n",
       "        vertical-align: top;\n",
       "    }\n",
       "\n",
       "    .dataframe thead th {\n",
       "        text-align: right;\n",
       "    }\n",
       "</style>\n",
       "<table border=\"1\" class=\"dataframe\">\n",
       "  <thead>\n",
       "    <tr style=\"text-align: right;\">\n",
       "      <th></th>\n",
       "      <th>0</th>\n",
       "      <th>1</th>\n",
       "      <th>2</th>\n",
       "      <th>3</th>\n",
       "      <th>4</th>\n",
       "      <th>5</th>\n",
       "      <th>6</th>\n",
       "      <th>7</th>\n",
       "      <th>8</th>\n",
       "      <th>9</th>\n",
       "      <th>10</th>\n",
       "    </tr>\n",
       "  </thead>\n",
       "  <tbody>\n",
       "    <tr>\n",
       "      <th>0</th>\n",
       "      <td>1000025</td>\n",
       "      <td>5</td>\n",
       "      <td>1</td>\n",
       "      <td>1</td>\n",
       "      <td>1</td>\n",
       "      <td>2</td>\n",
       "      <td>1</td>\n",
       "      <td>3</td>\n",
       "      <td>1</td>\n",
       "      <td>1</td>\n",
       "      <td>2</td>\n",
       "    </tr>\n",
       "    <tr>\n",
       "      <th>1</th>\n",
       "      <td>1002945</td>\n",
       "      <td>5</td>\n",
       "      <td>4</td>\n",
       "      <td>4</td>\n",
       "      <td>5</td>\n",
       "      <td>7</td>\n",
       "      <td>10</td>\n",
       "      <td>3</td>\n",
       "      <td>2</td>\n",
       "      <td>1</td>\n",
       "      <td>2</td>\n",
       "    </tr>\n",
       "    <tr>\n",
       "      <th>2</th>\n",
       "      <td>1015425</td>\n",
       "      <td>3</td>\n",
       "      <td>1</td>\n",
       "      <td>1</td>\n",
       "      <td>1</td>\n",
       "      <td>2</td>\n",
       "      <td>2</td>\n",
       "      <td>3</td>\n",
       "      <td>1</td>\n",
       "      <td>1</td>\n",
       "      <td>2</td>\n",
       "    </tr>\n",
       "    <tr>\n",
       "      <th>3</th>\n",
       "      <td>1016277</td>\n",
       "      <td>6</td>\n",
       "      <td>8</td>\n",
       "      <td>8</td>\n",
       "      <td>1</td>\n",
       "      <td>3</td>\n",
       "      <td>4</td>\n",
       "      <td>3</td>\n",
       "      <td>7</td>\n",
       "      <td>1</td>\n",
       "      <td>2</td>\n",
       "    </tr>\n",
       "    <tr>\n",
       "      <th>4</th>\n",
       "      <td>1017023</td>\n",
       "      <td>4</td>\n",
       "      <td>1</td>\n",
       "      <td>1</td>\n",
       "      <td>3</td>\n",
       "      <td>2</td>\n",
       "      <td>1</td>\n",
       "      <td>3</td>\n",
       "      <td>1</td>\n",
       "      <td>1</td>\n",
       "      <td>2</td>\n",
       "    </tr>\n",
       "  </tbody>\n",
       "</table>\n",
       "</div>"
      ],
      "text/plain": [
       "        0   1   2   3   4   5   6   7   8   9   10\n",
       "0  1000025   5   1   1   1   2   1   3   1   1   2\n",
       "1  1002945   5   4   4   5   7  10   3   2   1   2\n",
       "2  1015425   3   1   1   1   2   2   3   1   1   2\n",
       "3  1016277   6   8   8   1   3   4   3   7   1   2\n",
       "4  1017023   4   1   1   3   2   1   3   1   1   2"
      ]
     },
     "execution_count": 8,
     "metadata": {},
     "output_type": "execute_result"
    }
   ],
   "source": [
    "df = pd.read_csv(\"../../Data-Sets/datasets/cancer/breast-cancer-wisconsin.data.txt\", header=None)\n",
    "df.head()"
   ]
  },
  {
   "cell_type": "code",
   "execution_count": 9,
   "id": "cce1f7b6",
   "metadata": {},
   "outputs": [],
   "source": [
    "df.replace(\"?\", -99999, inplace=True) ## Reemplazamos todos los valores ?"
   ]
  },
  {
   "cell_type": "code",
   "execution_count": 10,
   "id": "bcc84308",
   "metadata": {},
   "outputs": [],
   "source": [
    "df.columns = [\"name\", \"V1\", \"V2\", \"V3\", \"V4\", \"V5\", \"V6\", \"V7\", \"V8\", \"V9\", \"class\"]"
   ]
  },
  {
   "cell_type": "code",
   "execution_count": 11,
   "id": "72e5700d",
   "metadata": {},
   "outputs": [
    {
     "name": "stderr",
     "output_type": "stream",
     "text": [
      "C:\\Users\\Kevin\\AppData\\Local\\Temp/ipykernel_1132/1694563752.py:1: FutureWarning: In a future version of pandas all arguments of DataFrame.drop except for the argument 'labels' will be keyword-only\n",
      "  df = df.drop([\"name\"],1)\n"
     ]
    }
   ],
   "source": [
    "df = df.drop([\"name\"],1)"
   ]
  },
  {
   "cell_type": "code",
   "execution_count": 12,
   "id": "a5cbecb3",
   "metadata": {
    "scrolled": false
   },
   "outputs": [],
   "source": [
    "full_data = df.astype(float).values.tolist()"
   ]
  },
  {
   "cell_type": "code",
   "execution_count": 13,
   "id": "abbfe293",
   "metadata": {},
   "outputs": [],
   "source": [
    "random.shuffle(full_data)"
   ]
  },
  {
   "cell_type": "code",
   "execution_count": 14,
   "id": "0b85b145",
   "metadata": {},
   "outputs": [],
   "source": [
    "test_size=0.2"
   ]
  },
  {
   "cell_type": "code",
   "execution_count": 15,
   "id": "ab2d286f",
   "metadata": {},
   "outputs": [],
   "source": [
    "train_set = {2:[], 4:[]}\n",
    "test_set = {2:[],4:[]}"
   ]
  },
  {
   "cell_type": "code",
   "execution_count": 16,
   "id": "34f395b7",
   "metadata": {},
   "outputs": [],
   "source": [
    "train_data = full_data[:-int(test_size*len(full_data))]# Primeros 80% hasta los últimos 20%\n",
    "test_data = full_data[-int(test_size*len(full_data)):] # Últimos 20% hasta el final"
   ]
  },
  {
   "cell_type": "code",
   "execution_count": 17,
   "id": "ee89a7de",
   "metadata": {},
   "outputs": [],
   "source": [
    "for i in train_data:\n",
    "    train_set[i[-1]].append(i[:-1]) #Nos cargamos la última columna\n",
    "    \n",
    "for i in test_data:\n",
    "    test_set[i[-1]].append(i[:-1])#Nos cargamos la última columna"
   ]
  },
  {
   "cell_type": "code",
   "execution_count": 18,
   "id": "47a72eac",
   "metadata": {},
   "outputs": [
    {
     "name": "stdout",
     "output_type": "stream",
     "text": [
      "Eficacia del KNN =  99.28057553956835\n"
     ]
    }
   ],
   "source": [
    "correct = 0\n",
    "total = 0 \n",
    "for group in test_set:\n",
    "    for data in test_set[group]:\n",
    "        vote = k_nearest_neighbors(train_set, data, k=5) #Es el valor por defecto\n",
    "        if group == vote:\n",
    "            correct += 1\n",
    "        total +=1\n",
    "print(\"Eficacia del KNN = \", correct/total*100)"
   ]
  },
  {
   "cell_type": "code",
   "execution_count": null,
   "id": "942ec9fe",
   "metadata": {},
   "outputs": [],
   "source": []
  }
 ],
 "metadata": {
  "kernelspec": {
   "display_name": "Python 3 (ipykernel)",
   "language": "python",
   "name": "python3"
  },
  "language_info": {
   "codemirror_mode": {
    "name": "ipython",
    "version": 3
   },
   "file_extension": ".py",
   "mimetype": "text/x-python",
   "name": "python",
   "nbconvert_exporter": "python",
   "pygments_lexer": "ipython3",
   "version": "3.9.7"
  }
 },
 "nbformat": 4,
 "nbformat_minor": 5
}
