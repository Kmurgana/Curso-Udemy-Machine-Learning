{
 "cells": [
  {
   "cell_type": "markdown",
   "id": "2f80d0da",
   "metadata": {},
   "source": [
    "# Juntando R y Python con rpy2"
   ]
  },
  {
   "cell_type": "code",
   "execution_count": 1,
   "id": "c3edfcfd",
   "metadata": {},
   "outputs": [],
   "source": [
    "import pandas as pd\n",
    "import numpy as np\n",
    "import os\n",
    "# recordar instalar con conda install -c r rpy2  \n",
    "os.environ['R_HOME'] = 'C:/ProgramData/Anaconda3/Lib/R'"
   ]
  },
  {
   "cell_type": "code",
   "execution_count": 2,
   "id": "a4bc4e1b",
   "metadata": {},
   "outputs": [],
   "source": [
    "from IPython.display import Image"
   ]
  },
  {
   "cell_type": "code",
   "execution_count": 3,
   "id": "7f5a3b7d",
   "metadata": {},
   "outputs": [],
   "source": [
    "import matplotlib.pyplot as plt\n",
    "%matplotlib inline"
   ]
  },
  {
   "cell_type": "code",
   "execution_count": 4,
   "id": "087eeea0",
   "metadata": {},
   "outputs": [],
   "source": [
    "import rpy2"
   ]
  },
  {
   "cell_type": "code",
   "execution_count": 5,
   "id": "252cc74f",
   "metadata": {},
   "outputs": [
    {
     "name": "stderr",
     "output_type": "stream",
     "text": [
      "Unable to determine R library path: Command '('C:/ProgramData/Anaconda3/Lib/R\\\\bin\\\\Rscript', '-e', 'cat(Sys.getenv(\"LD_LIBRARY_PATH\"))')' returned non-zero exit status 1.\n"
     ]
    }
   ],
   "source": [
    "import rpy2.robjects as ro #interactuamos directamente con r\n",
    "import rpy2.robjects.numpy2ri #permite conversión entre un dato y otro, de numpy a rpy2"
   ]
  },
  {
   "cell_type": "code",
   "execution_count": 6,
   "id": "2df8e55a",
   "metadata": {},
   "outputs": [],
   "source": [
    "rpy2.robjects.numpy2ri.activate()"
   ]
  },
  {
   "cell_type": "code",
   "execution_count": 7,
   "id": "27623446",
   "metadata": {},
   "outputs": [],
   "source": [
    "codigo_r = \"\"\"\n",
    "saludar <- function(cadena){\n",
    "    return(paste(\"Hola,\",cadena))\n",
    "}\n",
    "\"\"\""
   ]
  },
  {
   "cell_type": "code",
   "execution_count": 8,
   "id": "b6376ad3",
   "metadata": {},
   "outputs": [
    {
     "data": {
      "text/plain": [
       "<rpy2.robjects.functions.SignatureTranslatedFunction object at 0x000001E39A1A2B40> [RTYPES.CLOSXP]\n",
       "R classes: ('function',)"
      ]
     },
     "execution_count": 8,
     "metadata": {},
     "output_type": "execute_result"
    }
   ],
   "source": [
    "ro.r(codigo_r)"
   ]
  },
  {
   "cell_type": "code",
   "execution_count": 9,
   "id": "ef670453",
   "metadata": {},
   "outputs": [],
   "source": [
    "saludar_py = ro.globalenv[\"saludar\"]"
   ]
  },
  {
   "cell_type": "code",
   "execution_count": 10,
   "id": "147a9099",
   "metadata": {},
   "outputs": [
    {
     "data": {
      "text/html": [
       "\n",
       "        <span>StrVector with 1 elements.</span>\n",
       "        <table>\n",
       "        <tbody>\n",
       "          <tr>\n",
       "          \n",
       "            <td>\n",
       "            'Hola, Antonio Banderas'\n",
       "            </td>\n",
       "          \n",
       "          </tr>\n",
       "        </tbody>\n",
       "        </table>\n",
       "        "
      ],
      "text/plain": [
       "<rpy2.robjects.vectors.StrVector object at 0x000001E39D5DE980> [RTYPES.STRSXP]\n",
       "R classes: ('character',)\n",
       "['Hola, Antonio Banderas']"
      ]
     },
     "execution_count": 10,
     "metadata": {},
     "output_type": "execute_result"
    }
   ],
   "source": [
    "saludar_py(\"Antonio Banderas\")"
   ]
  },
  {
   "cell_type": "code",
   "execution_count": 11,
   "id": "3656c2ff",
   "metadata": {},
   "outputs": [
    {
     "data": {
      "text/plain": [
       "'Hola, Antonio Banderas'"
      ]
     },
     "execution_count": 11,
     "metadata": {},
     "output_type": "execute_result"
    }
   ],
   "source": [
    "res = saludar_py(\"Antonio Banderas\")\n",
    "res[0]"
   ]
  },
  {
   "cell_type": "code",
   "execution_count": 12,
   "id": "b155da6b",
   "metadata": {},
   "outputs": [
    {
     "data": {
      "text/plain": [
       "rpy2.robjects.vectors.StrVector"
      ]
     },
     "execution_count": 12,
     "metadata": {},
     "output_type": "execute_result"
    }
   ],
   "source": [
    "type(res)"
   ]
  },
  {
   "cell_type": "code",
   "execution_count": 13,
   "id": "4288fb0e",
   "metadata": {},
   "outputs": [
    {
     "name": "stdout",
     "output_type": "stream",
     "text": [
      "function (cadena) \n",
      "{\n",
      "    return(paste(\"Hola,\", cadena))\n",
      "}\n"
     ]
    }
   ],
   "source": [
    "print(saludar_py.r_repr()) #desde python podemos acceder a R y bisceversa"
   ]
  },
  {
   "cell_type": "code",
   "execution_count": 14,
   "id": "b593368e",
   "metadata": {},
   "outputs": [],
   "source": [
    "var_from_python = ro.FloatVector(np.arange(1,5,0.1))"
   ]
  },
  {
   "cell_type": "code",
   "execution_count": 15,
   "id": "0a7920ef",
   "metadata": {},
   "outputs": [
    {
     "data": {
      "text/html": [
       "\n",
       "        <span>FloatVector with 40 elements.</span>\n",
       "        <table>\n",
       "        <tbody>\n",
       "          <tr>\n",
       "          \n",
       "            <td>\n",
       "            1.000000\n",
       "            </td>\n",
       "          \n",
       "            <td>\n",
       "            1.100000\n",
       "            </td>\n",
       "          \n",
       "            <td>\n",
       "            1.200000\n",
       "            </td>\n",
       "          \n",
       "            <td>\n",
       "            ...\n",
       "            </td>\n",
       "          \n",
       "            <td>\n",
       "            4.700000\n",
       "            </td>\n",
       "          \n",
       "            <td>\n",
       "            4.800000\n",
       "            </td>\n",
       "          \n",
       "            <td>\n",
       "            4.900000\n",
       "            </td>\n",
       "          \n",
       "          </tr>\n",
       "        </tbody>\n",
       "        </table>\n",
       "        "
      ],
      "text/plain": [
       "<rpy2.robjects.vectors.FloatVector object at 0x000001E39D5E3880> [RTYPES.REALSXP]\n",
       "R classes: ('numeric',)\n",
       "[1.000000, 1.100000, 1.200000, 1.300000, ..., 4.600000, 4.700000, 4.800000, 4.900000]"
      ]
     },
     "execution_count": 15,
     "metadata": {},
     "output_type": "execute_result"
    }
   ],
   "source": [
    "var_from_python "
   ]
  },
  {
   "cell_type": "code",
   "execution_count": 16,
   "id": "085d6085",
   "metadata": {},
   "outputs": [
    {
     "name": "stdout",
     "output_type": "stream",
     "text": [
      "c(1, 1.1, 1.2, 1.3, 1.4, 1.5, 1.6, 1.7, 1.8, 1.9, 2, 2.1, 2.2, \n",
      "2.3, 2.4, 2.5, 2.6, 2.7, 2.8, 2.9, 3, 3.1, 3.2, 3.3, 3.4, 3.5, \n",
      "3.6, 3.7, 3.8, 3.9, 4, 4.1, 4.2, 4.3, 4.4, 4.5, 4.6, 4.7, 4.8, \n",
      "4.9)\n"
     ]
    }
   ],
   "source": [
    "print(var_from_python.r_repr())"
   ]
  },
  {
   "cell_type": "code",
   "execution_count": 17,
   "id": "5ea9f626",
   "metadata": {},
   "outputs": [],
   "source": [
    "ro.globalenv[\"var_to_r\"] = var_from_python # añade en r una variable var_to_r a partir de var_from_python"
   ]
  },
  {
   "cell_type": "code",
   "execution_count": 18,
   "id": "14be2b3a",
   "metadata": {},
   "outputs": [
    {
     "data": {
      "text/plain": [
       "array([1. , 1.1, 1.2, 1.3, 1.4, 1.5, 1.6, 1.7, 1.8, 1.9, 2. , 2.1, 2.2,\n",
       "       2.3, 2.4, 2.5, 2.6, 2.7, 2.8, 2.9, 3. , 3.1, 3.2, 3.3, 3.4, 3.5,\n",
       "       3.6, 3.7, 3.8, 3.9, 4. , 4.1, 4.2, 4.3, 4.4, 4.5, 4.6, 4.7, 4.8,\n",
       "       4.9])"
      ]
     },
     "execution_count": 18,
     "metadata": {},
     "output_type": "execute_result"
    }
   ],
   "source": [
    "ro.r(\"var_to_r\")"
   ]
  },
  {
   "cell_type": "code",
   "execution_count": 19,
   "id": "a06e4b49",
   "metadata": {},
   "outputs": [
    {
     "data": {
      "text/plain": [
       "array([118.])"
      ]
     },
     "execution_count": 19,
     "metadata": {},
     "output_type": "execute_result"
    }
   ],
   "source": [
    "ro.r(\"sum(var_to_r)\")"
   ]
  },
  {
   "cell_type": "code",
   "execution_count": 20,
   "id": "ce02bf43",
   "metadata": {},
   "outputs": [
    {
     "data": {
      "text/plain": [
       "array([2.95])"
      ]
     },
     "execution_count": 20,
     "metadata": {},
     "output_type": "execute_result"
    }
   ],
   "source": [
    "ro.r(\"mean(var_to_r)\")"
   ]
  },
  {
   "cell_type": "code",
   "execution_count": 21,
   "id": "c56be5e1",
   "metadata": {},
   "outputs": [
    {
     "data": {
      "text/plain": [
       "array([1.16904519])"
      ]
     },
     "execution_count": 21,
     "metadata": {},
     "output_type": "execute_result"
    }
   ],
   "source": [
    "ro.r(\"sd(var_to_r)\")"
   ]
  },
  {
   "cell_type": "code",
   "execution_count": 22,
   "id": "f3e820f4",
   "metadata": {},
   "outputs": [
    {
     "data": {
      "text/plain": [
       "118.00000000000007"
      ]
     },
     "execution_count": 22,
     "metadata": {},
     "output_type": "execute_result"
    }
   ],
   "source": [
    "np.sum(var_from_python)"
   ]
  },
  {
   "cell_type": "code",
   "execution_count": 23,
   "id": "04fb8793",
   "metadata": {},
   "outputs": [
    {
     "data": {
      "text/plain": [
       "2.950000000000002"
      ]
     },
     "execution_count": 23,
     "metadata": {},
     "output_type": "execute_result"
    }
   ],
   "source": [
    "np.mean(var_from_python)"
   ]
  },
  {
   "cell_type": "code",
   "execution_count": 24,
   "id": "f7519b33",
   "metadata": {},
   "outputs": [
    {
     "data": {
      "text/plain": [
       "array([1.   , 1.975, 2.95 , 2.95 , 3.925, 4.9  ])"
      ]
     },
     "execution_count": 24,
     "metadata": {},
     "output_type": "execute_result"
    }
   ],
   "source": [
    "ro.r(\"summary(var_to_r)\")"
   ]
  },
  {
   "cell_type": "code",
   "execution_count": 25,
   "id": "b9f9274c",
   "metadata": {},
   "outputs": [],
   "source": [
    "#ro.r(\"hist(var_to_r, breaks = 6)\")"
   ]
  },
  {
   "cell_type": "markdown",
   "id": "5ac6c903",
   "metadata": {},
   "source": [
    "# Trabajar de forma conjunta entre R y Python"
   ]
  },
  {
   "cell_type": "code",
   "execution_count": 26,
   "id": "b732b7de",
   "metadata": {},
   "outputs": [],
   "source": [
    "from rpy2.robjects.packages import importr #importamos librerías directamente desde R"
   ]
  },
  {
   "cell_type": "code",
   "execution_count": 27,
   "id": "c4c49644",
   "metadata": {},
   "outputs": [],
   "source": [
    "#ro.r(\"install.packages('extRemes')\")\n",
    "extremes = importr(\"extRemes\") #library(extRemes)"
   ]
  },
  {
   "cell_type": "code",
   "execution_count": 28,
   "id": "a9b44ddb",
   "metadata": {},
   "outputs": [],
   "source": [
    "fevd = extremes.fevd"
   ]
  },
  {
   "cell_type": "code",
   "execution_count": 29,
   "id": "42a089b8",
   "metadata": {
    "scrolled": false
   },
   "outputs": [
    {
     "name": "stdout",
     "output_type": "stream",
     "text": [
      "Wrapper around an R function.\r\n",
      "\r\n",
      "The docstring below is built from the R documentation.\r\n",
      "\r\n",
      "description\r\n",
      "-----------\r\n",
      "\r\n",
      "\n",
      " Fit a univariate extreme value distribution functions (e.g., GEV, GP, PP, Gumbel, or Exponential) to data; possibly with covariates in the parameters.\n",
      " \r\n",
      "\r\n",
      "\r\n",
      "fevd(\r\n",
      "    x,\r\n",
      "    data,\r\n",
      "    threshold = rinterface.NULL,\r\n",
      "    threshold_fun = ~,\r\n",
      "    location_fun = ~,\r\n",
      "    scale_fun = ~,\r\n",
      "    shape_fun = ~,\r\n",
      "    use_phi = False,\r\n",
      "    type = c,\r\n",
      "    method = c,\r\n",
      "    initial = rinterface.NULL,\r\n",
      "    span,\r\n",
      "    units = rinterface.NULL,\r\n",
      "    time_units = days,\r\n",
      "    period_basis = year,\r\n",
      "    na_action = <rpy2.rinterface.ListSexpVector object at 0x000001E39D5D5F40> [RTYPES.VECSXP],\r\n",
      "    optim_args = rinterface.NULL,\r\n",
      "    priorFun = rinterface.NULL,\r\n",
      "    priorParams = rinterface.NULL,\r\n",
      "    proposalFun = rinterface.NULL,\r\n",
      "    proposalParams = rinterface.NULL,\r\n",
      "    iter = 9999.0,\r\n",
      "    weights = 1.0,\r\n",
      "    blocks = rinterface.NULL,\r\n",
      "    verbose = False,\r\n",
      ")\r\n",
      "\r\n",
      "Args:\r\n",
      "   x :  'fevd': 'x' can be a numeric vector, the name of a column of\r\n",
      "  'data' or a formula giving the data to which the EVD is to be\r\n",
      "  fit.  In the case of the latter two, the 'data' argument must\r\n",
      "  be specified, and must have appropriately named columns.\r\n",
      "\r\n",
      "   object :  A list object of class \"fevd\" as returned by 'fevd'.\r\n",
      "\r\n",
      "   data :  A data frame object with named columns giving the data to be\r\n",
      "  fit, as well as any data necessary for modeling\r\n",
      "  non-stationarity through the threshold and/or any of the\r\n",
      "  parameters.\r\n",
      "\r\n",
      "   threshold :  numeric (single or vector).  If fitting a peak over\r\n",
      "  threshold (POT) model (i.e., 'type' = \"PP\", \"GP\",\r\n",
      "  \"Exponential\") this is the threshold over which\r\n",
      "  (non-inclusive) data (or excesses) are used to estimate the\r\n",
      "  parameters of the distribution function.  If the length is\r\n",
      "  greater than 1, then the length must be equal to either the\r\n",
      "  length of 'x' (or number of rows of 'data') or to the number\r\n",
      "  of unique arguments in 'threshold.fun'.\r\n",
      "\r\n",
      "   threshold.fun :  formula describing a model for the thresholds using\r\n",
      "  columns from 'data'.  Any valid formula will work.  'data'\r\n",
      "  must be supplied if this argument is anything other than ~ 1.\r\n",
      "  Not for use with 'method' \"Lmoments\".\r\n",
      "\r\n",
      "   use.phi :  logical; should the log of the scale parameter be used in the\r\n",
      "  numerical optimization (for 'method' \"MLE\", \"GMLE\" and\r\n",
      "  \"Bayesian\" only)?  For the ML and GML estimation, this may\r\n",
      "  make things more stable for some data.\r\n",
      "\r\n",
      "   type :  'fevd': character stating which EVD to fit.  Default is to\r\n",
      "  fit the generalized extreme value (GEV) distribution function\r\n",
      "  (df).\r\n",
      "\r\n",
      "   method :  'fevd': character naming which type of estimation method to\r\n",
      "  use.  Default is to use maximum likelihood estimation (MLE).\r\n",
      "\r\n",
      "   initial :  A list object with any named parameter component giving the\r\n",
      "  initial value estimates for starting the numerical\r\n",
      "  optimization (MLE/GMLE) or the MCMC iterations (Bayesian).\r\n",
      "  In the case of MLE/GMLE, it is best to obtain a good intial\r\n",
      "  guess, and in the Bayesian case, it is perhaps better to\r\n",
      "  choose poor initial estimates.  If NULL (default), then\r\n",
      "  L-moments estimates and estimates based on Gumbel moments\r\n",
      "  will be calculated, and whichever yields the lowest negative\r\n",
      "  log-likelihood is used.  In the case of 'type' \"PP\", an\r\n",
      "  additional MLE/GMLE estimate is made for the generalized\r\n",
      "  Pareto (GP) df, and parameters are converted to those of the\r\n",
      "  Poisson Process (PP) model.  Again, the initial estimates\r\n",
      "  yielding the lowest negative log-likelihoo value are used for\r\n",
      "  the initial guess.\r\n",
      "\r\n",
      "   span :  single numeric giving the number of years (or other desired\r\n",
      "  temporal unit) in the data set.  Only used for POT models,\r\n",
      "  and only important in the estimation for the PP model, but\r\n",
      "  important for subsequent estimates of return levels for any\r\n",
      "  POT model.  If missing, it will be calculated using\r\n",
      "  information from 'time.units'.\r\n",
      "\r\n",
      "   units :  (optional) character giving the units of the data, which if\r\n",
      "  given may be used subsequently (e.g., on plot axis labels,\r\n",
      "  etc.).\r\n",
      "\r\n",
      "   time.units :  character string that must be one of \"hours\", \"minutes\",\r\n",
      "  \"seconds\", \"days\", \"months\", \"years\", \"m/hour\", \"m/minute\",\r\n",
      "  \"m/second\", \"m/day\", \"m/month\", or \"m/year\"; where m is a\r\n",
      "  number.  If 'span' is missing, then this argument is used in\r\n",
      "  determining the value of 'span'.  It is also returned with\r\n",
      "  the output and used subsequently for plot labelling, etc.\r\n",
      "\r\n",
      "   period.basis :  character string giving the units for the period.  Used\r\n",
      "  only for plot labelling and naming output vectors from some\r\n",
      "  of the method functions (e.g., for establishing what the\r\n",
      "  period represents for the return period).\r\n",
      "\r\n",
      "   rperiods :  numeric vector giving the return period(s) for which it is\r\n",
      "  desired to calculate the corresponding return levels.\r\n",
      "\r\n",
      "   period :  character string naming the units for the return period.\r\n",
      "\r\n",
      "   burn.in :  The first 'burn.in' values are thrown out before calculating\r\n",
      "  anything from the MCMC sample.\r\n",
      "\r\n",
      "   a :  when plotting empirical probabilies and such, the function\r\n",
      "  'ppoints' is called, which has this argument 'a'.\r\n",
      "\r\n",
      "   d :  numeric determining how to scale the rate parameter for the\r\n",
      "  point process.  If NULL, the function will attempt to scale\r\n",
      "  based on the values of 'period.basis' and 'time.units', the\r\n",
      "  first of which must be \"year\" and the second of which must be\r\n",
      "  one of \"days\", \"months\", \"years\", \"hours\", \"minutes\" or\r\n",
      "  \"seconds\".  If none of these are the case, then 'd' should be\r\n",
      "  specified, otherwise, it is not necessary.\r\n",
      "\r\n",
      "   na.action :  function to be called to handle missing values.  Generally,\r\n",
      "  this should remain at the default (na.fail), and the user\r\n",
      "  should take care to impute missing values in an appropriate\r\n",
      "  manner as it may have serious consequences on the results.\r\n",
      "\r\n",
      "   optim.args :  A list with named components matching exactly any arguments\r\n",
      "  that the user wishes to specify to 'optim', which is used\r\n",
      "  only for MLE and GMLE methods.  By default, the \"BFGS\" method\r\n",
      "  is used along with 'grlevd' for the gradient argument.\r\n",
      "  Generally, the 'grlevd' function is used for the 'gr' option\r\n",
      "  unless the user specifies otherwise, or the optimization\r\n",
      "  method does not take gradient information.\r\n",
      "\r\n",
      "   priorFun :  character naming a prior df to use for methods GMLE and\r\n",
      "  Bayesian.  The default for GMLE (not including Gumbel or\r\n",
      "  Exponential types) is to use the one suggested by Martins and\r\n",
      "  Stedinger (2000, 2001) on the shape parameter; a beta df on\r\n",
      "  -0.5 to 0.5 with parameters 'p' and 'q'.  Must take 'x' as\r\n",
      "  its first argument for 'method' \"GMLE\".  Optional arguments\r\n",
      "  for the default function are 'p' and 'q' (see details\r\n",
      "  section).\r\n",
      "\r\n",
      "   Note :  if this argument is not NULL and 'method' is set to\r\n",
      "  \"MLE\", it will be changed to \"GMLE\".\r\n",
      "\r\n",
      "   priorParams :  named list containing any prior df parameters (where the\r\n",
      "  list names are the same as the function argument names).\r\n",
      "  Default for GMLE (assuming the default function is used) is\r\n",
      "  to use 'q' = 6 and 'p' = 9.  Note that in the Martins and\r\n",
      "  Stedinger (2000, 2001) papers, they use a different EVD\r\n",
      "  parametrization than is used here such that a positive shape\r\n",
      "  parameter gives the upper bounded distribution instead of the\r\n",
      "  heavy-tail one (as emloyed here).  To be consistent with\r\n",
      "  these papers, 'p' and 'q' are reversed inside the code so\r\n",
      "  that they have the same interpretation as in the papers.\r\n",
      "\r\n",
      "   proposalFun :  For Bayesian estimation only, this is a character naming a\r\n",
      "  function used to generate proposal parameters at each\r\n",
      "  iteration of the MCMC.  If NULL (default), a random walk\r\n",
      "  chain is used whereby if theta.i is the current value of the\r\n",
      "  parameter, the proposed new parameter theta.star is given by\r\n",
      "  theta.i + z, where z is drawn at random from a normal df.\r\n",
      "\r\n",
      "   proposalParams :  A named list object describing any optional arguments\r\n",
      "  to the 'proposalFun' function.  All functions must take\r\n",
      "  argument 'p', which must be a vector of the parameters, and\r\n",
      "  'ind', which is used to identify which parameter is to be\r\n",
      "  proposed.  The default 'proposalFun' function takes\r\n",
      "  additional arguments 'mean' and 'sd', which must be vectors\r\n",
      "  of length equal to the number of parameters in the model\r\n",
      "  (default is to use zero for the mean of z for every parameter\r\n",
      "  and 0.1 for its standard deviation).\r\n",
      "\r\n",
      "   iter :  Used only for Bayesian estimation, this is the number of MCMC\r\n",
      "  iterations to do.\r\n",
      "\r\n",
      "   weights :  numeric of length 1 or n giving weights to be applied in the\r\n",
      "  likelihood calculations (e.g., if there are data points to be\r\n",
      "  weighted more/less heavily than others).\r\n",
      "\r\n",
      "   blocks :  An optional list containing information required to fit point\r\n",
      "  process models in a computationally-efficient manner by using\r\n",
      "  only the exceedances and not the observations below the\r\n",
      "  threshold(s). See details for further information.\r\n",
      "\r\n",
      "   FUN :  character string naming a function to use to estimate the\r\n",
      "  parameters from the MCMC sample.  The function is applied to\r\n",
      "  each column of the 'results' component of the returned 'fevd'\r\n",
      "  object.\r\n",
      "\r\n",
      "   verbose :  logical; should progress information be printed to the\r\n",
      "  screen?  If TRUE, for MLE/GMLE, the argument 'trace' will be\r\n",
      "  set to 6 in the call to 'optim'.\r\n",
      "\r\n",
      "   prange :  matrix whose columns are numeric vectors of length two for\r\n",
      "  each parameter in the model giving the parameter range over\r\n",
      "  which trace plots should be made.  Default is to use either\r\n",
      "  +/- 2 * std. err. of the parameter (first choice) or, if the\r\n",
      "  standard error cannot be calculated, then +/- 2 *\r\n",
      "  log2(abs(parameter)).  Typically, these values seem to work\r\n",
      "  very well for these plots.\r\n",
      "\r\n",
      "   ... :  Not used by most functions here.  Optional arguments to\r\n",
      "  'plot' for the various 'plot' method functions.\r\n",
      "\r\n",
      "details\r\n",
      "-------\r\n",
      "\r\n",
      "\n",
      " See text books on extreme value analysis (EVA) for more on univariate EVA (e.g., Coles, 2001 and Reiss and Thomas, 2007 give fairly accessible introductions to the topic for most audiences; and Beirlant et al., 2004, de Haan and Ferreira, 2006, as well as Reiss and Thomas, 2007 give more complete theoretical treatments).  The extreme value distributions (EVDs) have theoretical support for analyzing extreme values of a process.  In particular, the generalized extreme value (GEV) df is appropriate for modeling block maxima (for large blocks, such as annual maxima), the generalized Pareto (GP) df models threshold excesses (i.e., x - u | x > u and u a high threshold).\n",
      " \n",
      " The GEV df is given by\n",
      " \n",
      "     Pr(X <= x) = G(x) = exp[-(1 + shape*(x - location)/scale)^(-1/shape)]\n",
      " \n",
      " for 1 + shape*(x - location) > 0 and scale > 0.  If the shape parameter is zero, then the df is defined by continuity and simplies to\n",
      " \n",
      "     G(x) = exp(-exp((x - location)/scale)).\n",
      " \n",
      " The GEV df is often called a family of distribution functions because it encompasses the three types of EVDs: Gumbel (shape = 0, light tail), Frechet (shape > 0, heavy tail) and the reverse Weibull (shape < 0, bounded upper tail at location - scale/shape).  It was first found by R. von Mises (1936) and also independently noted later by meteorologist A. F. Jenkins (1955).  It enjoys theretical support for modeling maxima taken over large blocks of a series of data.\n",
      " \n",
      " The generalized Pareo df is given by (Pickands, 1975)\n",
      " \n",
      "     Pr(X <= x) = F(x) = 1 - [1 + shape*(x - threshold)/scale]^(-1/shape)\n",
      " \n",
      " where 1 + shape*(x - threshold)/scale > 0, scale > 0, and x > threshold.  If shape = 0, then the GP df is defined by continuity and becomes\n",
      " \n",
      "     F(x) = 1 - exp(-(x - threshold)/scale).\n",
      " \n",
      " There is an approximate relationship between the GEV and GP distribution functions where the GP df is approximately the tail df for the GEV df.  In particular, the scale parameter of the GP is a function of the threshold (denote it scale.u), and is equivalent to scale + shape*(threshold - location) where scale, shape and location are parameters from the  equivalent  GEV df.  Similar to the GEV df, the shape parameter determines the tail behavior, where shape = 0 gives rise to the exponential df (light tail), shape > 0 the Pareto df (heavy tail) and shape < 0 the Beta df (bounded upper tail at location - scale.u/shape).  Theoretical justification supports the use of the GP df family for modeling excesses over a high threshold (i.e., y = x - threshold).  It is assumed here that  x ,  q  describe x (not y = x - threshold).  Similarly, the random draws are y + threshold.\n",
      " \n",
      " If interest is in minima or deficits under a low threshold, all of the above applies to the negative of the data (e.g., - max(-X_1,...,-X_n) = min(X_1, ..., X_n)) and  fevd  can be used so long as the user first negates the data, and subsequently realizes that the return levels (and location parameter) given will be the negative of the desired return levels (and location parameter), etc.\n",
      " \n",
      " The study of extremes often involves a paucity of data, and for small sample sizes, L-moments may give better estimates than competing methods, but penalized MLE (cf. Coles and Dixon, 1999; Martins and Stedinger, 2000; 2001) may give better estimates than the L-moments for such samples.  Martins and Stedinger (2000; 2001) use the terminology generalized MLE, which is also used here.\n",
      " \n",
      " Non-stationary models:\n",
      " \n",
      " The current code does not allow for non-stationary models with L-moments estimation.\n",
      " \n",
      " For MLE/GMLE (see El Adlouni et al 2007 for using GMLE in fitting models whose parameters vary) and Bayesian estimation, linear models for the parameters may be fit using formulas, in which case the  data  argument must be supplied.  Specifically, the models allowed for a set of covariates, y, are:\n",
      " \n",
      "     location(y) = mu0 + mu1 * f1(y) + mu2 * f2(y) + ...\n",
      " \n",
      "     scale(y) = sig0 + sig1 * g1(y) + sig2 * g2(y) + ...\n",
      " \n",
      "     log(scale(y)) = phi(y) = phi0 + phi1 * g1(y) + phi2 * g2(y) + ...\n",
      " \n",
      "     shape(y) = xi0 + xi1 * h1(y) + xi2 * h2(y) + ...\n",
      " \n",
      " For non-stationary fitting it is recommended that the covariates within the generalized linear models are (at least approximately) centered and scaled (see examples below).  It is generally ill-advised to include covariates in the shape parameter, but there are situations where it makes sense.\n",
      " \n",
      " Non-stationary modeling is accomplished with  fevd  by using formulas via the arguments:  threshold.fun ,  location.fun ,  scale.fun  and  shape.fun .  See examples to see how to do this.\n",
      " \n",
      " \n",
      " Initial Value Estimates:\n",
      " \n",
      " In the case of MLE/GMLE, it can be very important to get good initial estimates (e.g., see the examples below).   fevd  attempts to find such estimates, but it is also possible for the user to supply their own initial estimates as a list object using the  initial  argument, whereby the components of the list are named according to which parameter(s) they are associated with.  In particular, if the model is non-stationary, with covariates in the location (e.g., mu(t) = mu0 + mu1 * t), then  initial  may have a component named  location  that may contain either a single number (in which case, by default, the initial value for mu1 will be zero) or a vector of length two giving initial values for mu0 and mu1.\n",
      " \n",
      " For Bayesian estimation, it is good practice to try several starting values at different points to make sure the initial values do not affect the outcome.  However, if initial values are not passed in, the MLEs are used (which probably is not a good thing to do, but is more likely to yield good results).\n",
      " \n",
      " For MLE/GMLE, two (in the case of PP, three) initial estimates are calculated along with their associated likelihood values.  The initial estimates that yield the highest likelihood are used.  These methods are:\n",
      " \n",
      " 1.  L-moment estimates.\n",
      " \n",
      " 2.  Let m = mean(xdat) and s = sqrt(6 * var(xdat)) / pi.  Then, initial values assigend for the lcoation parameter when either  initial  is NULL or the location component of  initial  is NULL, are m - 0.57722 * s.  When  initial  or the scale component of  initial  is NULL, the initial value for the scale parameter is taken to be s, and when  initial  or its shape component is NULL, the initial value for the shape parameter is taken to be 1e-8 (because these initial estimates are moment-based estimates for the Gumbel df, so the initial value is taken to be near zero).\n",
      " \n",
      " 3.  In the case of PP, which is often the most difficult model to fit, MLEs are obtained for a GP model, and the resulting parameter estimates are converted to those of the approximately equivalent PP model.\n",
      " \n",
      " In the case of a non-stationary model, if the default initial estimates are used, then the intercept term for each parameter is given the initial estimate, and all other parameters are set to zero initially.  The exception is in the case of PP model fitting where the MLE from the GP fits are used, in which case, these parameter estimates may be non-zero.\n",
      " \n",
      " \n",
      " The generalized MLE (GMLE) method:\n",
      " \n",
      " This method places a penalty (or prior df) on the shape parameter to help ensure a better fit.  The procedure is nearly identical to MLE, except the likelihood, L, is multiplied by the prior df, p(shape); and because the negative log-likelihood is used, the effect is that of subtracting this term.  Currently, there is no supplied function by this package to calculate the gradient for the GMLE case, so in particular, the trace plot is not the trace of the actual negative log-likelihood (or gradient thereof) used in the estimation.\n",
      " \n",
      " Bayesian Estimation:\n",
      " \n",
      " It is possible to give your own prior and proposal distribution functions using the appropriate arguments listed above in the arguments section.  At each iteration of the chain, the parameters are updated one at a time in random order.  The default method uses a random walk chain for the proposal and normal distributions for the parameters.\n",
      " \n",
      " Plotting output:\n",
      " \n",
      " plot : The  plot  method function will take information from the  fevd  output and make any of various useful plots.  The default, regardless of estimation method, is to produce a 2 by 2 panel of plots giving some common diagnostic plots.  Possible types (determined by the  type  argument) include:\n",
      " \n",
      " 1.  primary  (default): yields the 2 by 2 panel of plots given by 3, 4, 6 and 7 below.\n",
      " \n",
      " 2.  probprob : Model probabilities against empirical probabilities (obtained from the  ppoints  function).  A good fit should yield a straight one-to-one line of points.  In the case of a non-stationary model, the data are first transformed to either the Gumbel (block maxima models) or exponential (POT models) scale, and plotted against probabilities from these standardized distribution functions.  In the case of a PP model, the parameters are first converted to those of the approximately equivalent GP df, and are plotted against the empirical data threshold excesses probabilities.\n",
      " \n",
      " 3.  qq : Empirical quantiles against model quantiles.  Again, a good fit will yield a straight one-to-one line of points.  Generally, the qq-plot is preferred to the probability plot in 1 above.  As in 2, for the non-stationary case, data are first transformed and plotted against quantiles from the standardized distributions.  Also as in 2 above, in the case of the PP model, parameters are converted to those of the GP df and quantiles are from threshold excesses of the data.\n",
      " \n",
      " 4.  qq2 : Similar to 3, first data are simulated from the fitted model, and then the qq-plot between them (using the function  qqplot  from this self-same package) is made between them, which also yields confidence bands.  Note that for a good fitting model, this should again yield a straight one-to-one line of points, but generally, it will not be as  well-behaved  as the plot in 3.  The one-to-one line and a regression line fitting the quantiles is also shown.  In the case of a non-stationary model, simulations are obtained by simulating from an appropriate standardized EVD, re-ordered to follow the same ordering as the data to which the model was fit, and then back transformed using the covariates from  data  and the parameter estimates to put the simulated sample back on the original scale of the data.  The PP model is handled analogously as in 2 and 3 above.\n",
      " \n",
      " 5. and 6.  Zplot : These are for PP model fits only and are based on Smith and Shively (1995).  The Z plot is a diagnostic for determining whether or not the random variable, Zk, defined as the (possibly non-homogeneous) Poisson intensity parameter(s) integrated from exceedance time k - 1 to exceedance time k (beginning the series with k = 1) is independent exponentially distributed with mean 1.\n",
      " \n",
      " For the Z plot, it is necessary to scale the Poisson intensity parameter appropriately.  For example, if the data are given on a daily time scale with an annual period basis, then this parameter should be divided by, for example, 365.25.  From the fitted  fevd  object, the function will try to account for the correct scaling based on the two components  period.basis  and  time.units .  The former currently must be  year  and the latter must be one of  days ,  months ,  years ,  hours ,  minutes  or  seconds .  If none of these are valid for your specific data (e.g., if an annual basis is not desired), then use the  d  argument to explicitly specify the correct scaling.\n",
      " \n",
      " \n",
      " 7.   hist : A histogram of the data is made, and the model density is shown with a blue dashed line.  In the case of non-stationary models, the data are first transformed to an appropriate standardized EVD scale, and the model density line is for the self-same standardized EVD.  Currently, this does not work for non-stationary POT models.\n",
      " \n",
      " 8.  density : Same as 5, but the kernel density (using function  density ) for the data is plotted instead of the histogram. In the case of the PP model, block maxima of the data are calculated and the density of these block maxima are compared to the PP in terms of the equivalent GEV df.  If the model is non-stationary GEV, then the transformed data (to a stationary Gumbel df) are used.  If the model is a non-stationary POT model, then currently this option is not available.\n",
      " \n",
      " 9.  rl : Return level plot.  This is done on the log-scale for the abscissa in order that the type of EVD can be discerned from the shape (i.e., heavy tail distributions are concave, light tailed distributions are straight lines, and bounded upper-tailed distributions are convex, asymptoting at the upper bound).  95 percent CIs are also shown (gray dashed lines).  In the case of non-stationary models, the data are plotted as a line, and the  effective  return levels (by default the 2-period (i.e., the median), 20-period and 100-period are used; period is usually annual) are also shown (see, e.g., Gilleland and Katz, 2011).  In the case of the PP model, the equivalent GEV df (stationary model) is assumed and data points are block maxima, where the blocks are determined from information passed in the call to  fevd .  In particular, the  span  argument (which, if not passed by the user, will have been determined by  fevd  using  time.units  along with the number of points per year (which is estimated from  time.units ) are used to find the blocks over which the maxima are taken.  For the non-stationary case, the equivalent GP df is assumed and parameters are converted.  This helps facilitate a more meaningful plot, e.g., in the presence of a non-constant threshold, but otherwise constant parameters.\n",
      " \n",
      " 10.  trace : In each of cases (b) and (c) below, a 2 by the number of parameters panel of plots are created.\n",
      " \n",
      "     (a) L-moments: Not available for the L-moments estimation.\n",
      " \n",
      "     (b) For MLE/GMLE, the likelihood traces are shown for each parameter of the model, whereby all but one parameter is held fixed at the MLE/GMLE values, and the negative log-likelihood is graphed for varying values of the parameter of interest.  Note that this differs greatly from the profile likelihood (see, e.g.,  profliker ) where the likelihood is maximized over the remaining parameters.  The gradient negative log-likelihoods are also shown for each parameter.  These plots may be useful in diagnosing any fitting problems that might arise in practice.  For ease of interpretation, the gradients are shown directly below the likleihoods for each parameter.\n",
      " \n",
      "     (c) For Bayesian estimation, the usual trace plots are shown with a gray vertical dashed line showing where the  burn.in  value lies; and a gray dashed horizontal line through the posterior mean.  However, the posterior densities are also displayed for each parameter directly above the usual trace plots.  It is not currently planned to allow for adding the prior dnsities to the posterior density graphs, as this can be easily implemented by the user, but is more difficult to do generally.\n",
      " \n",
      " As with  ci  and  distill , only  plot  need be called by the user.  The appropriate choice of the other functions is automatically determined from the  fevd  fitted object.\n",
      " \n",
      " Note that when  blocks  are provided to  fevd , certain plots\n",
      " that require the full set of observations (including non-exceedances)\n",
      " cannot be produced.\n",
      " \n",
      " Summaries and Printing:\n",
      " \n",
      " summary  and  print  method functions are available, and give different information depending on the estimation method used.  However, in each case, the parameter estimates are printed to the screen.   summary  returns some useful output (similar to distill, but in a list format).  The  print  method function need not be called as one can simply type the name of the  fevd  fitted object and return to execute the command (see examples below).  The deviance information criterion (DIC) is calculated for the Bayesian estimation method as DIC = D(mean(theta)) + 2 * pd, where pd = mean(D(theta)) - D(mean(theta)), and D(theta) = -2 * log-likelihood evaluated at the parameter values given by theta.  The means are taken over the posterior MCMC sample.  The default estimation method for the parameter values from the MCMC sample is to take the mean of the sample (after removing the first burn.in samples).  A good alternative is to set the  FUN  argument to  postmode  in order to obtain the posterior mode of the sample.\n",
      " \n",
      " Using Blocks to Reduce Computation in PP Fitting:\n",
      " \n",
      " If  blocks  is supplied, the user should\n",
      " provide only the exceedances and not all of the data values. For\n",
      " stationary models, the list should contain a component called\n",
      " nBlocks  indicating the number of observations within a block, where\n",
      " blocks are defined in a manner analogous to that used in GEV\n",
      " models. For nonstationary models, the list may contain one or more of\n",
      " several components. For nonstationary models with covariates, the list\n",
      " should contain a  data  component analogous to the  data  argument,\n",
      " providing values for the blocks. If the threshold varies, the list\n",
      " should contain a  threshold  component that is analogous to the\n",
      " threshold  argument. If some of the observations within any block are\n",
      " missing (assuming missing at random or missing completely at random),\n",
      " the list should contain a  proportionMissing  component that is a\n",
      " vector with one value per block indicating the proportion of\n",
      " observations missing for the block. To weight the blocks, the list can\n",
      " contain a  weights  component with one value per block. Warning: to\n",
      " properly analyze nonstationary models, any covariates, thresholds, and\n",
      " weights must be constant within each block.\n",
      " \n",
      " \r\n",
      "\r\n",
      "\n"
     ]
    }
   ],
   "source": [
    "print(fevd.__doc__)"
   ]
  },
  {
   "cell_type": "code",
   "execution_count": 30,
   "id": "d186fc6b",
   "metadata": {},
   "outputs": [],
   "source": [
    "data = pd.read_csv(\"../../Data-Sets/datasets/time/time_series1.txt\", sep= \"\\s+\")"
   ]
  },
  {
   "cell_type": "code",
   "execution_count": 31,
   "id": "776274e9",
   "metadata": {},
   "outputs": [
    {
     "data": {
      "text/html": [
       "<div>\n",
       "<style scoped>\n",
       "    .dataframe tbody tr th:only-of-type {\n",
       "        vertical-align: middle;\n",
       "    }\n",
       "\n",
       "    .dataframe tbody tr th {\n",
       "        vertical-align: top;\n",
       "    }\n",
       "\n",
       "    .dataframe thead th {\n",
       "        text-align: right;\n",
       "    }\n",
       "</style>\n",
       "<table border=\"1\" class=\"dataframe\">\n",
       "  <thead>\n",
       "    <tr style=\"text-align: right;\">\n",
       "      <th></th>\n",
       "      <th>YYYYMMDD</th>\n",
       "      <th>HHMM</th>\n",
       "      <th>M(m/s)</th>\n",
       "    </tr>\n",
       "  </thead>\n",
       "  <tbody>\n",
       "    <tr>\n",
       "      <th>0</th>\n",
       "      <td>19830101</td>\n",
       "      <td>0</td>\n",
       "      <td>7.9</td>\n",
       "    </tr>\n",
       "    <tr>\n",
       "      <th>1</th>\n",
       "      <td>19830101</td>\n",
       "      <td>100</td>\n",
       "      <td>8.2</td>\n",
       "    </tr>\n",
       "    <tr>\n",
       "      <th>2</th>\n",
       "      <td>19830101</td>\n",
       "      <td>200</td>\n",
       "      <td>8.5</td>\n",
       "    </tr>\n",
       "    <tr>\n",
       "      <th>3</th>\n",
       "      <td>19830101</td>\n",
       "      <td>300</td>\n",
       "      <td>9.0</td>\n",
       "    </tr>\n",
       "    <tr>\n",
       "      <th>4</th>\n",
       "      <td>19830101</td>\n",
       "      <td>400</td>\n",
       "      <td>9.9</td>\n",
       "    </tr>\n",
       "    <tr>\n",
       "      <th>...</th>\n",
       "      <td>...</td>\n",
       "      <td>...</td>\n",
       "      <td>...</td>\n",
       "    </tr>\n",
       "    <tr>\n",
       "      <th>275347</th>\n",
       "      <td>20140531</td>\n",
       "      <td>1900</td>\n",
       "      <td>6.9</td>\n",
       "    </tr>\n",
       "    <tr>\n",
       "      <th>275348</th>\n",
       "      <td>20140531</td>\n",
       "      <td>2000</td>\n",
       "      <td>6.5</td>\n",
       "    </tr>\n",
       "    <tr>\n",
       "      <th>275349</th>\n",
       "      <td>20140531</td>\n",
       "      <td>2100</td>\n",
       "      <td>6.2</td>\n",
       "    </tr>\n",
       "    <tr>\n",
       "      <th>275350</th>\n",
       "      <td>20140531</td>\n",
       "      <td>2200</td>\n",
       "      <td>5.9</td>\n",
       "    </tr>\n",
       "    <tr>\n",
       "      <th>275351</th>\n",
       "      <td>20140531</td>\n",
       "      <td>2300</td>\n",
       "      <td>5.6</td>\n",
       "    </tr>\n",
       "  </tbody>\n",
       "</table>\n",
       "<p>275352 rows × 3 columns</p>\n",
       "</div>"
      ],
      "text/plain": [
       "        YYYYMMDD  HHMM  M(m/s)\n",
       "0       19830101     0     7.9\n",
       "1       19830101   100     8.2\n",
       "2       19830101   200     8.5\n",
       "3       19830101   300     9.0\n",
       "4       19830101   400     9.9\n",
       "...          ...   ...     ...\n",
       "275347  20140531  1900     6.9\n",
       "275348  20140531  2000     6.5\n",
       "275349  20140531  2100     6.2\n",
       "275350  20140531  2200     5.9\n",
       "275351  20140531  2300     5.6\n",
       "\n",
       "[275352 rows x 3 columns]"
      ]
     },
     "execution_count": 31,
     "metadata": {},
     "output_type": "execute_result"
    }
   ],
   "source": [
    "data"
   ]
  },
  {
   "cell_type": "code",
   "execution_count": 32,
   "id": "9a26768b",
   "metadata": {},
   "outputs": [],
   "source": [
    "#Juntando dos columnas de un dataset.\n",
    "data = pd.read_csv(\"../../Data-Sets/datasets/time/time_series.txt\", sep= \"\\s+\", skiprows = 1, parse_dates = [[0,1]], names = [\"date\", \"time\", \"wind_speed\"], engine='python', index_col = 0)"
   ]
  },
  {
   "cell_type": "code",
   "execution_count": 33,
   "id": "1c442dc1",
   "metadata": {},
   "outputs": [
    {
     "data": {
      "text/html": [
       "<div>\n",
       "<style scoped>\n",
       "    .dataframe tbody tr th:only-of-type {\n",
       "        vertical-align: middle;\n",
       "    }\n",
       "\n",
       "    .dataframe tbody tr th {\n",
       "        vertical-align: top;\n",
       "    }\n",
       "\n",
       "    .dataframe thead th {\n",
       "        text-align: right;\n",
       "    }\n",
       "</style>\n",
       "<table border=\"1\" class=\"dataframe\">\n",
       "  <thead>\n",
       "    <tr style=\"text-align: right;\">\n",
       "      <th></th>\n",
       "      <th>wind_speed</th>\n",
       "    </tr>\n",
       "    <tr>\n",
       "      <th>date_time</th>\n",
       "      <th></th>\n",
       "    </tr>\n",
       "  </thead>\n",
       "  <tbody>\n",
       "    <tr>\n",
       "      <th>1983-01-01 00:00:00</th>\n",
       "      <td>7.9</td>\n",
       "    </tr>\n",
       "    <tr>\n",
       "      <th>1983-01-01 01:00:00</th>\n",
       "      <td>8.2</td>\n",
       "    </tr>\n",
       "    <tr>\n",
       "      <th>1983-01-01 02:00:00</th>\n",
       "      <td>8.5</td>\n",
       "    </tr>\n",
       "    <tr>\n",
       "      <th>1983-01-01 03:00:00</th>\n",
       "      <td>9.0</td>\n",
       "    </tr>\n",
       "    <tr>\n",
       "      <th>1983-01-01 04:00:00</th>\n",
       "      <td>9.9</td>\n",
       "    </tr>\n",
       "  </tbody>\n",
       "</table>\n",
       "</div>"
      ],
      "text/plain": [
       "                     wind_speed\n",
       "date_time                      \n",
       "1983-01-01 00:00:00         7.9\n",
       "1983-01-01 01:00:00         8.2\n",
       "1983-01-01 02:00:00         8.5\n",
       "1983-01-01 03:00:00         9.0\n",
       "1983-01-01 04:00:00         9.9"
      ]
     },
     "execution_count": 33,
     "metadata": {},
     "output_type": "execute_result"
    }
   ],
   "source": [
    "data.head(5)"
   ]
  },
  {
   "cell_type": "code",
   "execution_count": 34,
   "id": "2df10ad5",
   "metadata": {
    "scrolled": true
   },
   "outputs": [
    {
     "data": {
      "text/plain": [
       "(275352, 1)"
      ]
     },
     "execution_count": 34,
     "metadata": {},
     "output_type": "execute_result"
    }
   ],
   "source": [
    "data.shape"
   ]
  },
  {
   "cell_type": "code",
   "execution_count": 35,
   "id": "d76a6e85",
   "metadata": {},
   "outputs": [],
   "source": [
    "max_ws = data.wind_speed.groupby(pd.Grouper(freq=\"A\")).max()"
   ]
  },
  {
   "cell_type": "code",
   "execution_count": 36,
   "id": "407d987c",
   "metadata": {},
   "outputs": [
    {
     "data": {
      "text/plain": [
       "date_time\n",
       "1983-12-31    22.2\n",
       "1984-12-31    25.5\n",
       "1985-12-31    21.5\n",
       "1986-12-31    22.5\n",
       "1987-12-31    23.7\n",
       "1988-12-31    22.5\n",
       "1989-12-31    21.7\n",
       "1990-12-31    29.7\n",
       "1991-12-31    24.2\n",
       "1992-12-31    23.8\n",
       "1993-12-31    28.1\n",
       "1994-12-31    23.4\n",
       "1995-12-31    23.7\n",
       "1996-12-31    25.6\n",
       "1997-12-31    23.2\n",
       "1998-12-31    24.9\n",
       "1999-12-31    22.8\n",
       "2000-12-31    24.6\n",
       "2001-12-31    22.3\n",
       "2002-12-31    25.5\n",
       "2003-12-31    22.6\n",
       "2004-12-31    24.0\n",
       "2005-12-31    20.8\n",
       "2006-12-31    23.5\n",
       "2007-12-31    24.4\n",
       "2008-12-31    24.1\n",
       "2009-12-31    25.1\n",
       "2010-12-31    19.4\n",
       "2011-12-31    22.8\n",
       "2012-12-31    24.2\n",
       "2013-12-31    25.0\n",
       "2014-12-31    25.3\n",
       "Freq: A-DEC, Name: wind_speed, dtype: float64"
      ]
     },
     "execution_count": 36,
     "metadata": {},
     "output_type": "execute_result"
    }
   ],
   "source": [
    "max_ws"
   ]
  },
  {
   "cell_type": "code",
   "execution_count": 37,
   "id": "cfee342d",
   "metadata": {},
   "outputs": [
    {
     "data": {
      "text/plain": [
       "<AxesSubplot:xlabel='date_time'>"
      ]
     },
     "execution_count": 37,
     "metadata": {},
     "output_type": "execute_result"
    },
    {
     "data": {
      "image/png": "[encoded data removed]",
      "text/plain": [
       "<Figure size 1152x360 with 1 Axes>"
      ]
     },
     "metadata": {
      "needs_background": "light"
     },
     "output_type": "display_data"
    }
   ],
   "source": [
    "max_ws.plot(kind = \"bar\", figsize = (16,5))"
   ]
  },
  {
   "cell_type": "code",
   "execution_count": 38,
   "id": "a882e5c5",
   "metadata": {},
   "outputs": [],
   "source": [
    "result  = fevd(max_ws.values, type = \"GEV\", method = \"GMLE\") #función de R"
   ]
  },
  {
   "cell_type": "code",
   "execution_count": 39,
   "id": "aab37052",
   "metadata": {},
   "outputs": [
    {
     "name": "stdout",
     "output_type": "stream",
     "text": [
      "<class 'rpy2.robjects.vectors.ListVector'>\n"
     ]
    }
   ],
   "source": [
    "print(type(result))"
   ]
  },
  {
   "cell_type": "code",
   "execution_count": 40,
   "id": "1db29330",
   "metadata": {},
   "outputs": [
    {
     "data": {
      "text/plain": [
       "<bound method RObjectMixin.r_repr of <rpy2.robjects.vectors.ListVector object at 0x000001E3A089A780> [RTYPES.VECSXP]\n",
       "R classes: ('fevd',)\n",
       "[LangSexpV..., StrSexpVe..., FloatSexp..., BoolSexpV..., ..., StrSexpVe..., StrSexpVe..., ListSexpV..., ListSexpV...]\n",
       "  call: <class 'rpy2.robjects.language.LangVector'>\n",
       "  Rlang( (function (x, data, threshold = NULL, threshold.fun = ~1, location.fun = ~1,  )\n",
       "  data.name: <class 'rpy2.robjects.vectors.StrVector'>\n",
       "  <rpy2.robjects.vectors.StrVector object at 0x000001E3A0C038C0> [RTYPES.STRSXP]\n",
       "R classes: ('character',)\n",
       "['struct..., '23.8, ..., '22.6, ..., '25.3),..., '']\n",
       "  weights: <class 'numpy.ndarray'>\n",
       "  array([1.])\n",
       "  missing.values: <class 'rpy2.robjects.vectors.BoolArray'>\n",
       "  <rpy2.robjects.vectors.BoolArray object at 0x000001E3A5A51D40> [RTYPES.LGLSXP]\n",
       "R classes: ('array',)\n",
       "[       0,        0,        0,        0, ...,        0,        0,        0,        0]\n",
       "...\n",
       "  x: <class 'rpy2.robjects.vectors.StrVector'>\n",
       "  <rpy2.robjects.vectors.StrVector object at 0x000001E3A0C03B00> [RTYPES.STRSXP]\n",
       "R classes: ('character',)\n",
       "['na.fail']\n",
       "  priorFun: <class 'rpy2.robjects.vectors.StrVector'>\n",
       "  <rpy2.robjects.vectors.StrVector object at 0x000001E3A0C03600> [RTYPES.STRSXP]\n",
       "R classes: ('character',)\n",
       "['location', 'scale', 'shape']\n",
       "<rpy2.robjects.vectors.ListVector object at 0x000001E3A089A780> [RTYPES.VECSXP]\n",
       "R classes: ('fevd',)\n",
       "[LangSexpV..., StrSexpVe..., FloatSexp..., BoolSexpV..., ..., StrSexpVe..., StrSexpVe..., ListSexpV..., ListSexpV...]\n",
       "<rpy2.robjects.vectors.ListVector object at 0x000001E3A089A780> [RTYPES.VECSXP]\n",
       "R classes: ('fevd',)\n",
       "[LangSexpV..., StrSexpVe..., FloatSexp..., BoolSexpV..., ..., StrSexpVe..., StrSexpVe..., ListSexpV..., ListSexpV...]>"
      ]
     },
     "execution_count": 40,
     "metadata": {},
     "output_type": "execute_result"
    }
   ],
   "source": [
    "result.r_repr"
   ]
  },
  {
   "cell_type": "code",
   "execution_count": 41,
   "id": "379aeb4d",
   "metadata": {},
   "outputs": [
    {
     "data": {
      "text/html": [
       "\n",
       "        <span>StrVector with 20 elements.</span>\n",
       "        <table>\n",
       "        <tbody>\n",
       "          <tr>\n",
       "          \n",
       "            <td>\n",
       "            'call'\n",
       "            </td>\n",
       "          \n",
       "            <td>\n",
       "            'data.name'\n",
       "            </td>\n",
       "          \n",
       "            <td>\n",
       "            'weights'\n",
       "            </td>\n",
       "          \n",
       "            <td>\n",
       "            ...\n",
       "            </td>\n",
       "          \n",
       "            <td>\n",
       "            'parnames'\n",
       "            </td>\n",
       "          \n",
       "            <td>\n",
       "            'results'\n",
       "            </td>\n",
       "          \n",
       "            <td>\n",
       "            'initial....\n",
       "            </td>\n",
       "          \n",
       "          </tr>\n",
       "        </tbody>\n",
       "        </table>\n",
       "        "
      ],
      "text/plain": [
       "<rpy2.robjects.vectors.StrVector object at 0x000001E3A048E700> [RTYPES.STRSXP]\n",
       "R classes: ('character',)\n",
       "['call', 'data.name', 'weights', 'missing...., ..., 'na.action', 'parnames', 'results', 'initial....]"
      ]
     },
     "execution_count": 41,
     "metadata": {},
     "output_type": "execute_result"
    }
   ],
   "source": [
    "result.names"
   ]
  },
  {
   "cell_type": "code",
   "execution_count": 42,
   "id": "27d51863",
   "metadata": {},
   "outputs": [
    {
     "name": "stdout",
     "output_type": "stream",
     "text": [
      " [1] \"call\"            \"data.name\"       \"weights\"         \"missing.values\" \n",
      " [5] \"in.data\"         \"x\"               \"priorFun\"        \"priorParams\"    \n",
      " [9] \"method\"          \"type\"            \"period.basis\"    \"par.models\"     \n",
      "[13] \"const.loc\"       \"const.scale\"     \"const.shape\"     \"n\"              \n",
      "[17] \"na.action\"       \"parnames\"        \"results\"         \"initial.results\"\n",
      "\n"
     ]
    }
   ],
   "source": [
    "print(result.names)"
   ]
  },
  {
   "cell_type": "code",
   "execution_count": 43,
   "id": "ee3618bc",
   "metadata": {},
   "outputs": [
    {
     "name": "stdout",
     "output_type": "stream",
     "text": [
      "$par\n",
      "  location      scale      shape \n",
      "23.0639415  1.7576913 -0.1628816 \n",
      "\n",
      "$value\n",
      "[1] 1e+16\n",
      "\n",
      "$counts\n",
      "function gradient \n",
      "       1        1 \n",
      "\n",
      "$convergence\n",
      "[1] 0\n",
      "\n",
      "$message\n",
      "NULL\n",
      "\n",
      "$hessian\n",
      "         location scale shape\n",
      "location        0     0     0\n",
      "scale           0     0     0\n",
      "shape           0     0     0\n",
      "\n",
      "$num.pars\n",
      "$num.pars$location\n",
      "[1] 1\n",
      "\n",
      "$num.pars$scale\n",
      "[1] 1\n",
      "\n",
      "$num.pars$shape\n",
      "[1] 1\n",
      "\n",
      "\n",
      "\n"
     ]
    }
   ],
   "source": [
    "res = result.rx(\"results\")\n",
    "print(res[0])"
   ]
  },
  {
   "cell_type": "code",
   "execution_count": 44,
   "id": "a5925e4a",
   "metadata": {},
   "outputs": [
    {
     "name": "stdout",
     "output_type": "stream",
     "text": [
      "<bound method RObjectMixin.r_repr of <rpy2.robjects.vectors.ListVector object at 0x000001E3A0BFD580> [RTYPES.VECSXP]\r\n",
      "R classes: ('list',)\r\n",
      "[ListSexpVector]\r\n",
      "  results: <class 'rpy2.rinterface.ListSexpVector'>\r\n",
      "  <rpy2.rinterface.ListSexpVector object at 0x000001E3A0C0E780> [RTYPES.VECSXP]>\n"
     ]
    }
   ],
   "source": [
    "print(res.r_repr)"
   ]
  },
  {
   "cell_type": "code",
   "execution_count": 45,
   "id": "f4af8d30",
   "metadata": {},
   "outputs": [
    {
     "name": "stdout",
     "output_type": "stream",
     "text": [
      "<bound method RObjectMixin.r_repr of <rpy2.robjects.vectors.ListVector object at 0x000001E3A0C0EAC0> [RTYPES.VECSXP]\r\n",
      "R classes: ('list',)\r\n",
      "[Floa..., Floa..., IntS..., IntS..., NULL..., Floa..., List...]\r\n",
      "  par: <class 'rpy2.rinterface.FloatSexpVector'>\r\n",
      "  <rpy2.rinterface.FloatSexpVector object at 0x000001E3A0C0EB80> [RTYPES.REALSXP]\r\n",
      "  value: <class 'rpy2.rinterface.FloatSexpVector'>\r\n",
      "  <rpy2.rinterface.FloatSexpVector object at 0x000001E3A0C0EDC0> [RTYPES.REALSXP]\r\n",
      "  counts: <class 'rpy2.rinterface.IntSexpVector'>\r\n",
      "  <rpy2.rinterface.IntSexpVector object at 0x000001E3A0C0EB80> [RTYPES.INTSXP]\r\n",
      "  convergence: <class 'rpy2.rinterface.IntSexpVector'>\r\n",
      "  <rpy2.rinterface.IntSexpVector object at 0x000001E3A0C0EDC0> [RTYPES.INTSXP]\r\n",
      "  message: <class 'rpy2.rinterface_lib.sexp.NULLType'>\r\n",
      "  <rpy2.rinterface_lib.sexp.NULLType object at 0x000001E39A16F400> [RTYPES.NILSXP]\r\n",
      "  hessian: <class 'rpy2.rinterface.FloatSexpVector'>\r\n",
      "  <rpy2.rinterface.FloatSexpVector object at 0x000001E3A0C120C0> [RTYPES.REALSXP]\r\n",
      "  num.pars: <class 'rpy2.rinterface.ListSexpVector'>\r\n",
      "  <rpy2.rinterface.ListSexpVector object at 0x000001E3A0C12100> [RTYPES.VECSXP]>\n"
     ]
    }
   ],
   "source": [
    "print(res[0].r_repr)"
   ]
  },
  {
   "cell_type": "code",
   "execution_count": 46,
   "id": "f8000f4b",
   "metadata": {},
   "outputs": [],
   "source": [
    "loc, scale, shape = res[0].rx(\"par\")[0]"
   ]
  },
  {
   "cell_type": "code",
   "execution_count": 47,
   "id": "153f4600",
   "metadata": {},
   "outputs": [
    {
     "data": {
      "text/plain": [
       "(23.063941519915588, 1.7576912874286317, -0.1628816367714792)"
      ]
     },
     "execution_count": 47,
     "metadata": {},
     "output_type": "execute_result"
    }
   ],
   "source": [
    "loc, scale, shape "
   ]
  },
  {
   "cell_type": "markdown",
   "id": "b9c3f97d",
   "metadata": {},
   "source": [
    "## Función mágica para R"
   ]
  },
  {
   "cell_type": "code",
   "execution_count": 48,
   "id": "e2f57d17",
   "metadata": {},
   "outputs": [
    {
     "name": "stderr",
     "output_type": "stream",
     "text": [
      "C:\\ProgramData\\Anaconda3\\lib\\site-packages\\rpy2\\robjects\\packages.py:366: UserWarning: The symbol 'quartz' is not in this R namespace/package.\n",
      "  warnings.warn(\n"
     ]
    }
   ],
   "source": [
    "%load_ext rpy2.ipython"
   ]
  },
  {
   "cell_type": "code",
   "execution_count": 49,
   "id": "7657491a",
   "metadata": {},
   "outputs": [
    {
     "name": "stdout",
     "output_type": "stream",
     "text": [
      "Help on function R in module rpy2.ipython.rmagic:\n",
      "\n",
      "R(self, line, cell=None, local_ns=None)\n",
      "    ::\n",
      "    \n",
      "      %R [-i INPUT] [-o OUTPUT] [-n] [-w WIDTH] [-h HEIGHT] [-p POINTSIZE] [-b BG] [--noisolation] [-u {px,in,cm,mm}]\n",
      "             [-r RES] [--type {cairo,cairo-png,Xlib,quartz}] [-c CONVERTER] [-d DISPLAY]\n",
      "             [code ...]\n",
      "    \n",
      "    Execute code in R, optionally returning results to the Python runtime.\n",
      "    \n",
      "    In line mode, this will evaluate an expression and convert the returned\n",
      "    value to a Python object.  The return value is determined by rpy2's\n",
      "    behaviour of returning the result of evaluating the final expression.\n",
      "    \n",
      "    Multiple R expressions can be executed by joining them with\n",
      "    semicolons::\n",
      "    \n",
      "        In [9]: %R X=c(1,4,5,7); sd(X); mean(X)\n",
      "        Out[9]: array([ 4.25])\n",
      "    \n",
      "    In cell mode, this will run a block of R code. The resulting value\n",
      "    is printed if it would be printed when evaluating the same code\n",
      "    within a standard R REPL.\n",
      "    \n",
      "    Nothing is returned to python by default in cell mode::\n",
      "    \n",
      "        In [10]: %%R\n",
      "           ....: Y = c(2,4,3,9)\n",
      "           ....: summary(lm(Y~X))\n",
      "    \n",
      "        Call:\n",
      "        lm(formula = Y ~ X)\n",
      "    \n",
      "        Residuals:\n",
      "            1     2     3     4\n",
      "         0.88 -0.24 -2.28  1.64\n",
      "    \n",
      "        Coefficients:\n",
      "                    Estimate Std. Error t value Pr(>|t|)\n",
      "        (Intercept)   0.0800     2.3000   0.035    0.975\n",
      "        X             1.0400     0.4822   2.157    0.164\n",
      "    \n",
      "        Residual standard error: 2.088 on 2 degrees of freedom\n",
      "        Multiple R-squared: 0.6993,Adjusted R-squared: 0.549\n",
      "        F-statistic: 4.651 on 1 and 2 DF,  p-value: 0.1638\n",
      "    \n",
      "    In the notebook, plots are published as the output of the cell::\n",
      "    \n",
      "        %R plot(X, Y)\n",
      "    \n",
      "    will create a scatter plot of X bs Y.\n",
      "    \n",
      "    If cell is not None and line has some R code, it is prepended to\n",
      "    the R code in cell.\n",
      "    \n",
      "    Objects can be passed back and forth between rpy2 and python via the\n",
      "    -i -o flags in line::\n",
      "    \n",
      "        In [14]: Z = np.array([1,4,5,10])\n",
      "    \n",
      "        In [15]: %R -i Z mean(Z)\n",
      "        Out[15]: array([ 5.])\n",
      "    \n",
      "        In [16]: %R -o W W=Z*mean(Z)\n",
      "        Out[16]: array([  5.,  20.,  25.,  50.])\n",
      "    \n",
      "        In [17]: W\n",
      "        Out[17]: array([  5.,  20.,  25.,  50.])\n",
      "    \n",
      "    The return value is determined by these rules:\n",
      "    \n",
      "    * If the cell is not None (i.e., has contents), the magic returns None.\n",
      "    \n",
      "    * If the final line results in a NULL value when evaluated\n",
      "      by rpy2, then None is returned.\n",
      "    \n",
      "    * No attempt is made to convert the final value to a structured array.\n",
      "      Use %Rget to push a structured array.\n",
      "    \n",
      "    * If the -n flag is present, there is no return value.\n",
      "    \n",
      "    * A trailing ';' will also result in no return value as the last\n",
      "      value in the line is an empty string.\n",
      "    \n",
      "    optional arguments:\n",
      "      -i INPUT, --input INPUT\n",
      "                            Names of input variable from `shell.user_ns` to be assigned to R variables of the same names\n",
      "                            after using the Converter self.converter. Multiple names can be passed separated only by\n",
      "                            commas with no whitespace.\n",
      "      -o OUTPUT, --output OUTPUT\n",
      "                            Names of variables to be pushed from rpy2 to `shell.user_ns` after executing cell body (rpy2's\n",
      "                            internal facilities will apply ri2ro as appropriate). Multiple names can be passed separated\n",
      "                            only by commas with no whitespace.\n",
      "      -n, --noreturn        Force the magic to not return anything.\n",
      "    \n",
      "    Plot:\n",
      "      Arguments to plotting device\n",
      "    \n",
      "      -w WIDTH, --width WIDTH\n",
      "                            Width of plotting device in R.\n",
      "      -h HEIGHT, --height HEIGHT\n",
      "                            Height of plotting device in R.\n",
      "      -p POINTSIZE, --pointsize POINTSIZE\n",
      "                            Pointsize of plotting device in R.\n",
      "      -b BG, --bg BG        Background of plotting device in R.\n",
      "    \n",
      "    SVG:\n",
      "      SVG specific arguments\n",
      "    \n",
      "      --noisolation         Disable SVG isolation in the Notebook. By default, SVGs are isolated to avoid namespace\n",
      "                            collisions between figures. Disabling SVG isolation allows to reference previous figures or\n",
      "                            share CSS rules across a set of SVGs.\n",
      "    \n",
      "    PNG:\n",
      "      PNG specific arguments\n",
      "    \n",
      "      -u <{px,in,cm,mm}>, --units <{px,in,cm,mm}>\n",
      "                            Units of png plotting device sent as an argument to *png* in R. One of [\"px\", \"in\", \"cm\",\n",
      "                            \"mm\"].\n",
      "      -r RES, --res RES     Resolution of png plotting device sent as an argument to *png* in R. Defaults to 72 if *units*\n",
      "                            is one of [\"in\", \"cm\", \"mm\"].\n",
      "      --type <{cairo,cairo-png,Xlib,quartz}>\n",
      "                            Type device used to generate the figure.\n",
      "      -c CONVERTER, --converter CONVERTER\n",
      "                            Name of local converter to use. A converter contains the rules to convert objects back and\n",
      "                            forth between Python and R. If not specified/None, the defaut converter for the magic's module\n",
      "                            is used (that is rpy2's default converter + numpy converter + pandas converter if all three\n",
      "                            are available).\n",
      "      -d DISPLAY, --display DISPLAY\n",
      "                            Name of function to use to display the output of an R cell (the last object or function call\n",
      "                            that does not have a left-hand side assignment). That function will have the signature\n",
      "                            `(robject, args)` where `robject` is the R objects that is an output of the cell, and `args` a\n",
      "                            namespace with all parameters passed to the cell.\n",
      "      code\n",
      "\n"
     ]
    }
   ],
   "source": [
    "help(rpy2.ipython.rmagic.RMagics.R)"
   ]
  },
  {
   "cell_type": "code",
   "execution_count": 50,
   "id": "d3f350e1",
   "metadata": {},
   "outputs": [
    {
     "data": {
      "text/plain": [
       "array([4.25])"
      ]
     },
     "execution_count": 50,
     "metadata": {},
     "output_type": "execute_result"
    }
   ],
   "source": [
    "%R X=c(1,4,5,7); sd(X); mean(X)"
   ]
  },
  {
   "cell_type": "code",
   "execution_count": 51,
   "id": "080ed07e",
   "metadata": {
    "scrolled": true
   },
   "outputs": [
    {
     "name": "stdout",
     "output_type": "stream",
     "text": [
      "\n",
      "Call:\n",
      "lm(formula = Y ~ X)\n",
      "\n",
      "Residuals:\n",
      "    1     2     3     4 \n",
      " 0.88 -0.24 -2.28  1.64 \n",
      "\n",
      "Coefficients:\n",
      "            Estimate Std. Error t value Pr(>|t|)\n",
      "(Intercept)   0.0800     2.3000   0.035    0.975\n",
      "X             1.0400     0.4822   2.157    0.164\n",
      "\n",
      "Residual standard error: 2.088 on 2 degrees of freedom\n",
      "Multiple R-squared:  0.6993,\tAdjusted R-squared:  0.549 \n",
      "F-statistic: 4.651 on 1 and 2 DF,  p-value: 0.1638\n",
      "\n"
     ]
    }
   ],
   "source": [
    "%%R\n",
    "Y = c(2,4,3,9)\n",
    "LM = lm(Y~X)\n",
    "summary(LM)"
   ]
  },
  {
   "cell_type": "code",
   "execution_count": 52,
   "id": "866a98da",
   "metadata": {},
   "outputs": [],
   "source": [
    "# %R -i result plot.fevd(result)"
   ]
  },
  {
   "cell_type": "code",
   "execution_count": 53,
   "id": "9e8294c1",
   "metadata": {},
   "outputs": [
    {
     "data": {
      "image/png": "[encoded data removed]",
      "text/plain": [
       "<IPython.core.display.Image object>"
      ]
     },
     "execution_count": 53,
     "metadata": {},
     "output_type": "execute_result"
    }
   ],
   "source": [
    "#%R -i var_from_python hist(var_from_python)\n",
    "Image(filename=\"C:/Users/Kevin/Desktop/Kevin/1-Cursos/1-Machine Learning/CURSO UDEMY ML/17-Juntar R y Python/rplot2.png\")"
   ]
  },
  {
   "cell_type": "code",
   "execution_count": 54,
   "id": "3b0d9b96",
   "metadata": {},
   "outputs": [],
   "source": [
    "#%R -i result plot.fevd(result)"
   ]
  },
  {
   "cell_type": "code",
   "execution_count": 55,
   "id": "76dcbcf9",
   "metadata": {},
   "outputs": [],
   "source": [
    "#ro.globalenv[\"result\"] = result\n",
    "#ro.r(\"plot.fevd(result)\")"
   ]
  },
  {
   "cell_type": "code",
   "execution_count": 56,
   "id": "d366afdb",
   "metadata": {},
   "outputs": [
    {
     "data": {
      "image/png": "[encoded data removed]",
      "text/plain": [
       "<IPython.core.display.Image object>"
      ]
     },
     "execution_count": 56,
     "metadata": {},
     "output_type": "execute_result"
    }
   ],
   "source": [
    "Image(filename=\"C:/Users/Kevin/Desktop/Kevin/1-Cursos/1-Machine Learning/CURSO UDEMY ML/17-Juntar R y Python/rplot.png\")"
   ]
  },
  {
   "cell_type": "markdown",
   "id": "434becaf",
   "metadata": {},
   "source": [
    "# Un ejemplo coplejo de R, Python y Rmagic"
   ]
  },
  {
   "cell_type": "code",
   "execution_count": 65,
   "id": "836682ef",
   "metadata": {},
   "outputs": [],
   "source": [
    "metodos = [\"MLE\", \"GMLE\", \"Bayesian\", \"Lmoments\"]\n",
    "tipo = [\"GEV\", \"Gumbel\"]"
   ]
  },
  {
   "cell_type": "code",
   "execution_count": 66,
   "id": "aa75eee6",
   "metadata": {},
   "outputs": [
    {
     "name": "stdout",
     "output_type": "stream",
     "text": [
      "Tipo de Ajuste:  GEV\n",
      "Tipo de Método del Ajuste:  MLE\n",
      "$par\n",
      "  location      scale      shape \n",
      "23.0517078  1.8085853 -0.1497984 \n",
      "\n",
      "$value\n",
      "[1] 66.22729\n",
      "\n",
      "$counts\n",
      "function gradient \n",
      "      28        6 \n",
      "\n",
      "$convergence\n",
      "[1] 0\n",
      "\n",
      "$message\n",
      "NULL\n",
      "\n",
      "$hessian\n",
      "           location      scale     shape\n",
      "location  9.1825628 -0.3982934  11.22038\n",
      "scale    -0.3982934 21.4422632  19.81854\n",
      "shape    11.2203805 19.8185358 172.17411\n",
      "\n",
      "$num.pars\n",
      "$num.pars$location\n",
      "[1] 1\n",
      "\n",
      "$num.pars$scale\n",
      "[1] 1\n",
      "\n",
      "$num.pars$shape\n",
      "[1] 1\n",
      "\n",
      "\n",
      "\n",
      "Tipo de Ajuste:  GEV\n",
      "Tipo de Método del Ajuste:  GMLE\n",
      "$par\n",
      "  location      scale      shape \n",
      "23.0639415  1.7576913 -0.1628816 \n",
      "\n",
      "$value\n",
      "[1] 1e+16\n",
      "\n",
      "$counts\n",
      "function gradient \n",
      "       1        1 \n",
      "\n",
      "$convergence\n",
      "[1] 0\n",
      "\n",
      "$message\n",
      "NULL\n",
      "\n",
      "$hessian\n",
      "         location scale shape\n",
      "location        0     0     0\n",
      "scale           0     0     0\n",
      "shape           0     0     0\n",
      "\n",
      "$num.pars\n",
      "$num.pars$location\n",
      "[1] 1\n",
      "\n",
      "$num.pars$scale\n",
      "[1] 1\n",
      "\n",
      "$num.pars$shape\n",
      "[1] 1\n",
      "\n",
      "\n",
      "\n",
      "Tipo de Ajuste:  GEV\n",
      "Tipo de Método del Ajuste:  Bayesian\n",
      "[[ 2.30639415e+01  5.64001179e-01 -1.62881637e-01  0.00000000e+00]\n",
      " [ 2.31580069e+01  5.39151415e-01 -1.62881637e-01  2.00000000e+00]\n",
      " [ 2.31580069e+01  5.39151415e-01 -1.62881637e-01  0.00000000e+00]\n",
      " ...\n",
      " [ 2.23253900e+01  6.91351130e-01 -1.18715773e-01  2.00000000e+00]\n",
      " [ 2.23253900e+01  6.60909939e-01 -1.20705948e-02  2.00000000e+00]\n",
      " [ 2.23573297e+01  5.69648801e-01 -9.13097113e-02  3.00000000e+00]]\n",
      "Tipo de Ajuste:  GEV\n",
      "Tipo de Método del Ajuste:  Lmoments\n",
      "[23.06394152  1.75769129 -0.16288164]\n"
     ]
    },
    {
     "name": "stderr",
     "output_type": "stream",
     "text": [
      "R[write to console]: Error in res[1, (nloc + nsc + 1):np] <- initial$shape : \n",
      "  number of items to replace is not a multiple of replacement length\n",
      "\n",
      "R[write to console]: In addition: \n",
      "R[write to console]: Warning message:\n",
      "\n",
      "R[write to console]: In (function (x, data, threshold = NULL, threshold.fun = ~1, location.fun = ~1,  :\n",
      "R[write to console]: \n",
      " \n"
     ]
    },
    {
     "name": "stdout",
     "output_type": "stream",
     "text": [
      "Tipo de Ajuste:  Gumbel\n",
      "Tipo de Método del Ajuste:  MLE\n",
      "$par\n",
      " location     scale \n",
      "22.905876  1.814452 \n",
      "\n",
      "$value\n",
      "[1] 67.38487\n",
      "\n",
      "$counts\n",
      "function gradient \n",
      "      14        5 \n",
      "\n",
      "$convergence\n",
      "[1] 0\n",
      "\n",
      "$message\n",
      "NULL\n",
      "\n",
      "$hessian\n",
      "          location     scale\n",
      "location  9.719762 -4.762621\n",
      "scale    -4.762621 21.535378\n",
      "\n",
      "$num.pars\n",
      "$num.pars$location\n",
      "[1] 1\n",
      "\n",
      "$num.pars$scale\n",
      "[1] 1\n",
      "\n",
      "$num.pars$shape\n",
      "NULL\n",
      "\n",
      "\n",
      "\n",
      "Tipo de Ajuste:  Gumbel\n",
      "Tipo de Método del Ajuste:  GMLE\n",
      "$par\n",
      " location     scale \n",
      "22.905876  1.814452 \n",
      "\n",
      "$value\n",
      "[1] 67.38487\n",
      "\n",
      "$counts\n",
      "function gradient \n",
      "      14        5 \n",
      "\n",
      "$convergence\n",
      "[1] 0\n",
      "\n",
      "$message\n",
      "NULL\n",
      "\n",
      "$hessian\n",
      "          location     scale\n",
      "location  9.719762 -4.762621\n",
      "scale    -4.762621 21.535378\n",
      "\n",
      "$num.pars\n",
      "$num.pars$location\n",
      "[1] 1\n",
      "\n",
      "$num.pars$scale\n",
      "[1] 1\n",
      "\n",
      "$num.pars$shape\n",
      "NULL\n",
      "\n",
      "\n",
      "\n",
      "Tipo de Ajuste:  Gumbel\n",
      "Tipo de Método del Ajuste:  Bayesian\n"
     ]
    },
    {
     "name": "stderr",
     "output_type": "stream",
     "text": [
      "R[write to console]:  fevd: Using method MLE.  No default for specified arguments.\n",
      "\n"
     ]
    },
    {
     "ename": "RRuntimeError",
     "evalue": "Error in res[1, (nloc + nsc + 1):np] <- initial$shape : \n  number of items to replace is not a multiple of replacement length\n",
     "output_type": "error",
     "traceback": [
      "\u001b[1;31m---------------------------------------------------------------------------\u001b[0m",
      "\u001b[1;31mRRuntimeError\u001b[0m                             Traceback (most recent call last)",
      "\u001b[1;32m~\\AppData\\Local\\Temp/ipykernel_14652/3003418773.py\u001b[0m in \u001b[0;36m<module>\u001b[1;34m\u001b[0m\n\u001b[0;32m      3\u001b[0m         \u001b[0mprint\u001b[0m\u001b[1;33m(\u001b[0m\u001b[1;34m\"Tipo de Ajuste: \"\u001b[0m\u001b[1;33m,\u001b[0m \u001b[0mt\u001b[0m\u001b[1;33m)\u001b[0m\u001b[1;33m\u001b[0m\u001b[1;33m\u001b[0m\u001b[0m\n\u001b[0;32m      4\u001b[0m         \u001b[0mprint\u001b[0m\u001b[1;33m(\u001b[0m\u001b[1;34m\"Tipo de Método del Ajuste: \"\u001b[0m\u001b[1;33m,\u001b[0m \u001b[0mm\u001b[0m\u001b[1;33m)\u001b[0m\u001b[1;33m\u001b[0m\u001b[1;33m\u001b[0m\u001b[0m\n\u001b[1;32m----> 5\u001b[1;33m         \u001b[0mresult\u001b[0m \u001b[1;33m=\u001b[0m \u001b[0mfevd\u001b[0m\u001b[1;33m(\u001b[0m\u001b[0mmax_ws\u001b[0m\u001b[1;33m.\u001b[0m\u001b[0mvalues\u001b[0m\u001b[1;33m,\u001b[0m \u001b[0mmethod\u001b[0m \u001b[1;33m=\u001b[0m \u001b[0mm\u001b[0m\u001b[1;33m,\u001b[0m \u001b[0mtype\u001b[0m \u001b[1;33m=\u001b[0m \u001b[0mt\u001b[0m\u001b[1;33m)\u001b[0m\u001b[1;33m\u001b[0m\u001b[1;33m\u001b[0m\u001b[0m\n\u001b[0m\u001b[0;32m      6\u001b[0m         \u001b[0mprint\u001b[0m\u001b[1;33m(\u001b[0m\u001b[0mresult\u001b[0m\u001b[1;33m.\u001b[0m\u001b[0mrx\u001b[0m\u001b[1;33m(\u001b[0m\u001b[1;34m\"results\"\u001b[0m\u001b[1;33m)\u001b[0m\u001b[1;33m[\u001b[0m\u001b[1;36m0\u001b[0m\u001b[1;33m]\u001b[0m\u001b[1;33m)\u001b[0m\u001b[1;33m\u001b[0m\u001b[1;33m\u001b[0m\u001b[0m\n\u001b[0;32m      7\u001b[0m         \u001b[0mro\u001b[0m\u001b[1;33m.\u001b[0m\u001b[0mglobalenv\u001b[0m\u001b[1;33m[\u001b[0m\u001b[1;34m\"result\"\u001b[0m\u001b[1;33m]\u001b[0m \u001b[1;33m=\u001b[0m \u001b[0mresult\u001b[0m\u001b[1;33m\u001b[0m\u001b[1;33m\u001b[0m\u001b[0m\n",
      "\u001b[1;32mC:\\ProgramData\\Anaconda3\\lib\\site-packages\\rpy2\\robjects\\functions.py\u001b[0m in \u001b[0;36m__call__\u001b[1;34m(self, *args, **kwargs)\u001b[0m\n\u001b[0;32m    199\u001b[0m                 \u001b[0mv\u001b[0m \u001b[1;33m=\u001b[0m \u001b[0mkwargs\u001b[0m\u001b[1;33m.\u001b[0m\u001b[0mpop\u001b[0m\u001b[1;33m(\u001b[0m\u001b[0mk\u001b[0m\u001b[1;33m)\u001b[0m\u001b[1;33m\u001b[0m\u001b[1;33m\u001b[0m\u001b[0m\n\u001b[0;32m    200\u001b[0m                 \u001b[0mkwargs\u001b[0m\u001b[1;33m[\u001b[0m\u001b[0mr_k\u001b[0m\u001b[1;33m]\u001b[0m \u001b[1;33m=\u001b[0m \u001b[0mv\u001b[0m\u001b[1;33m\u001b[0m\u001b[1;33m\u001b[0m\u001b[0m\n\u001b[1;32m--> 201\u001b[1;33m         return (super(SignatureTranslatedFunction, self)\n\u001b[0m\u001b[0;32m    202\u001b[0m                 .__call__(*args, **kwargs))\n\u001b[0;32m    203\u001b[0m \u001b[1;33m\u001b[0m\u001b[0m\n",
      "\u001b[1;32mC:\\ProgramData\\Anaconda3\\lib\\site-packages\\rpy2\\robjects\\functions.py\u001b[0m in \u001b[0;36m__call__\u001b[1;34m(self, *args, **kwargs)\u001b[0m\n\u001b[0;32m    122\u001b[0m             \u001b[1;32melse\u001b[0m\u001b[1;33m:\u001b[0m\u001b[1;33m\u001b[0m\u001b[1;33m\u001b[0m\u001b[0m\n\u001b[0;32m    123\u001b[0m                 \u001b[0mnew_kwargs\u001b[0m\u001b[1;33m[\u001b[0m\u001b[0mk\u001b[0m\u001b[1;33m]\u001b[0m \u001b[1;33m=\u001b[0m \u001b[0mconversion\u001b[0m\u001b[1;33m.\u001b[0m\u001b[0mpy2rpy\u001b[0m\u001b[1;33m(\u001b[0m\u001b[0mv\u001b[0m\u001b[1;33m)\u001b[0m\u001b[1;33m\u001b[0m\u001b[1;33m\u001b[0m\u001b[0m\n\u001b[1;32m--> 124\u001b[1;33m         \u001b[0mres\u001b[0m \u001b[1;33m=\u001b[0m \u001b[0msuper\u001b[0m\u001b[1;33m(\u001b[0m\u001b[0mFunction\u001b[0m\u001b[1;33m,\u001b[0m \u001b[0mself\u001b[0m\u001b[1;33m)\u001b[0m\u001b[1;33m.\u001b[0m\u001b[0m__call__\u001b[0m\u001b[1;33m(\u001b[0m\u001b[1;33m*\u001b[0m\u001b[0mnew_args\u001b[0m\u001b[1;33m,\u001b[0m \u001b[1;33m**\u001b[0m\u001b[0mnew_kwargs\u001b[0m\u001b[1;33m)\u001b[0m\u001b[1;33m\u001b[0m\u001b[1;33m\u001b[0m\u001b[0m\n\u001b[0m\u001b[0;32m    125\u001b[0m         \u001b[0mres\u001b[0m \u001b[1;33m=\u001b[0m \u001b[0mconversion\u001b[0m\u001b[1;33m.\u001b[0m\u001b[0mrpy2py\u001b[0m\u001b[1;33m(\u001b[0m\u001b[0mres\u001b[0m\u001b[1;33m)\u001b[0m\u001b[1;33m\u001b[0m\u001b[1;33m\u001b[0m\u001b[0m\n\u001b[0;32m    126\u001b[0m         \u001b[1;32mreturn\u001b[0m \u001b[0mres\u001b[0m\u001b[1;33m\u001b[0m\u001b[1;33m\u001b[0m\u001b[0m\n",
      "\u001b[1;32mC:\\ProgramData\\Anaconda3\\lib\\site-packages\\rpy2\\rinterface_lib\\conversion.py\u001b[0m in \u001b[0;36m_\u001b[1;34m(*args, **kwargs)\u001b[0m\n\u001b[0;32m     43\u001b[0m \u001b[1;32mdef\u001b[0m \u001b[0m_cdata_res_to_rinterface\u001b[0m\u001b[1;33m(\u001b[0m\u001b[0mfunction\u001b[0m\u001b[1;33m)\u001b[0m\u001b[1;33m:\u001b[0m\u001b[1;33m\u001b[0m\u001b[1;33m\u001b[0m\u001b[0m\n\u001b[0;32m     44\u001b[0m     \u001b[1;32mdef\u001b[0m \u001b[0m_\u001b[0m\u001b[1;33m(\u001b[0m\u001b[1;33m*\u001b[0m\u001b[0margs\u001b[0m\u001b[1;33m,\u001b[0m \u001b[1;33m**\u001b[0m\u001b[0mkwargs\u001b[0m\u001b[1;33m)\u001b[0m\u001b[1;33m:\u001b[0m\u001b[1;33m\u001b[0m\u001b[1;33m\u001b[0m\u001b[0m\n\u001b[1;32m---> 45\u001b[1;33m         \u001b[0mcdata\u001b[0m \u001b[1;33m=\u001b[0m \u001b[0mfunction\u001b[0m\u001b[1;33m(\u001b[0m\u001b[1;33m*\u001b[0m\u001b[0margs\u001b[0m\u001b[1;33m,\u001b[0m \u001b[1;33m**\u001b[0m\u001b[0mkwargs\u001b[0m\u001b[1;33m)\u001b[0m\u001b[1;33m\u001b[0m\u001b[1;33m\u001b[0m\u001b[0m\n\u001b[0m\u001b[0;32m     46\u001b[0m         \u001b[1;31m# TODO: test cdata is of the expected CType\u001b[0m\u001b[1;33m\u001b[0m\u001b[1;33m\u001b[0m\u001b[0m\n\u001b[0;32m     47\u001b[0m         \u001b[1;32mreturn\u001b[0m \u001b[0m_cdata_to_rinterface\u001b[0m\u001b[1;33m(\u001b[0m\u001b[0mcdata\u001b[0m\u001b[1;33m)\u001b[0m\u001b[1;33m\u001b[0m\u001b[1;33m\u001b[0m\u001b[0m\n",
      "\u001b[1;32mC:\\ProgramData\\Anaconda3\\lib\\site-packages\\rpy2\\rinterface.py\u001b[0m in \u001b[0;36m__call__\u001b[1;34m(self, *args, **kwargs)\u001b[0m\n\u001b[0;32m    808\u001b[0m             )\n\u001b[0;32m    809\u001b[0m             \u001b[1;32mif\u001b[0m \u001b[0merror_occured\u001b[0m\u001b[1;33m[\u001b[0m\u001b[1;36m0\u001b[0m\u001b[1;33m]\u001b[0m\u001b[1;33m:\u001b[0m\u001b[1;33m\u001b[0m\u001b[1;33m\u001b[0m\u001b[0m\n\u001b[1;32m--> 810\u001b[1;33m                 \u001b[1;32mraise\u001b[0m \u001b[0membedded\u001b[0m\u001b[1;33m.\u001b[0m\u001b[0mRRuntimeError\u001b[0m\u001b[1;33m(\u001b[0m\u001b[0m_rinterface\u001b[0m\u001b[1;33m.\u001b[0m\u001b[0m_geterrmessage\u001b[0m\u001b[1;33m(\u001b[0m\u001b[1;33m)\u001b[0m\u001b[1;33m)\u001b[0m\u001b[1;33m\u001b[0m\u001b[1;33m\u001b[0m\u001b[0m\n\u001b[0m\u001b[0;32m    811\u001b[0m         \u001b[1;32mreturn\u001b[0m \u001b[0mres\u001b[0m\u001b[1;33m\u001b[0m\u001b[1;33m\u001b[0m\u001b[0m\n\u001b[0;32m    812\u001b[0m \u001b[1;33m\u001b[0m\u001b[0m\n",
      "\u001b[1;31mRRuntimeError\u001b[0m: Error in res[1, (nloc + nsc + 1):np] <- initial$shape : \n  number of items to replace is not a multiple of replacement length\n"
     ]
    }
   ],
   "source": [
    "for t in tipo:\n",
    "    for m in metodos:\n",
    "        print(\"Tipo de Ajuste: \", t)\n",
    "        print(\"Tipo de Método del Ajuste: \", m)\n",
    "        result = fevd(max_ws.values, method = m, type = t)\n",
    "        print(result.rx(\"results\")[0])\n",
    "        ro.globalenv[\"result\"] = result\n",
    "        ro.r(\"plot.fevd(result)\")\n",
    "        # %R -i result plot.fevd(result) crashea a la mierda"
   ]
  },
  {
   "cell_type": "markdown",
   "id": "23a0e55a",
   "metadata": {},
   "source": [
    " Se puede aprovechar el potencial de cálculo estadístico de R combinado con el potencial lógico, de carga y administración de datos de python para sacar el mejor provecho de ambos lenguajes. **R** no es un lenguaje de programación sino una **herramienta estadística** y **Python** si es un lenguaje de programación que posee varias herramientas estadísticas."
   ]
  },
  {
   "cell_type": "code",
   "execution_count": null,
   "id": "e1af8652",
   "metadata": {},
   "outputs": [],
   "source": []
  }
 ],
 "metadata": {
  "kernelspec": {
   "display_name": "Python 3 (ipykernel)",
   "language": "python",
   "name": "python3"
  },
  "language_info": {
   "codemirror_mode": {
    "name": "ipython",
    "version": 3
   },
   "file_extension": ".py",
   "mimetype": "text/x-python",
   "name": "python",
   "nbconvert_exporter": "python",
   "pygments_lexer": "ipython3",
   "version": "3.9.7"
  }
 },
 "nbformat": 4,
 "nbformat_minor": 5
}
