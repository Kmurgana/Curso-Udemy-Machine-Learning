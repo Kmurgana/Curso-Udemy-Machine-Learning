{
 "cells": [
  {
   "cell_type": "markdown",
   "id": "1a93e77e",
   "metadata": {},
   "source": [
    "# El método de k-means"
   ]
  },
  {
   "cell_type": "code",
   "execution_count": 1,
   "id": "354a742c",
   "metadata": {},
   "outputs": [],
   "source": [
    "import numpy as np"
   ]
  },
  {
   "cell_type": "code",
   "execution_count": 2,
   "id": "017b5c79",
   "metadata": {},
   "outputs": [
    {
     "data": {
      "text/plain": [
       "array([[0.92109987, 0.56906258, 0.64727939],\n",
       "       [0.55919123, 0.05172538, 0.21932999],\n",
       "       [0.90805456, 0.5383852 , 0.16381645],\n",
       "       [0.8090016 , 0.42125809, 0.04388641],\n",
       "       [0.23760919, 0.32983236, 0.54654162],\n",
       "       [0.68431052, 0.64381587, 0.97410997],\n",
       "       [0.26730938, 0.9336947 , 0.79864046],\n",
       "       [0.44484324, 0.0634494 , 0.80993724],\n",
       "       [0.99441921, 0.38040239, 0.66742724],\n",
       "       [0.57553982, 0.31124665, 0.0971625 ],\n",
       "       [0.61281466, 0.9922274 , 0.50339431],\n",
       "       [0.25428251, 0.95374404, 0.43875459],\n",
       "       [0.43561642, 0.99890634, 0.58883071],\n",
       "       [0.32330891, 0.17585399, 0.74128556],\n",
       "       [0.24546038, 0.4298249 , 0.64882829],\n",
       "       [0.40286689, 0.10936101, 0.65226585],\n",
       "       [0.6201188 , 0.15101004, 0.92115459],\n",
       "       [0.21303982, 0.75591633, 0.44083139],\n",
       "       [0.93205942, 0.61510666, 0.21089914],\n",
       "       [0.55640153, 0.2802549 , 0.49530155],\n",
       "       [0.21831764, 0.37198329, 0.16882207],\n",
       "       [0.54363578, 0.56587905, 0.09779374],\n",
       "       [0.54558932, 0.67453735, 0.92377643],\n",
       "       [0.08621554, 0.39581937, 0.41102462],\n",
       "       [0.32108886, 0.86298699, 0.82819526],\n",
       "       [0.99993061, 0.69584234, 0.29320292],\n",
       "       [0.68524438, 0.58492163, 0.39674957],\n",
       "       [0.8128288 , 0.82506168, 0.66255047],\n",
       "       [0.27363081, 0.2597944 , 0.25849375],\n",
       "       [0.9944207 , 0.34777552, 0.23274862]])"
      ]
     },
     "execution_count": 2,
     "metadata": {},
     "output_type": "execute_result"
    }
   ],
   "source": [
    "data = np.random.random(90).reshape(30,3)\n",
    "data"
   ]
  },
  {
   "cell_type": "code",
   "execution_count": 23,
   "id": "fb740b0d",
   "metadata": {},
   "outputs": [
    {
     "data": {
      "text/plain": [
       "(array([[0.08621554, 0.39581937, 0.41102462],\n",
       "        [0.40286689, 0.10936101, 0.65226585]]),\n",
       " 23,\n",
       " 15,\n",
       " array([0.08621554, 0.39581937, 0.41102462]))"
      ]
     },
     "execution_count": 23,
     "metadata": {},
     "output_type": "execute_result"
    }
   ],
   "source": [
    "c1 = np.random.choice(range(len(data)))\n",
    "c2 = np.random.choice(range(len(data)))\n",
    "clust_centers = np.vstack([data[c1], data[c2]])\n",
    "clust_centers, c1, c2, data[c1]"
   ]
  },
  {
   "cell_type": "code",
   "execution_count": 24,
   "id": "340e91cc",
   "metadata": {},
   "outputs": [],
   "source": [
    "from scipy.cluster.vq import vq"
   ]
  },
  {
   "cell_type": "code",
   "execution_count": 25,
   "id": "00cf8647",
   "metadata": {},
   "outputs": [
    {
     "data": {
      "text/plain": [
       "(array([1, 1, 1, 1, 0, 1, 0, 1, 1, 0, 0, 0, 0, 1, 0, 1, 1, 0, 1, 1, 0, 0,\n",
       "        1, 0, 0, 1, 1, 1, 0, 1]),\n",
       " array([0.69275957, 0.46388858, 0.82332202, 0.79520484, 0.21363329,\n",
       "        0.68442396, 0.68727789, 0.16949973, 0.65086668, 0.58745232,\n",
       "        0.80096275, 0.58334844, 0.71931208, 0.13665761, 0.28821152,\n",
       "        0.        , 0.348187  , 0.3829395 , 0.85476779, 0.27823622,\n",
       "        0.2769137 , 0.57988546, 0.64304897, 0.        , 0.66891137,\n",
       "        0.91069842, 0.60924832, 0.82486483, 0.27729577, 0.76339511]))"
      ]
     },
     "execution_count": 25,
     "metadata": {},
     "output_type": "execute_result"
    }
   ],
   "source": [
    "vq(data, clust_centers)"
   ]
  },
  {
   "cell_type": "markdown",
   "id": "2ff45bd2",
   "metadata": {},
   "source": [
    "Como se ve se vom el método **vq** se generan dos arrays, donde el primero, indica a qué cluster pertenece cada elemento, y el segundo indica la distancia que está cada elemento al varicentro de su clúster correspondiente, ej: 1-0.34444813 y así. **NOTA:** aquellos valores culla distancia sea 0 es porque **son** los varicentros."
   ]
  },
  {
   "cell_type": "code",
   "execution_count": 26,
   "id": "dfc61d1e",
   "metadata": {},
   "outputs": [],
   "source": [
    "from scipy.cluster.vq import kmeans"
   ]
  },
  {
   "cell_type": "code",
   "execution_count": 27,
   "id": "ef5e45a0",
   "metadata": {},
   "outputs": [
    {
     "data": {
      "text/plain": [
       "(array([[0.33704242, 0.62706695, 0.5908235 ],\n",
       "        [0.73497853, 0.40692141, 0.4132191 ]]),\n",
       " 0.3930267540534248)"
      ]
     },
     "execution_count": 27,
     "metadata": {},
     "output_type": "execute_result"
    }
   ],
   "source": [
    "kmeans(data, clust_centers)"
   ]
  },
  {
   "cell_type": "markdown",
   "id": "2ba239d2",
   "metadata": {},
   "source": [
    "Con el método kmeans de scipy tenemos los dos varicentros de cada cluster, así como también un número al final que representa la suma de la diferencia de los cuadrados de las distancias normalizado, dividida la distancia total."
   ]
  },
  {
   "cell_type": "code",
   "execution_count": 34,
   "id": "f1d71e0c",
   "metadata": {},
   "outputs": [
    {
     "data": {
      "text/plain": [
       "(array([[0.79601851, 0.5306842 , 0.32586467],\n",
       "        [0.36058881, 0.4935756 , 0.626282  ]]),\n",
       " 0.37578415402644)"
      ]
     },
     "execution_count": 34,
     "metadata": {},
     "output_type": "execute_result"
    }
   ],
   "source": [
    "kmeans(data,2)"
   ]
  },
  {
   "cell_type": "code",
   "execution_count": null,
   "id": "e2a4fac8",
   "metadata": {},
   "outputs": [],
   "source": []
  }
 ],
 "metadata": {
  "kernelspec": {
   "display_name": "Python 3 (ipykernel)",
   "language": "python",
   "name": "python3"
  },
  "language_info": {
   "codemirror_mode": {
    "name": "ipython",
    "version": 3
   },
   "file_extension": ".py",
   "mimetype": "text/x-python",
   "name": "python",
   "nbconvert_exporter": "python",
   "pygments_lexer": "ipython3",
   "version": "3.9.7"
  }
 },
 "nbformat": 4,
 "nbformat_minor": 5
}
