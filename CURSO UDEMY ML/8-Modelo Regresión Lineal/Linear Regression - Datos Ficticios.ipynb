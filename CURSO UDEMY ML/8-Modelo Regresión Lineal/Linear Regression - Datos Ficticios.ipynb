{
 "cells": [
  {
   "cell_type": "markdown",
   "id": "52ffe01b",
   "metadata": {},
   "source": [
    "# Modelos de Regreción Lineal\n",
    "## Modelo con datos simulados\n",
    "* _Y = a + b*x_\n",
    "* X : 100 valores distribuídos según una N(1.5, 2.5)\n",
    "* Ye: 5  + 1.9 * x + e\n",
    "* e estará distribuída según N(0, 0.8)"
   ]
  },
  {
   "cell_type": "code",
   "execution_count": 129,
   "id": "b00b47e5",
   "metadata": {},
   "outputs": [],
   "source": [
    "import pandas as pd\n",
    "import numpy as np"
   ]
  },
  {
   "cell_type": "code",
   "execution_count": 130,
   "id": "31ff10a9",
   "metadata": {},
   "outputs": [],
   "source": [
    "x = 1.5 + 2.5 * np.random.randn(100)"
   ]
  },
  {
   "cell_type": "code",
   "execution_count": 131,
   "id": "893c10ef",
   "metadata": {},
   "outputs": [],
   "source": [
    "res = 0 + 0.8 * np.random.randn(100)"
   ]
  },
  {
   "cell_type": "code",
   "execution_count": 132,
   "id": "2f843e64",
   "metadata": {},
   "outputs": [],
   "source": [
    "y_pred = 5 + 1.9 * x"
   ]
  },
  {
   "cell_type": "code",
   "execution_count": 133,
   "id": "8a64373c",
   "metadata": {},
   "outputs": [],
   "source": [
    "y_act = 5 + 1.9 * x + res "
   ]
  },
  {
   "cell_type": "code",
   "execution_count": 134,
   "id": "a079bfc4",
   "metadata": {},
   "outputs": [],
   "source": [
    "x_list = x.tolist()\n",
    "y_pred_list = y_pred.tolist()\n",
    "y_act_list = y_act.tolist()"
   ]
  },
  {
   "cell_type": "code",
   "execution_count": 135,
   "id": "7b619c17",
   "metadata": {},
   "outputs": [],
   "source": [
    "data = pd.DataFrame(\n",
    "    {\n",
    "        \"x\" : x_list,\n",
    "        \"y\" : y_act_list,\n",
    "        \"y_pred\": y_pred_list\n",
    "    }\n",
    ")"
   ]
  },
  {
   "cell_type": "code",
   "execution_count": 136,
   "id": "a29eef17",
   "metadata": {},
   "outputs": [
    {
     "data": {
      "text/html": [
       "<div>\n",
       "<style scoped>\n",
       "    .dataframe tbody tr th:only-of-type {\n",
       "        vertical-align: middle;\n",
       "    }\n",
       "\n",
       "    .dataframe tbody tr th {\n",
       "        vertical-align: top;\n",
       "    }\n",
       "\n",
       "    .dataframe thead th {\n",
       "        text-align: right;\n",
       "    }\n",
       "</style>\n",
       "<table border=\"1\" class=\"dataframe\">\n",
       "  <thead>\n",
       "    <tr style=\"text-align: right;\">\n",
       "      <th></th>\n",
       "      <th>x</th>\n",
       "      <th>y</th>\n",
       "      <th>y_pred</th>\n",
       "    </tr>\n",
       "  </thead>\n",
       "  <tbody>\n",
       "    <tr>\n",
       "      <th>0</th>\n",
       "      <td>-3.240001</td>\n",
       "      <td>-0.938988</td>\n",
       "      <td>-1.156002</td>\n",
       "    </tr>\n",
       "    <tr>\n",
       "      <th>1</th>\n",
       "      <td>-3.158869</td>\n",
       "      <td>-0.290625</td>\n",
       "      <td>-1.001851</td>\n",
       "    </tr>\n",
       "    <tr>\n",
       "      <th>2</th>\n",
       "      <td>1.004411</td>\n",
       "      <td>6.557164</td>\n",
       "      <td>6.908381</td>\n",
       "    </tr>\n",
       "    <tr>\n",
       "      <th>3</th>\n",
       "      <td>0.784214</td>\n",
       "      <td>7.430589</td>\n",
       "      <td>6.490007</td>\n",
       "    </tr>\n",
       "    <tr>\n",
       "      <th>4</th>\n",
       "      <td>-0.258224</td>\n",
       "      <td>5.734662</td>\n",
       "      <td>4.509374</td>\n",
       "    </tr>\n",
       "  </tbody>\n",
       "</table>\n",
       "</div>"
      ],
      "text/plain": [
       "          x         y    y_pred\n",
       "0 -3.240001 -0.938988 -1.156002\n",
       "1 -3.158869 -0.290625 -1.001851\n",
       "2  1.004411  6.557164  6.908381\n",
       "3  0.784214  7.430589  6.490007\n",
       "4 -0.258224  5.734662  4.509374"
      ]
     },
     "execution_count": 136,
     "metadata": {},
     "output_type": "execute_result"
    }
   ],
   "source": [
    "data.head()"
   ]
  },
  {
   "cell_type": "code",
   "execution_count": 137,
   "id": "fd973bf4",
   "metadata": {},
   "outputs": [],
   "source": [
    "import matplotlib.pyplot as plt"
   ]
  },
  {
   "cell_type": "code",
   "execution_count": 138,
   "id": "14f8df01",
   "metadata": {},
   "outputs": [],
   "source": [
    "y_mean = [np.mean(y_act) for i in range(1, len(x_list) + 1)] #Vector que tiene el promedio para cada punto de X"
   ]
  },
  {
   "cell_type": "code",
   "execution_count": 139,
   "id": "9fff117a",
   "metadata": {},
   "outputs": [
    {
     "data": {
      "text/plain": [
       "Text(0.5, 1.0, 'Valor Actual vs Predicción')"
      ]
     },
     "execution_count": 139,
     "metadata": {},
     "output_type": "execute_result"
    },
    {
     "data": {
      "image/png": "[encoded data removed]",
      "text/plain": [
       "<Figure size 432x288 with 1 Axes>"
      ]
     },
     "metadata": {
      "needs_background": "light"
     },
     "output_type": "display_data"
    }
   ],
   "source": [
    "%matplotlib inline\n",
    "plt.plot(x, y_pred)\n",
    "plt.plot(x, y_act, \"ro\")\n",
    "plt.plot(x,y_mean, \"g\")\n",
    "plt.title(\"Valor Actual vs Predicción\")"
   ]
  },
  {
   "cell_type": "code",
   "execution_count": 140,
   "id": "3dbc1536",
   "metadata": {},
   "outputs": [
    {
     "data": {
      "text/html": [
       "<div>\n",
       "<style scoped>\n",
       "    .dataframe tbody tr th:only-of-type {\n",
       "        vertical-align: middle;\n",
       "    }\n",
       "\n",
       "    .dataframe tbody tr th {\n",
       "        vertical-align: top;\n",
       "    }\n",
       "\n",
       "    .dataframe thead th {\n",
       "        text-align: right;\n",
       "    }\n",
       "</style>\n",
       "<table border=\"1\" class=\"dataframe\">\n",
       "  <thead>\n",
       "    <tr style=\"text-align: right;\">\n",
       "      <th></th>\n",
       "      <th>x</th>\n",
       "      <th>y</th>\n",
       "      <th>y_pred</th>\n",
       "    </tr>\n",
       "  </thead>\n",
       "  <tbody>\n",
       "    <tr>\n",
       "      <th>x</th>\n",
       "      <td>1.000000</td>\n",
       "      <td>0.985607</td>\n",
       "      <td>1.000000</td>\n",
       "    </tr>\n",
       "    <tr>\n",
       "      <th>y</th>\n",
       "      <td>0.985607</td>\n",
       "      <td>1.000000</td>\n",
       "      <td>0.985607</td>\n",
       "    </tr>\n",
       "    <tr>\n",
       "      <th>y_pred</th>\n",
       "      <td>1.000000</td>\n",
       "      <td>0.985607</td>\n",
       "      <td>1.000000</td>\n",
       "    </tr>\n",
       "  </tbody>\n",
       "</table>\n",
       "</div>"
      ],
      "text/plain": [
       "               x         y    y_pred\n",
       "x       1.000000  0.985607  1.000000\n",
       "y       0.985607  1.000000  0.985607\n",
       "y_pred  1.000000  0.985607  1.000000"
      ]
     },
     "execution_count": 140,
     "metadata": {},
     "output_type": "execute_result"
    }
   ],
   "source": [
    "data.corr()"
   ]
  },
  {
   "cell_type": "code",
   "execution_count": 141,
   "id": "af1d1794",
   "metadata": {},
   "outputs": [],
   "source": [
    "data[\"SSR\"] = (data[\"y_pred\"]-np.mean(y_act))**2\n",
    "data[\"SSD\"] = (data[\"y_pred\"]-data[\"y\"])**2\n",
    "data[\"SST\"] = (data[\"y\"]-np.mean(y_act))**2"
   ]
  },
  {
   "cell_type": "code",
   "execution_count": 142,
   "id": "079ca6b6",
   "metadata": {},
   "outputs": [
    {
     "data": {
      "text/html": [
       "<div>\n",
       "<style scoped>\n",
       "    .dataframe tbody tr th:only-of-type {\n",
       "        vertical-align: middle;\n",
       "    }\n",
       "\n",
       "    .dataframe tbody tr th {\n",
       "        vertical-align: top;\n",
       "    }\n",
       "\n",
       "    .dataframe thead th {\n",
       "        text-align: right;\n",
       "    }\n",
       "</style>\n",
       "<table border=\"1\" class=\"dataframe\">\n",
       "  <thead>\n",
       "    <tr style=\"text-align: right;\">\n",
       "      <th></th>\n",
       "      <th>x</th>\n",
       "      <th>y</th>\n",
       "      <th>y_pred</th>\n",
       "      <th>SSR</th>\n",
       "      <th>SSD</th>\n",
       "      <th>SST</th>\n",
       "    </tr>\n",
       "  </thead>\n",
       "  <tbody>\n",
       "    <tr>\n",
       "      <th>0</th>\n",
       "      <td>-3.240001</td>\n",
       "      <td>-0.938988</td>\n",
       "      <td>-1.156002</td>\n",
       "      <td>71.922453</td>\n",
       "      <td>0.047095</td>\n",
       "      <td>68.288687</td>\n",
       "    </tr>\n",
       "    <tr>\n",
       "      <th>1</th>\n",
       "      <td>-3.158869</td>\n",
       "      <td>-0.290625</td>\n",
       "      <td>-1.001851</td>\n",
       "      <td>69.331597</td>\n",
       "      <td>0.505843</td>\n",
       "      <td>57.993306</td>\n",
       "    </tr>\n",
       "    <tr>\n",
       "      <th>2</th>\n",
       "      <td>1.004411</td>\n",
       "      <td>6.557164</td>\n",
       "      <td>6.908381</td>\n",
       "      <td>0.173329</td>\n",
       "      <td>0.123353</td>\n",
       "      <td>0.589124</td>\n",
       "    </tr>\n",
       "    <tr>\n",
       "      <th>3</th>\n",
       "      <td>0.784214</td>\n",
       "      <td>7.430589</td>\n",
       "      <td>6.490007</td>\n",
       "      <td>0.696727</td>\n",
       "      <td>0.884694</td>\n",
       "      <td>0.011211</td>\n",
       "    </tr>\n",
       "    <tr>\n",
       "      <th>4</th>\n",
       "      <td>-0.258224</td>\n",
       "      <td>5.734662</td>\n",
       "      <td>4.509374</td>\n",
       "      <td>7.926112</td>\n",
       "      <td>1.501332</td>\n",
       "      <td>2.528248</td>\n",
       "    </tr>\n",
       "  </tbody>\n",
       "</table>\n",
       "</div>"
      ],
      "text/plain": [
       "          x         y    y_pred        SSR       SSD        SST\n",
       "0 -3.240001 -0.938988 -1.156002  71.922453  0.047095  68.288687\n",
       "1 -3.158869 -0.290625 -1.001851  69.331597  0.505843  57.993306\n",
       "2  1.004411  6.557164  6.908381   0.173329  0.123353   0.589124\n",
       "3  0.784214  7.430589  6.490007   0.696727  0.884694   0.011211\n",
       "4 -0.258224  5.734662  4.509374   7.926112  1.501332   2.528248"
      ]
     },
     "execution_count": 142,
     "metadata": {},
     "output_type": "execute_result"
    }
   ],
   "source": [
    "data.head()"
   ]
  },
  {
   "cell_type": "code",
   "execution_count": 143,
   "id": "fc369a59",
   "metadata": {},
   "outputs": [],
   "source": [
    "SSR = sum(data[\"SSR\"])\n",
    "SSD = sum(data[\"SSD\"])\n",
    "SST = sum(data[\"SST\"])"
   ]
  },
  {
   "cell_type": "code",
   "execution_count": 144,
   "id": "526c25c1",
   "metadata": {},
   "outputs": [
    {
     "data": {
      "text/plain": [
       "2298.800180753145"
      ]
     },
     "execution_count": 144,
     "metadata": {},
     "output_type": "execute_result"
    }
   ],
   "source": [
    "SSR"
   ]
  },
  {
   "cell_type": "code",
   "execution_count": 145,
   "id": "825695ec",
   "metadata": {},
   "outputs": [
    {
     "data": {
      "text/plain": [
       "66.92268964640527"
      ]
     },
     "execution_count": 145,
     "metadata": {},
     "output_type": "execute_result"
    }
   ],
   "source": [
    "SSD"
   ]
  },
  {
   "cell_type": "code",
   "execution_count": 146,
   "id": "cd5231e0",
   "metadata": {},
   "outputs": [
    {
     "data": {
      "text/plain": [
       "2328.152129266215"
      ]
     },
     "execution_count": 146,
     "metadata": {},
     "output_type": "execute_result"
    }
   ],
   "source": [
    "SST"
   ]
  },
  {
   "cell_type": "code",
   "execution_count": 147,
   "id": "34c21adb",
   "metadata": {},
   "outputs": [
    {
     "data": {
      "text/plain": [
       "2365.72287039955"
      ]
     },
     "execution_count": 147,
     "metadata": {},
     "output_type": "execute_result"
    }
   ],
   "source": [
    "SSR+SSD"
   ]
  },
  {
   "cell_type": "code",
   "execution_count": 148,
   "id": "e8620df2",
   "metadata": {},
   "outputs": [
    {
     "data": {
      "text/plain": [
       "0.9873925985574142"
      ]
     },
     "execution_count": 148,
     "metadata": {},
     "output_type": "execute_result"
    }
   ],
   "source": [
    "R2 = SSR/SST\n",
    "R2"
   ]
  },
  {
   "cell_type": "code",
   "execution_count": 150,
   "id": "26e1405e",
   "metadata": {},
   "outputs": [
    {
     "data": {
      "text/plain": [
       "(array([ 2.,  9., 17., 14., 17., 21.,  7.,  3.,  5.,  5.]),\n",
       " array([-1.73769897, -1.36723709, -0.99677522, -0.62631334, -0.25585147,\n",
       "         0.11461041,  0.48507229,  0.85553416,  1.22599604,  1.59645791,\n",
       "         1.96691979]),\n",
       " <BarContainer object of 10 artists>)"
      ]
     },
     "execution_count": 150,
     "metadata": {},
     "output_type": "execute_result"
    },
    {
     "data": {
      "image/png": "[encoded data removed]",
      "text/plain": [
       "<Figure size 432x288 with 1 Axes>"
      ]
     },
     "metadata": {
      "needs_background": "light"
     },
     "output_type": "display_data"
    }
   ],
   "source": [
    "plt.hist(data[\"y_pred\"]-data[\"y\"])"
   ]
  },
  {
   "cell_type": "markdown",
   "id": "21a97134",
   "metadata": {},
   "source": [
    "# Obteniendo la recta de regresión\n",
    "* y = a + b*x\n",
    "* b = sum((xi -x_m) * (y_i - y_m)/sum((xi-x_m)^2)\n",
    "* a = y_m -b * x_m"
   ]
  },
  {
   "cell_type": "code",
   "execution_count": 155,
   "id": "aa0a6592",
   "metadata": {},
   "outputs": [],
   "source": [
    "x_mean = np.mean(data[\"x\"])\n",
    "y_mean = np.mean(data[\"y\"])"
   ]
  },
  {
   "cell_type": "code",
   "execution_count": 194,
   "id": "58ae9da4",
   "metadata": {},
   "outputs": [],
   "source": [
    "b = np.round_((sum((data[\"x\"]-x_mean) * ((data[\"y\"]-y_mean))) / sum((data[\"x\"]-x_mean)**2)),5)\n",
    "a = np.round_((y_mean - b*x_mean),5)"
   ]
  },
  {
   "cell_type": "code",
   "execution_count": 195,
   "id": "18c3bb75",
   "metadata": {},
   "outputs": [
    {
     "name": "stdout",
     "output_type": "stream",
     "text": [
      "Los coeficientes del modelo lineal son Y = 5.06729 + 1.88467*X\n"
     ]
    }
   ],
   "source": [
    "print(\"Los coeficientes del modelo lineal son Y = \" + str(a)+ \" + \"+ str(b) + \"*X\")"
   ]
  },
  {
   "cell_type": "code",
   "execution_count": 196,
   "id": "0d7d284f",
   "metadata": {},
   "outputs": [],
   "source": [
    "data[\"Y_model\"] = a + b*data[\"x\"]"
   ]
  },
  {
   "cell_type": "code",
   "execution_count": 205,
   "id": "fd8da640",
   "metadata": {},
   "outputs": [
    {
     "data": {
      "text/plain": [
       "Text(0.5, 1.0, 'Valor Actual vs Predicción')"
      ]
     },
     "execution_count": 205,
     "metadata": {},
     "output_type": "execute_result"
    },
    {
     "data": {
      "image/png": "[encoded data removed]",
      "text/plain": [
       "<Figure size 432x288 with 1 Axes>"
      ]
     },
     "metadata": {
      "needs_background": "light"
     },
     "output_type": "display_data"
    }
   ],
   "source": [
    "y_mean = [np.mean(y_act) for i in range(1, len(x_list) + 1)]\n",
    "%matplotlib inline\n",
    "plt.plot(x, data[\"Y_model\"])\n",
    "plt.plot(x, y_act, \"ro\")\n",
    "plt.plot(x, y_pred)\n",
    "plt.plot(x,y_mean, \"g\")\n",
    "plt.title(\"Valor Actual vs Predicción\")"
   ]
  },
  {
   "cell_type": "code",
   "execution_count": 198,
   "id": "93c74750",
   "metadata": {},
   "outputs": [
    {
     "data": {
      "text/plain": [
       "(2261.6188740593316, 66.53362194223065, 2328.1521292662155)"
      ]
     },
     "execution_count": 198,
     "metadata": {},
     "output_type": "execute_result"
    }
   ],
   "source": [
    "SSR = sum((data[\"Y_model\"]-y_mean)**2)\n",
    "SSD = sum((data[\"Y_model\"]-data[\"y\"])**2)\n",
    "SST = sum((data[\"y\"]-y_mean)**2)\n",
    "SSR, SSD, SST"
   ]
  },
  {
   "cell_type": "code",
   "execution_count": 199,
   "id": "2845abe7",
   "metadata": {},
   "outputs": [
    {
     "data": {
      "text/plain": [
       "0.9714222905064825"
      ]
     },
     "execution_count": 199,
     "metadata": {},
     "output_type": "execute_result"
    }
   ],
   "source": [
    "R2 = SSR / SST\n",
    "R2"
   ]
  },
  {
   "cell_type": "code",
   "execution_count": 200,
   "id": "87975b2a",
   "metadata": {},
   "outputs": [
    {
     "data": {
      "text/html": [
       "<div>\n",
       "<style scoped>\n",
       "    .dataframe tbody tr th:only-of-type {\n",
       "        vertical-align: middle;\n",
       "    }\n",
       "\n",
       "    .dataframe tbody tr th {\n",
       "        vertical-align: top;\n",
       "    }\n",
       "\n",
       "    .dataframe thead th {\n",
       "        text-align: right;\n",
       "    }\n",
       "</style>\n",
       "<table border=\"1\" class=\"dataframe\">\n",
       "  <thead>\n",
       "    <tr style=\"text-align: right;\">\n",
       "      <th></th>\n",
       "      <th>x</th>\n",
       "      <th>y</th>\n",
       "      <th>y_pred</th>\n",
       "      <th>SSR</th>\n",
       "      <th>SSD</th>\n",
       "      <th>SST</th>\n",
       "      <th>Y_model</th>\n",
       "    </tr>\n",
       "  </thead>\n",
       "  <tbody>\n",
       "    <tr>\n",
       "      <th>0</th>\n",
       "      <td>-3.240001</td>\n",
       "      <td>-0.938988</td>\n",
       "      <td>-1.156002</td>\n",
       "      <td>71.922453</td>\n",
       "      <td>0.047095</td>\n",
       "      <td>68.288687</td>\n",
       "      <td>-1.039043</td>\n",
       "    </tr>\n",
       "    <tr>\n",
       "      <th>1</th>\n",
       "      <td>-3.158869</td>\n",
       "      <td>-0.290625</td>\n",
       "      <td>-1.001851</td>\n",
       "      <td>69.331597</td>\n",
       "      <td>0.505843</td>\n",
       "      <td>57.993306</td>\n",
       "      <td>-0.886135</td>\n",
       "    </tr>\n",
       "    <tr>\n",
       "      <th>2</th>\n",
       "      <td>1.004411</td>\n",
       "      <td>6.557164</td>\n",
       "      <td>6.908381</td>\n",
       "      <td>0.173329</td>\n",
       "      <td>0.123353</td>\n",
       "      <td>0.589124</td>\n",
       "      <td>6.960273</td>\n",
       "    </tr>\n",
       "    <tr>\n",
       "      <th>3</th>\n",
       "      <td>0.784214</td>\n",
       "      <td>7.430589</td>\n",
       "      <td>6.490007</td>\n",
       "      <td>0.696727</td>\n",
       "      <td>0.884694</td>\n",
       "      <td>0.011211</td>\n",
       "      <td>6.545275</td>\n",
       "    </tr>\n",
       "    <tr>\n",
       "      <th>4</th>\n",
       "      <td>-0.258224</td>\n",
       "      <td>5.734662</td>\n",
       "      <td>4.509374</td>\n",
       "      <td>7.926112</td>\n",
       "      <td>1.501332</td>\n",
       "      <td>2.528248</td>\n",
       "      <td>4.580622</td>\n",
       "    </tr>\n",
       "  </tbody>\n",
       "</table>\n",
       "</div>"
      ],
      "text/plain": [
       "          x         y    y_pred        SSR       SSD        SST   Y_model\n",
       "0 -3.240001 -0.938988 -1.156002  71.922453  0.047095  68.288687 -1.039043\n",
       "1 -3.158869 -0.290625 -1.001851  69.331597  0.505843  57.993306 -0.886135\n",
       "2  1.004411  6.557164  6.908381   0.173329  0.123353   0.589124  6.960273\n",
       "3  0.784214  7.430589  6.490007   0.696727  0.884694   0.011211  6.545275\n",
       "4 -0.258224  5.734662  4.509374   7.926112  1.501332   2.528248  4.580622"
      ]
     },
     "execution_count": 200,
     "metadata": {},
     "output_type": "execute_result"
    }
   ],
   "source": [
    "data.head()"
   ]
  },
  {
   "cell_type": "markdown",
   "id": "fa6500f4",
   "metadata": {},
   "source": [
    "# Error estándar residual RSE"
   ]
  },
  {
   "cell_type": "code",
   "execution_count": 207,
   "id": "10613808",
   "metadata": {},
   "outputs": [
    {
     "data": {
      "text/plain": [
       "0.8239626870281194"
      ]
     },
     "execution_count": 207,
     "metadata": {},
     "output_type": "execute_result"
    }
   ],
   "source": [
    "RSE = np.sqrt(SSD/(len(data)-2))\n",
    "RSE"
   ]
  },
  {
   "cell_type": "code",
   "execution_count": 208,
   "id": "4fd41d42",
   "metadata": {},
   "outputs": [
    {
     "data": {
      "text/plain": [
       "7.32470882188162"
      ]
     },
     "execution_count": 208,
     "metadata": {},
     "output_type": "execute_result"
    }
   ],
   "source": [
    "np.mean(data[\"y\"])"
   ]
  },
  {
   "cell_type": "code",
   "execution_count": 209,
   "id": "80d535ee",
   "metadata": {},
   "outputs": [
    {
     "data": {
      "text/plain": [
       "0.11249084531068831"
      ]
     },
     "execution_count": 209,
     "metadata": {},
     "output_type": "execute_result"
    }
   ],
   "source": [
    "RSE / np.mean(data[\"y\"])"
   ]
  },
  {
   "cell_type": "code",
   "execution_count": null,
   "id": "7b866bee",
   "metadata": {},
   "outputs": [],
   "source": []
  }
 ],
 "metadata": {
  "kernelspec": {
   "display_name": "Python 3 (ipykernel)",
   "language": "python",
   "name": "python3"
  },
  "language_info": {
   "codemirror_mode": {
    "name": "ipython",
    "version": 3
   },
   "file_extension": ".py",
   "mimetype": "text/x-python",
   "name": "python",
   "nbconvert_exporter": "python",
   "pygments_lexer": "ipython3",
   "version": "3.9.7"
  }
 },
 "nbformat": 4,
 "nbformat_minor": 5
}
