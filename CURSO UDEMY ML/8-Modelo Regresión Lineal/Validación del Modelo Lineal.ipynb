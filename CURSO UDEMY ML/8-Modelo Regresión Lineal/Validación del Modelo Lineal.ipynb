{
 "cells": [
  {
   "cell_type": "markdown",
   "id": "9684a608",
   "metadata": {},
   "source": [
    "# Dividir el dataset en conjunto de entrenamiento y de testing"
   ]
  },
  {
   "cell_type": "code",
   "execution_count": 3,
   "id": "8d5c7e3c",
   "metadata": {},
   "outputs": [],
   "source": [
    "import pandas as pd\n",
    "import numpy as np\n",
    "import statsmodels.formula.api as smf\n",
    "import matplotlib.pyplot as plt"
   ]
  },
  {
   "cell_type": "code",
   "execution_count": 4,
   "id": "43b8f69c",
   "metadata": {},
   "outputs": [],
   "source": [
    "mainpath = \"C:/Users/kmurg/OneDrive/Escritorio/Kev/1-Cursos/Machine Learning/python-ml-course-master/datasets\"\n",
    "data = pd.read_csv(mainpath+\"/\"+\"ads/Advertising.csv\")"
   ]
  },
  {
   "cell_type": "code",
   "execution_count": 18,
   "id": "37b960b3",
   "metadata": {},
   "outputs": [],
   "source": [
    "a = np.random.randn(len(data))  "
   ]
  },
  {
   "cell_type": "code",
   "execution_count": 13,
   "id": "f663604c",
   "metadata": {},
   "outputs": [
    {
     "data": {
      "text/plain": [
       "(array([ 4.,  3., 20., 42., 38., 53., 26.,  9.,  3.,  2.]),\n",
       " array([-2.88017523, -2.2616319 , -1.64308857, -1.02454524, -0.40600191,\n",
       "         0.21254142,  0.83108476,  1.44962809,  2.06817142,  2.68671475,\n",
       "         3.30525808]),\n",
       " <BarContainer object of 10 artists>)"
      ]
     },
     "execution_count": 13,
     "metadata": {},
     "output_type": "execute_result"
    },
    {
     "data": {
      "image/png": "[encoded data removed]",
      "text/plain": [
       "<Figure size 432x288 with 1 Axes>"
      ]
     },
     "metadata": {
      "needs_background": "light"
     },
     "output_type": "display_data"
    }
   ],
   "source": [
    "plt.hist(a)"
   ]
  },
  {
   "cell_type": "code",
   "execution_count": 14,
   "id": "05fbbb4e",
   "metadata": {},
   "outputs": [],
   "source": [
    "check = (a<0.8)\n",
    "training = data[check]\n",
    "testing = data[~check]"
   ]
  },
  {
   "cell_type": "code",
   "execution_count": 15,
   "id": "61f5c3cd",
   "metadata": {},
   "outputs": [
    {
     "data": {
      "text/plain": [
       "(159, 41)"
      ]
     },
     "execution_count": 15,
     "metadata": {},
     "output_type": "execute_result"
    }
   ],
   "source": [
    "len(training), len(testing)"
   ]
  },
  {
   "cell_type": "code",
   "execution_count": 16,
   "id": "321a563d",
   "metadata": {},
   "outputs": [],
   "source": [
    "lm = smf.ols(formula=\"Sales~TV+Radio\", data=training).fit()"
   ]
  },
  {
   "cell_type": "code",
   "execution_count": 17,
   "id": "362c745a",
   "metadata": {},
   "outputs": [
    {
     "data": {
      "text/html": [
       "<table class=\"simpletable\">\n",
       "<caption>OLS Regression Results</caption>\n",
       "<tr>\n",
       "  <th>Dep. Variable:</th>          <td>Sales</td>      <th>  R-squared:         </th> <td>   0.888</td>\n",
       "</tr>\n",
       "<tr>\n",
       "  <th>Model:</th>                   <td>OLS</td>       <th>  Adj. R-squared:    </th> <td>   0.886</td>\n",
       "</tr>\n",
       "<tr>\n",
       "  <th>Method:</th>             <td>Least Squares</td>  <th>  F-statistic:       </th> <td>   618.0</td>\n",
       "</tr>\n",
       "<tr>\n",
       "  <th>Date:</th>             <td>Tue, 15 Mar 2022</td> <th>  Prob (F-statistic):</th> <td>7.27e-75</td>\n",
       "</tr>\n",
       "<tr>\n",
       "  <th>Time:</th>                 <td>10:39:54</td>     <th>  Log-Likelihood:    </th> <td> -312.40</td>\n",
       "</tr>\n",
       "<tr>\n",
       "  <th>No. Observations:</th>      <td>   159</td>      <th>  AIC:               </th> <td>   630.8</td>\n",
       "</tr>\n",
       "<tr>\n",
       "  <th>Df Residuals:</th>          <td>   156</td>      <th>  BIC:               </th> <td>   640.0</td>\n",
       "</tr>\n",
       "<tr>\n",
       "  <th>Df Model:</th>              <td>     2</td>      <th>                     </th>     <td> </td>   \n",
       "</tr>\n",
       "<tr>\n",
       "  <th>Covariance Type:</th>      <td>nonrobust</td>    <th>                     </th>     <td> </td>   \n",
       "</tr>\n",
       "</table>\n",
       "<table class=\"simpletable\">\n",
       "<tr>\n",
       "      <td></td>         <th>coef</th>     <th>std err</th>      <th>t</th>      <th>P>|t|</th>  <th>[0.025</th>    <th>0.975]</th>  \n",
       "</tr>\n",
       "<tr>\n",
       "  <th>Intercept</th> <td>    2.8861</td> <td>    0.347</td> <td>    8.318</td> <td> 0.000</td> <td>    2.201</td> <td>    3.571</td>\n",
       "</tr>\n",
       "<tr>\n",
       "  <th>TV</th>        <td>    0.0463</td> <td>    0.002</td> <td>   29.123</td> <td> 0.000</td> <td>    0.043</td> <td>    0.049</td>\n",
       "</tr>\n",
       "<tr>\n",
       "  <th>Radio</th>     <td>    0.1818</td> <td>    0.009</td> <td>   19.636</td> <td> 0.000</td> <td>    0.164</td> <td>    0.200</td>\n",
       "</tr>\n",
       "</table>\n",
       "<table class=\"simpletable\">\n",
       "<tr>\n",
       "  <th>Omnibus:</th>       <td>47.038</td> <th>  Durbin-Watson:     </th> <td>   1.867</td>\n",
       "</tr>\n",
       "<tr>\n",
       "  <th>Prob(Omnibus):</th> <td> 0.000</td> <th>  Jarque-Bera (JB):  </th> <td> 104.090</td>\n",
       "</tr>\n",
       "<tr>\n",
       "  <th>Skew:</th>          <td>-1.289</td> <th>  Prob(JB):          </th> <td>2.50e-23</td>\n",
       "</tr>\n",
       "<tr>\n",
       "  <th>Kurtosis:</th>      <td> 6.010</td> <th>  Cond. No.          </th> <td>    429.</td>\n",
       "</tr>\n",
       "</table><br/><br/>Notes:<br/>[1] Standard Errors assume that the covariance matrix of the errors is correctly specified."
      ],
      "text/plain": [
       "<class 'statsmodels.iolib.summary.Summary'>\n",
       "\"\"\"\n",
       "                            OLS Regression Results                            \n",
       "==============================================================================\n",
       "Dep. Variable:                  Sales   R-squared:                       0.888\n",
       "Model:                            OLS   Adj. R-squared:                  0.886\n",
       "Method:                 Least Squares   F-statistic:                     618.0\n",
       "Date:                Tue, 15 Mar 2022   Prob (F-statistic):           7.27e-75\n",
       "Time:                        10:39:54   Log-Likelihood:                -312.40\n",
       "No. Observations:                 159   AIC:                             630.8\n",
       "Df Residuals:                     156   BIC:                             640.0\n",
       "Df Model:                           2                                         \n",
       "Covariance Type:            nonrobust                                         \n",
       "==============================================================================\n",
       "                 coef    std err          t      P>|t|      [0.025      0.975]\n",
       "------------------------------------------------------------------------------\n",
       "Intercept      2.8861      0.347      8.318      0.000       2.201       3.571\n",
       "TV             0.0463      0.002     29.123      0.000       0.043       0.049\n",
       "Radio          0.1818      0.009     19.636      0.000       0.164       0.200\n",
       "==============================================================================\n",
       "Omnibus:                       47.038   Durbin-Watson:                   1.867\n",
       "Prob(Omnibus):                  0.000   Jarque-Bera (JB):              104.090\n",
       "Skew:                          -1.289   Prob(JB):                     2.50e-23\n",
       "Kurtosis:                       6.010   Cond. No.                         429.\n",
       "==============================================================================\n",
       "\n",
       "Notes:\n",
       "[1] Standard Errors assume that the covariance matrix of the errors is correctly specified.\n",
       "\"\"\""
      ]
     },
     "execution_count": 17,
     "metadata": {},
     "output_type": "execute_result"
    }
   ],
   "source": [
    "lm.summary()"
   ]
  },
  {
   "cell_type": "markdown",
   "id": "468ecbe4",
   "metadata": {},
   "source": [
    "Sales = 2.8861 + 0.0463 TV + 0.1818 Radio"
   ]
  },
  {
   "cell_type": "markdown",
   "id": "6d7dea5d",
   "metadata": {},
   "source": [
    "# Validación del modelo con el conjunto de testing"
   ]
  },
  {
   "cell_type": "code",
   "execution_count": 21,
   "id": "ef0a2d0c",
   "metadata": {},
   "outputs": [
    {
     "data": {
      "text/plain": [
       "0      20.404829\n",
       "19     14.046646\n",
       "24      8.059462\n",
       "29      9.061701\n",
       "34      7.568078\n",
       "36     23.198361\n",
       "38      9.735121\n",
       "39     20.289492\n",
       "58     21.657634\n",
       "60      5.724855\n",
       "65      7.769362\n",
       "71     10.566110\n",
       "79      9.652812\n",
       "81     14.725633\n",
       "87     15.390097\n",
       "88     11.608032\n",
       "105    17.703131\n",
       "110    14.823479\n",
       "111    20.977855\n",
       "116    11.926262\n",
       "120    14.296395\n",
       "121     7.701723\n",
       "123    14.872736\n",
       "132     8.220692\n",
       "146    15.321395\n",
       "150    18.399832\n",
       "153    18.030020\n",
       "154    15.411176\n",
       "157    10.052757\n",
       "159    12.324822\n",
       "162    14.893419\n",
       "165    14.353149\n",
       "171    14.296865\n",
       "173    11.967924\n",
       "179    12.365717\n",
       "183    24.010548\n",
       "184    18.500944\n",
       "189     5.951448\n",
       "192     4.427345\n",
       "194    16.285187\n",
       "198    23.643655\n",
       "dtype: float64"
      ]
     },
     "execution_count": 21,
     "metadata": {},
     "output_type": "execute_result"
    }
   ],
   "source": [
    "sales_pred = lm.predict(testing)\n",
    "sales_pred"
   ]
  },
  {
   "cell_type": "code",
   "execution_count": 23,
   "id": "91834b19",
   "metadata": {
    "scrolled": true
   },
   "outputs": [
    {
     "data": {
      "text/plain": [
       "87.3098789597455"
      ]
     },
     "execution_count": 23,
     "metadata": {},
     "output_type": "execute_result"
    }
   ],
   "source": [
    "SSD = sum((testing[\"Sales\"] - sales_pred)**2)\n",
    "SSD"
   ]
  },
  {
   "cell_type": "code",
   "execution_count": 25,
   "id": "d1b29edb",
   "metadata": {
    "scrolled": false
   },
   "outputs": [
    {
     "data": {
      "text/plain": [
       "1.5157929916969246"
      ]
     },
     "execution_count": 25,
     "metadata": {},
     "output_type": "execute_result"
    }
   ],
   "source": [
    "RSE = np.sqrt(SSD/(len(testing)-2-1))\n",
    "RSE"
   ]
  },
  {
   "cell_type": "code",
   "execution_count": 27,
   "id": "5e38d49f",
   "metadata": {
    "scrolled": true
   },
   "outputs": [
    {
     "data": {
      "text/plain": [
       "10.517433179822966"
      ]
     },
     "execution_count": 27,
     "metadata": {},
     "output_type": "execute_result"
    }
   ],
   "source": [
    "sales_mean = np.mean(testing[\"Sales\"])\n",
    "error = RSE / sales_mean *100\n",
    "error"
   ]
  },
  {
   "cell_type": "code",
   "execution_count": null,
   "id": "31837f1e",
   "metadata": {},
   "outputs": [],
   "source": []
  }
 ],
 "metadata": {
  "kernelspec": {
   "display_name": "Python 3 (ipykernel)",
   "language": "python",
   "name": "python3"
  },
  "language_info": {
   "codemirror_mode": {
    "name": "ipython",
    "version": 3
   },
   "file_extension": ".py",
   "mimetype": "text/x-python",
   "name": "python",
   "nbconvert_exporter": "python",
   "pygments_lexer": "ipython3",
   "version": "3.9.7"
  }
 },
 "nbformat": 4,
 "nbformat_minor": 5
}
