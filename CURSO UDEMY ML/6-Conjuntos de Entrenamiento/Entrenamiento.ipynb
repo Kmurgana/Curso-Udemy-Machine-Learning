{
 "cells": [
  {
   "cell_type": "markdown",
   "id": "9b979afc",
   "metadata": {},
   "source": [
    "# Conjunto de entrenamiento y de testing"
   ]
  },
  {
   "cell_type": "code",
   "execution_count": 2,
   "id": "5b485d27",
   "metadata": {},
   "outputs": [],
   "source": [
    "import pandas as pd\n",
    "import numpy as np\n",
    "import matplotlib.pyplot as plt"
   ]
  },
  {
   "cell_type": "markdown",
   "id": "93d80d7d",
   "metadata": {},
   "source": [
    "En vez de utilizar la librería ya no existe:\n",
    "\n",
    "from sklearn.cross_validation import train_test_split\n",
    "\n",
    "ahora es mejor utilizar:\n",
    "\n",
    "from sklearn.model_selection import train_test_split\n",
    "\n",
    "\n",
    "También cuidado si quieres representar un vector de variables booleanas, ya que al hacer un histograma obtendrás un error. Ahora debes añadir un casting con .astype(int) al final de la lista de python para poderlo representar.\n",
    "\n",
    "Antes: plt.hist(check)\n",
    "Después plt.hist(check.astype(int))"
   ]
  },
  {
   "cell_type": "code",
   "execution_count": 4,
   "id": "7877d7e2",
   "metadata": {},
   "outputs": [],
   "source": [
    "mainpath = \"C:/Users/kmurg/OneDrive/Escritorio/Kev/1-Cursos/Machine Learning/python-ml-course-master/datasets\"\n",
    "data = pd.read_csv(mainpath+\"/\"+\"customer-churn-model/Customer Churn Model.txt\")"
   ]
  },
  {
   "cell_type": "code",
   "execution_count": 5,
   "id": "41da2983",
   "metadata": {},
   "outputs": [
    {
     "data": {
      "text/plain": [
       "3333"
      ]
     },
     "execution_count": 5,
     "metadata": {},
     "output_type": "execute_result"
    }
   ],
   "source": [
    "len(data)"
   ]
  },
  {
   "cell_type": "markdown",
   "id": "9556c110",
   "metadata": {},
   "source": [
    "## Dividir utilizando la distribución normal"
   ]
  },
  {
   "cell_type": "code",
   "execution_count": 6,
   "id": "7ec92877",
   "metadata": {},
   "outputs": [],
   "source": [
    "a = np.random.randn(len(data))"
   ]
  },
  {
   "cell_type": "code",
   "execution_count": 7,
   "id": "58de85e5",
   "metadata": {},
   "outputs": [
    {
     "data": {
      "text/plain": [
       "(array([  3.,  23., 131., 446., 899., 992., 590., 201.,  42.,   6.]),\n",
       " array([-3.97349695, -3.20117909, -2.42886124, -1.65654338, -0.88422552,\n",
       "        -0.11190766,  0.66041019,  1.43272805,  2.20504591,  2.97736376,\n",
       "         3.74968162]),\n",
       " <BarContainer object of 10 artists>)"
      ]
     },
     "execution_count": 7,
     "metadata": {},
     "output_type": "execute_result"
    },
    {
     "data": {
      "image/png": "[encoded data removed]",
      "text/plain": [
       "<Figure size 432x288 with 1 Axes>"
      ]
     },
     "metadata": {
      "needs_background": "light"
     },
     "output_type": "display_data"
    }
   ],
   "source": [
    "plt.hist(a)"
   ]
  },
  {
   "cell_type": "code",
   "execution_count": 17,
   "id": "5b25526a",
   "metadata": {},
   "outputs": [],
   "source": [
    "check = (a<0.8)"
   ]
  },
  {
   "cell_type": "code",
   "execution_count": 18,
   "id": "a8728a91",
   "metadata": {},
   "outputs": [
    {
     "data": {
      "text/plain": [
       "array([ True,  True, False, ...,  True,  True,  True])"
      ]
     },
     "execution_count": 18,
     "metadata": {},
     "output_type": "execute_result"
    }
   ],
   "source": [
    "check"
   ]
  },
  {
   "cell_type": "code",
   "execution_count": 26,
   "id": "bbab54c5",
   "metadata": {},
   "outputs": [
    {
     "data": {
      "text/plain": [
       "3333"
      ]
     },
     "execution_count": 26,
     "metadata": {},
     "output_type": "execute_result"
    }
   ],
   "source": [
    "len(check)"
   ]
  },
  {
   "cell_type": "code",
   "execution_count": 19,
   "id": "9631475c",
   "metadata": {},
   "outputs": [
    {
     "data": {
      "text/plain": [
       "(array([ 694.,    0.,    0.,    0.,    0.,    0.,    0.,    0.,    0.,\n",
       "        2639.]),\n",
       " array([0. , 0.1, 0.2, 0.3, 0.4, 0.5, 0.6, 0.7, 0.8, 0.9, 1. ]),\n",
       " <BarContainer object of 10 artists>)"
      ]
     },
     "execution_count": 19,
     "metadata": {},
     "output_type": "execute_result"
    },
    {
     "data": {
      "image/png": "[encoded data removed]",
      "text/plain": [
       "<Figure size 432x288 with 1 Axes>"
      ]
     },
     "metadata": {
      "needs_background": "light"
     },
     "output_type": "display_data"
    }
   ],
   "source": [
    "plt.hist(check.astype(int))"
   ]
  },
  {
   "cell_type": "code",
   "execution_count": 20,
   "id": "5c259975",
   "metadata": {},
   "outputs": [],
   "source": [
    "training = data[check]\n",
    "testing = data[~check]"
   ]
  },
  {
   "cell_type": "code",
   "execution_count": 25,
   "id": "611253ee",
   "metadata": {},
   "outputs": [
    {
     "data": {
      "text/plain": [
       "2639"
      ]
     },
     "execution_count": 25,
     "metadata": {},
     "output_type": "execute_result"
    }
   ],
   "source": [
    "len(training) "
   ]
  },
  {
   "cell_type": "code",
   "execution_count": 23,
   "id": "36a0ebe9",
   "metadata": {},
   "outputs": [
    {
     "data": {
      "text/plain": [
       "694"
      ]
     },
     "execution_count": 23,
     "metadata": {},
     "output_type": "execute_result"
    }
   ],
   "source": [
    "len(testing)"
   ]
  },
  {
   "cell_type": "markdown",
   "id": "68a9c502",
   "metadata": {},
   "source": [
    "## Con la librería sklearn"
   ]
  },
  {
   "cell_type": "code",
   "execution_count": 27,
   "id": "7fbc213f",
   "metadata": {},
   "outputs": [],
   "source": [
    "from sklearn.model_selection import train_test_split"
   ]
  },
  {
   "cell_type": "code",
   "execution_count": 28,
   "id": "775eabaa",
   "metadata": {},
   "outputs": [],
   "source": [
    "train, test = train_test_split(data, test_size = 0.2)"
   ]
  },
  {
   "cell_type": "code",
   "execution_count": 29,
   "id": "cd53d672",
   "metadata": {},
   "outputs": [
    {
     "data": {
      "text/plain": [
       "667"
      ]
     },
     "execution_count": 29,
     "metadata": {},
     "output_type": "execute_result"
    }
   ],
   "source": [
    "len(test)"
   ]
  },
  {
   "cell_type": "code",
   "execution_count": 30,
   "id": "c6060da2",
   "metadata": {},
   "outputs": [
    {
     "data": {
      "text/plain": [
       "2666"
      ]
     },
     "execution_count": 30,
     "metadata": {},
     "output_type": "execute_result"
    }
   ],
   "source": [
    "len(train)"
   ]
  },
  {
   "cell_type": "code",
   "execution_count": 31,
   "id": "f8fb96fd",
   "metadata": {},
   "outputs": [
    {
     "data": {
      "text/html": [
       "<div>\n",
       "<style scoped>\n",
       "    .dataframe tbody tr th:only-of-type {\n",
       "        vertical-align: middle;\n",
       "    }\n",
       "\n",
       "    .dataframe tbody tr th {\n",
       "        vertical-align: top;\n",
       "    }\n",
       "\n",
       "    .dataframe thead th {\n",
       "        text-align: right;\n",
       "    }\n",
       "</style>\n",
       "<table border=\"1\" class=\"dataframe\">\n",
       "  <thead>\n",
       "    <tr style=\"text-align: right;\">\n",
       "      <th></th>\n",
       "      <th>State</th>\n",
       "      <th>Account Length</th>\n",
       "      <th>Area Code</th>\n",
       "      <th>Phone</th>\n",
       "      <th>Int'l Plan</th>\n",
       "      <th>VMail Plan</th>\n",
       "      <th>VMail Message</th>\n",
       "      <th>Day Mins</th>\n",
       "      <th>Day Calls</th>\n",
       "      <th>Day Charge</th>\n",
       "      <th>...</th>\n",
       "      <th>Eve Calls</th>\n",
       "      <th>Eve Charge</th>\n",
       "      <th>Night Mins</th>\n",
       "      <th>Night Calls</th>\n",
       "      <th>Night Charge</th>\n",
       "      <th>Intl Mins</th>\n",
       "      <th>Intl Calls</th>\n",
       "      <th>Intl Charge</th>\n",
       "      <th>CustServ Calls</th>\n",
       "      <th>Churn?</th>\n",
       "    </tr>\n",
       "  </thead>\n",
       "  <tbody>\n",
       "    <tr>\n",
       "      <th>2185</th>\n",
       "      <td>TX</td>\n",
       "      <td>126</td>\n",
       "      <td>415</td>\n",
       "      <td>386-9711</td>\n",
       "      <td>no</td>\n",
       "      <td>no</td>\n",
       "      <td>0</td>\n",
       "      <td>190.9</td>\n",
       "      <td>143</td>\n",
       "      <td>32.45</td>\n",
       "      <td>...</td>\n",
       "      <td>72</td>\n",
       "      <td>12.72</td>\n",
       "      <td>191.4</td>\n",
       "      <td>87</td>\n",
       "      <td>8.61</td>\n",
       "      <td>13.0</td>\n",
       "      <td>3</td>\n",
       "      <td>3.51</td>\n",
       "      <td>1</td>\n",
       "      <td>False.</td>\n",
       "    </tr>\n",
       "    <tr>\n",
       "      <th>1476</th>\n",
       "      <td>NH</td>\n",
       "      <td>121</td>\n",
       "      <td>510</td>\n",
       "      <td>346-6352</td>\n",
       "      <td>no</td>\n",
       "      <td>yes</td>\n",
       "      <td>35</td>\n",
       "      <td>193.8</td>\n",
       "      <td>62</td>\n",
       "      <td>32.95</td>\n",
       "      <td>...</td>\n",
       "      <td>97</td>\n",
       "      <td>16.80</td>\n",
       "      <td>218.8</td>\n",
       "      <td>95</td>\n",
       "      <td>9.85</td>\n",
       "      <td>5.9</td>\n",
       "      <td>4</td>\n",
       "      <td>1.59</td>\n",
       "      <td>0</td>\n",
       "      <td>False.</td>\n",
       "    </tr>\n",
       "    <tr>\n",
       "      <th>824</th>\n",
       "      <td>DE</td>\n",
       "      <td>147</td>\n",
       "      <td>510</td>\n",
       "      <td>400-2203</td>\n",
       "      <td>no</td>\n",
       "      <td>no</td>\n",
       "      <td>0</td>\n",
       "      <td>209.4</td>\n",
       "      <td>104</td>\n",
       "      <td>35.60</td>\n",
       "      <td>...</td>\n",
       "      <td>78</td>\n",
       "      <td>11.26</td>\n",
       "      <td>149.4</td>\n",
       "      <td>123</td>\n",
       "      <td>6.72</td>\n",
       "      <td>11.3</td>\n",
       "      <td>3</td>\n",
       "      <td>3.05</td>\n",
       "      <td>2</td>\n",
       "      <td>False.</td>\n",
       "    </tr>\n",
       "    <tr>\n",
       "      <th>3214</th>\n",
       "      <td>OK</td>\n",
       "      <td>149</td>\n",
       "      <td>510</td>\n",
       "      <td>365-9079</td>\n",
       "      <td>yes</td>\n",
       "      <td>no</td>\n",
       "      <td>0</td>\n",
       "      <td>180.9</td>\n",
       "      <td>79</td>\n",
       "      <td>30.75</td>\n",
       "      <td>...</td>\n",
       "      <td>83</td>\n",
       "      <td>16.57</td>\n",
       "      <td>197.8</td>\n",
       "      <td>109</td>\n",
       "      <td>8.90</td>\n",
       "      <td>8.8</td>\n",
       "      <td>9</td>\n",
       "      <td>2.38</td>\n",
       "      <td>3</td>\n",
       "      <td>False.</td>\n",
       "    </tr>\n",
       "    <tr>\n",
       "      <th>410</th>\n",
       "      <td>OR</td>\n",
       "      <td>25</td>\n",
       "      <td>408</td>\n",
       "      <td>422-5874</td>\n",
       "      <td>no</td>\n",
       "      <td>no</td>\n",
       "      <td>0</td>\n",
       "      <td>178.8</td>\n",
       "      <td>90</td>\n",
       "      <td>30.40</td>\n",
       "      <td>...</td>\n",
       "      <td>72</td>\n",
       "      <td>12.00</td>\n",
       "      <td>203.0</td>\n",
       "      <td>99</td>\n",
       "      <td>9.14</td>\n",
       "      <td>8.4</td>\n",
       "      <td>5</td>\n",
       "      <td>2.27</td>\n",
       "      <td>2</td>\n",
       "      <td>False.</td>\n",
       "    </tr>\n",
       "    <tr>\n",
       "      <th>...</th>\n",
       "      <td>...</td>\n",
       "      <td>...</td>\n",
       "      <td>...</td>\n",
       "      <td>...</td>\n",
       "      <td>...</td>\n",
       "      <td>...</td>\n",
       "      <td>...</td>\n",
       "      <td>...</td>\n",
       "      <td>...</td>\n",
       "      <td>...</td>\n",
       "      <td>...</td>\n",
       "      <td>...</td>\n",
       "      <td>...</td>\n",
       "      <td>...</td>\n",
       "      <td>...</td>\n",
       "      <td>...</td>\n",
       "      <td>...</td>\n",
       "      <td>...</td>\n",
       "      <td>...</td>\n",
       "      <td>...</td>\n",
       "      <td>...</td>\n",
       "    </tr>\n",
       "    <tr>\n",
       "      <th>2995</th>\n",
       "      <td>AZ</td>\n",
       "      <td>69</td>\n",
       "      <td>415</td>\n",
       "      <td>419-3937</td>\n",
       "      <td>no</td>\n",
       "      <td>yes</td>\n",
       "      <td>31</td>\n",
       "      <td>194.9</td>\n",
       "      <td>63</td>\n",
       "      <td>33.13</td>\n",
       "      <td>...</td>\n",
       "      <td>90</td>\n",
       "      <td>16.29</td>\n",
       "      <td>153.0</td>\n",
       "      <td>129</td>\n",
       "      <td>6.89</td>\n",
       "      <td>13.2</td>\n",
       "      <td>2</td>\n",
       "      <td>3.56</td>\n",
       "      <td>2</td>\n",
       "      <td>False.</td>\n",
       "    </tr>\n",
       "    <tr>\n",
       "      <th>759</th>\n",
       "      <td>NV</td>\n",
       "      <td>136</td>\n",
       "      <td>415</td>\n",
       "      <td>416-5261</td>\n",
       "      <td>no</td>\n",
       "      <td>yes</td>\n",
       "      <td>21</td>\n",
       "      <td>179.4</td>\n",
       "      <td>88</td>\n",
       "      <td>30.50</td>\n",
       "      <td>...</td>\n",
       "      <td>97</td>\n",
       "      <td>15.39</td>\n",
       "      <td>320.7</td>\n",
       "      <td>120</td>\n",
       "      <td>14.43</td>\n",
       "      <td>9.5</td>\n",
       "      <td>4</td>\n",
       "      <td>2.57</td>\n",
       "      <td>2</td>\n",
       "      <td>False.</td>\n",
       "    </tr>\n",
       "    <tr>\n",
       "      <th>1718</th>\n",
       "      <td>AZ</td>\n",
       "      <td>109</td>\n",
       "      <td>415</td>\n",
       "      <td>404-3106</td>\n",
       "      <td>yes</td>\n",
       "      <td>no</td>\n",
       "      <td>0</td>\n",
       "      <td>268.4</td>\n",
       "      <td>85</td>\n",
       "      <td>45.63</td>\n",
       "      <td>...</td>\n",
       "      <td>131</td>\n",
       "      <td>12.80</td>\n",
       "      <td>297.9</td>\n",
       "      <td>84</td>\n",
       "      <td>13.41</td>\n",
       "      <td>9.7</td>\n",
       "      <td>8</td>\n",
       "      <td>2.62</td>\n",
       "      <td>2</td>\n",
       "      <td>True.</td>\n",
       "    </tr>\n",
       "    <tr>\n",
       "      <th>2694</th>\n",
       "      <td>MN</td>\n",
       "      <td>125</td>\n",
       "      <td>415</td>\n",
       "      <td>343-2689</td>\n",
       "      <td>no</td>\n",
       "      <td>no</td>\n",
       "      <td>0</td>\n",
       "      <td>240.7</td>\n",
       "      <td>82</td>\n",
       "      <td>40.92</td>\n",
       "      <td>...</td>\n",
       "      <td>85</td>\n",
       "      <td>22.90</td>\n",
       "      <td>187.1</td>\n",
       "      <td>74</td>\n",
       "      <td>8.42</td>\n",
       "      <td>10.1</td>\n",
       "      <td>3</td>\n",
       "      <td>2.73</td>\n",
       "      <td>0</td>\n",
       "      <td>True.</td>\n",
       "    </tr>\n",
       "    <tr>\n",
       "      <th>0</th>\n",
       "      <td>KS</td>\n",
       "      <td>128</td>\n",
       "      <td>415</td>\n",
       "      <td>382-4657</td>\n",
       "      <td>no</td>\n",
       "      <td>yes</td>\n",
       "      <td>25</td>\n",
       "      <td>265.1</td>\n",
       "      <td>110</td>\n",
       "      <td>45.07</td>\n",
       "      <td>...</td>\n",
       "      <td>99</td>\n",
       "      <td>16.78</td>\n",
       "      <td>244.7</td>\n",
       "      <td>91</td>\n",
       "      <td>11.01</td>\n",
       "      <td>10.0</td>\n",
       "      <td>3</td>\n",
       "      <td>2.70</td>\n",
       "      <td>1</td>\n",
       "      <td>False.</td>\n",
       "    </tr>\n",
       "  </tbody>\n",
       "</table>\n",
       "<p>667 rows × 21 columns</p>\n",
       "</div>"
      ],
      "text/plain": [
       "     State  Account Length  Area Code     Phone Int'l Plan VMail Plan  \\\n",
       "2185    TX             126        415  386-9711         no         no   \n",
       "1476    NH             121        510  346-6352         no        yes   \n",
       "824     DE             147        510  400-2203         no         no   \n",
       "3214    OK             149        510  365-9079        yes         no   \n",
       "410     OR              25        408  422-5874         no         no   \n",
       "...    ...             ...        ...       ...        ...        ...   \n",
       "2995    AZ              69        415  419-3937         no        yes   \n",
       "759     NV             136        415  416-5261         no        yes   \n",
       "1718    AZ             109        415  404-3106        yes         no   \n",
       "2694    MN             125        415  343-2689         no         no   \n",
       "0       KS             128        415  382-4657         no        yes   \n",
       "\n",
       "      VMail Message  Day Mins  Day Calls  Day Charge  ...  Eve Calls  \\\n",
       "2185              0     190.9        143       32.45  ...         72   \n",
       "1476             35     193.8         62       32.95  ...         97   \n",
       "824               0     209.4        104       35.60  ...         78   \n",
       "3214              0     180.9         79       30.75  ...         83   \n",
       "410               0     178.8         90       30.40  ...         72   \n",
       "...             ...       ...        ...         ...  ...        ...   \n",
       "2995             31     194.9         63       33.13  ...         90   \n",
       "759              21     179.4         88       30.50  ...         97   \n",
       "1718              0     268.4         85       45.63  ...        131   \n",
       "2694              0     240.7         82       40.92  ...         85   \n",
       "0                25     265.1        110       45.07  ...         99   \n",
       "\n",
       "      Eve Charge  Night Mins  Night Calls  Night Charge  Intl Mins  \\\n",
       "2185       12.72       191.4           87          8.61       13.0   \n",
       "1476       16.80       218.8           95          9.85        5.9   \n",
       "824        11.26       149.4          123          6.72       11.3   \n",
       "3214       16.57       197.8          109          8.90        8.8   \n",
       "410        12.00       203.0           99          9.14        8.4   \n",
       "...          ...         ...          ...           ...        ...   \n",
       "2995       16.29       153.0          129          6.89       13.2   \n",
       "759        15.39       320.7          120         14.43        9.5   \n",
       "1718       12.80       297.9           84         13.41        9.7   \n",
       "2694       22.90       187.1           74          8.42       10.1   \n",
       "0          16.78       244.7           91         11.01       10.0   \n",
       "\n",
       "      Intl Calls  Intl Charge  CustServ Calls  Churn?  \n",
       "2185           3         3.51               1  False.  \n",
       "1476           4         1.59               0  False.  \n",
       "824            3         3.05               2  False.  \n",
       "3214           9         2.38               3  False.  \n",
       "410            5         2.27               2  False.  \n",
       "...          ...          ...             ...     ...  \n",
       "2995           2         3.56               2  False.  \n",
       "759            4         2.57               2  False.  \n",
       "1718           8         2.62               2   True.  \n",
       "2694           3         2.73               0   True.  \n",
       "0              3         2.70               1  False.  \n",
       "\n",
       "[667 rows x 21 columns]"
      ]
     },
     "execution_count": 31,
     "metadata": {},
     "output_type": "execute_result"
    }
   ],
   "source": [
    "test"
   ]
  },
  {
   "cell_type": "markdown",
   "id": "83346912",
   "metadata": {},
   "source": [
    "## Usando una función de shuffle"
   ]
  },
  {
   "cell_type": "code",
   "execution_count": 32,
   "id": "0e4595fe",
   "metadata": {},
   "outputs": [],
   "source": [
    "import sklearn"
   ]
  },
  {
   "cell_type": "code",
   "execution_count": 34,
   "id": "c391c8fb",
   "metadata": {},
   "outputs": [],
   "source": [
    "data = sklearn.utils.shuffle(data)"
   ]
  },
  {
   "cell_type": "code",
   "execution_count": 35,
   "id": "63dd06d8",
   "metadata": {},
   "outputs": [],
   "source": [
    "cut_id = int(0.75*len(data))\n",
    "train_data = data[:cut_id]\n",
    "test_data = data[cut_id+1:]"
   ]
  },
  {
   "cell_type": "code",
   "execution_count": 36,
   "id": "99f7a28b",
   "metadata": {},
   "outputs": [
    {
     "data": {
      "text/plain": [
       "2499"
      ]
     },
     "execution_count": 36,
     "metadata": {},
     "output_type": "execute_result"
    }
   ],
   "source": [
    "len(train_data)"
   ]
  },
  {
   "cell_type": "code",
   "execution_count": 37,
   "id": "74418ef0",
   "metadata": {},
   "outputs": [
    {
     "data": {
      "text/plain": [
       "833"
      ]
     },
     "execution_count": 37,
     "metadata": {},
     "output_type": "execute_result"
    }
   ],
   "source": [
    "len(test_data)"
   ]
  },
  {
   "cell_type": "code",
   "execution_count": null,
   "id": "9a2b91d4",
   "metadata": {},
   "outputs": [],
   "source": []
  }
 ],
 "metadata": {
  "kernelspec": {
   "display_name": "Python 3 (ipykernel)",
   "language": "python",
   "name": "python3"
  },
  "language_info": {
   "codemirror_mode": {
    "name": "ipython",
    "version": 3
   },
   "file_extension": ".py",
   "mimetype": "text/x-python",
   "name": "python",
   "nbconvert_exporter": "python",
   "pygments_lexer": "ipython3",
   "version": "3.9.7"
  }
 },
 "nbformat": 4,
 "nbformat_minor": 5
}
