{
 "cells": [
  {
   "cell_type": "markdown",
   "id": "5cbdfe1a",
   "metadata": {},
   "source": [
    "# Implementación del método de la máxima verosimilitud para la regresión logística."
   ]
  },
  {
   "cell_type": "markdown",
   "id": "c81bcd5d",
   "metadata": {},
   "source": [
    "## Definir la función de entorno L(b)"
   ]
  },
  {
   "cell_type": "markdown",
   "id": "98069507",
   "metadata": {},
   "source": [
    "$ L(\\beta) = \\sum{i=1}^n P_i^{y_i}(1-Pi)^{1-y_i} $"
   ]
  },
  {
   "cell_type": "code",
   "execution_count": 1,
   "id": "6f8c0b68",
   "metadata": {},
   "outputs": [],
   "source": [
    "def likelihood (y, pi):\n",
    "    import numpy as np\n",
    "    total_sum = 1\n",
    "    sum_in = list(range(1, len(y)+1))\n",
    "    for i in range(len(y)):\n",
    "        sum_in[i] = np.where(y[i]==1, pi[i], 1-pi[i])\n",
    "        total_sum = total_sum * sum_in[i]\n",
    "    return total_sum"
   ]
  },
  {
   "cell_type": "markdown",
   "id": "dd4d7be4",
   "metadata": {},
   "source": [
    "### Calcular las probabilidades para cada observación"
   ]
  },
  {
   "cell_type": "markdown",
   "id": "f89b4238",
   "metadata": {},
   "source": [
    "$ L(\\beta) = P_i = P(x_i) = \\frac{1}{1 + e^ {-\\sum_{j=0}^k(\\beta_j \\cdot X_{ij})}} $"
   ]
  },
  {
   "cell_type": "code",
   "execution_count": 2,
   "id": "d7b576a8",
   "metadata": {},
   "outputs": [],
   "source": [
    "def logitprobs(X, beta):\n",
    "    import numpy as np\n",
    "    n_rows = np.shape(X)[0]\n",
    "    n_cols = np.shape(X)[1]\n",
    "    pi = list(range (1, n_rows+1))\n",
    "    expon = list(range(1, n_rows+1))\n",
    "    for i in range (n_rows): # Este for es para las i, o sea para las probabilidades\n",
    "        expon[i] = 0\n",
    "        for j in range(n_cols):  # Calculo el sumatorio de las k columnas, y saco el exponente\n",
    "            ex = X[i][j] * beta[j] #Producto de los exponentes Beta_j y X_ij\n",
    "            expon[i] = ex + expon[i] #Suma total de los exponentes\n",
    "        with np.errstate(divide=\"ignore\", invalid=\"ignore\"):\n",
    "            pi[i]=1/(1+np.exp(-expon[i]))\n",
    "    return pi\n",
    "            "
   ]
  },
  {
   "cell_type": "markdown",
   "id": "9d379cb2",
   "metadata": {},
   "source": [
    "### Calcular la matriz diagonal W"
   ]
  },
  {
   "cell_type": "markdown",
   "id": "6e5f6fa3",
   "metadata": {},
   "source": [
    "$ \\omega_{(\\beta)} = diag(P_i \\cdot (1-P_i))_{i=1}^{n} $"
   ]
  },
  {
   "cell_type": "code",
   "execution_count": 3,
   "id": "c99a964c",
   "metadata": {},
   "outputs": [],
   "source": [
    "def findW(pi):\n",
    "    import numpy as np\n",
    "    n = len(pi)\n",
    "    W = np.zeros(n*n).reshape(n,n) #Creo un vector de 0s  y luego una matriz de n x n de ceros con reshape\n",
    "    for i in range (n):\n",
    "        print(i)\n",
    "        W[i, i] = pi[i]*(1-pi[i])\n",
    "        W[i, i].astype(float)\n",
    "    return W"
   ]
  },
  {
   "cell_type": "markdown",
   "id": "a2dfec9e",
   "metadata": {},
   "source": [
    "### Definir la función logística"
   ]
  },
  {
   "cell_type": "markdown",
   "id": "702025c6",
   "metadata": {},
   "source": [
    "$ \\Delta\\beta = \\frac{f(\\beta)}{f'(\\beta)} $\n",
    "\n",
    "$ f(\\beta) = \\frac{\\delta l}{\\delta \\beta} = X \\cdot (y-P(\\beta)) $\n",
    "\n",
    "$ f'(\\beta) = \\frac{\\delta^2 l}{\\delta \\beta^2} = X \\cdot \\omega_(\\beta) \\cdot X^t  $"
   ]
  },
  {
   "cell_type": "code",
   "execution_count": 34,
   "id": "702361db",
   "metadata": {},
   "outputs": [],
   "source": [
    "def logistics (X, Y, limit): #El límite del cambio de un paso al siguiente hasta que converja\n",
    "    from numpy import linalg\n",
    "    nrow = np.shape(X)[0]\n",
    "    bias = np.ones(nrow).reshape(nrow, 1)\n",
    "    X_new = np.append (X, bias, axis = 1) #Agrego una columna de unos a la derecha del los datos, aux.\n",
    "    ncol = np.shape(X_new)[1] #Número de columnas en la posición 1 porque tendrá una más que antes.\n",
    "    beta = np.zeros(ncol).reshape(ncol, 1) #Toda una col de 0 de la misma lon que e ncol, apiladas\n",
    "    root_dif = np.array(range(1,ncol+1)).reshape(ncol,1) #Diferencias entre las raíces / los betas.\n",
    "    iter_i = 10000\n",
    "    counter = 0\n",
    "    while (iter_i>limit):\n",
    "        print(\"El producto de iteraciones es iter_i: \" + str(iter_i) + \", El límite es: \" + str(limit))\n",
    "        pi = logitprobs(X_new, beta)\n",
    "        print (\"El valor de las probabilidades parciales Pi es: \" + str(pi))\n",
    "        W = findW(pi)\n",
    "        print(\"La matriz es W: \" + str(W))\n",
    "        #num y den, que son numerador y denominador se transponen para poder ser multiplicadas.\n",
    "        num = (np.transpose(np.matrix(X_new))*np.matrix(Y-np.transpose(pi)).transpose())\n",
    "        den = (np.matrix(np.transpose(X_new))*np.matrix(W)*np.matrix(X_new))\n",
    "        root_dif = np.array(linalg.inv(den)*num) #Acá está el delta beta calculado\n",
    "        beta = beta + root_dif\n",
    "        print(\"El valor de beta es: \" + str(beta))\n",
    "        iter_i = np.sum(root_dif*root_dif)\n",
    "        ll = likelihood(Y, pi) #Factor de verosimilitud\n",
    "        counter += 1\n",
    "        print(\"El n° iteraciones a la que converge es :\" + str(counter))\n",
    "    return beta"
   ]
  },
  {
   "cell_type": "markdown",
   "id": "917fed27",
   "metadata": {},
   "source": [
    "### Comprobación experimental"
   ]
  },
  {
   "cell_type": "code",
   "execution_count": 35,
   "id": "5ab318e5",
   "metadata": {},
   "outputs": [],
   "source": [
    "import numpy as np"
   ]
  },
  {
   "cell_type": "code",
   "execution_count": 36,
   "id": "d3b0c328",
   "metadata": {},
   "outputs": [
    {
     "data": {
      "text/plain": [
       "array([[0],\n",
       "       [1],\n",
       "       [2],\n",
       "       [3],\n",
       "       [4],\n",
       "       [5],\n",
       "       [6],\n",
       "       [7],\n",
       "       [8],\n",
       "       [9]])"
      ]
     },
     "execution_count": 36,
     "metadata": {},
     "output_type": "execute_result"
    }
   ],
   "source": [
    "X = np.array(range(10)).reshape(10,1)\n",
    "X"
   ]
  },
  {
   "cell_type": "code",
   "execution_count": 37,
   "id": "02982304",
   "metadata": {},
   "outputs": [],
   "source": [
    "Y = [0,0,0,0,1,0,1,0,1,1]"
   ]
  },
  {
   "cell_type": "code",
   "execution_count": 38,
   "id": "ef4f8896",
   "metadata": {},
   "outputs": [],
   "source": [
    "bias = np.ones(10).reshape(10,1)\n",
    "X_new = np.append(X, bias, axis = 1)"
   ]
  },
  {
   "cell_type": "code",
   "execution_count": 39,
   "id": "714b5ce3",
   "metadata": {},
   "outputs": [
    {
     "data": {
      "text/plain": [
       "array([[0., 1.],\n",
       "       [1., 1.],\n",
       "       [2., 1.],\n",
       "       [3., 1.],\n",
       "       [4., 1.],\n",
       "       [5., 1.],\n",
       "       [6., 1.],\n",
       "       [7., 1.],\n",
       "       [8., 1.],\n",
       "       [9., 1.]])"
      ]
     },
     "execution_count": 39,
     "metadata": {},
     "output_type": "execute_result"
    }
   ],
   "source": [
    "X_new"
   ]
  },
  {
   "cell_type": "code",
   "execution_count": 41,
   "id": "d4b49c89",
   "metadata": {},
   "outputs": [
    {
     "name": "stdout",
     "output_type": "stream",
     "text": [
      "El producto de iteraciones es iter_i: 10000, El límite es: 1e-05\n",
      "El valor de las probabilidades parciales Pi es: [array([0.5]), array([0.5]), array([0.5]), array([0.5]), array([0.5]), array([0.5]), array([0.5]), array([0.5]), array([0.5]), array([0.5])]\n",
      "0\n",
      "1\n",
      "2\n",
      "3\n",
      "4\n",
      "5\n",
      "6\n",
      "7\n",
      "8\n",
      "9\n",
      "La matriz es W: [[0.25 0.   0.   0.   0.   0.   0.   0.   0.   0.  ]\n",
      " [0.   0.25 0.   0.   0.   0.   0.   0.   0.   0.  ]\n",
      " [0.   0.   0.25 0.   0.   0.   0.   0.   0.   0.  ]\n",
      " [0.   0.   0.   0.25 0.   0.   0.   0.   0.   0.  ]\n",
      " [0.   0.   0.   0.   0.25 0.   0.   0.   0.   0.  ]\n",
      " [0.   0.   0.   0.   0.   0.25 0.   0.   0.   0.  ]\n",
      " [0.   0.   0.   0.   0.   0.   0.25 0.   0.   0.  ]\n",
      " [0.   0.   0.   0.   0.   0.   0.   0.25 0.   0.  ]\n",
      " [0.   0.   0.   0.   0.   0.   0.   0.   0.25 0.  ]\n",
      " [0.   0.   0.   0.   0.   0.   0.   0.   0.   0.25]]\n",
      "El valor de beta es: [[ 0.43636364]\n",
      " [-2.36363636]]\n",
      "El n° iteraciones a la que converge es :1\n",
      "El producto de iteraciones es iter_i: 5.777190082644626, El límite es: 1e-05\n",
      "El valor de las probabilidades parciales Pi es: [array([0.08598797]), array([0.12705276]), array([0.18378532]), array([0.2583532]), array([0.35019508]), array([0.45467026]), array([0.56329497]), array([0.66616913]), array([0.75533524]), array([0.82687453])]\n",
      "0\n",
      "1\n",
      "2\n",
      "3\n",
      "4\n",
      "5\n",
      "6\n",
      "7\n",
      "8\n",
      "9\n",
      "La matriz es W: [[0.07859404 0.         0.         0.         0.         0.\n",
      "  0.         0.         0.         0.        ]\n",
      " [0.         0.11091035 0.         0.         0.         0.\n",
      "  0.         0.         0.         0.        ]\n",
      " [0.         0.         0.15000827 0.         0.         0.\n",
      "  0.         0.         0.         0.        ]\n",
      " [0.         0.         0.         0.19160683 0.         0.\n",
      "  0.         0.         0.         0.        ]\n",
      " [0.         0.         0.         0.         0.22755849 0.\n",
      "  0.         0.         0.         0.        ]\n",
      " [0.         0.         0.         0.         0.         0.24794521\n",
      "  0.         0.         0.         0.        ]\n",
      " [0.         0.         0.         0.         0.         0.\n",
      "  0.24599375 0.         0.         0.        ]\n",
      " [0.         0.         0.         0.         0.         0.\n",
      "  0.         0.22238782 0.         0.        ]\n",
      " [0.         0.         0.         0.         0.         0.\n",
      "  0.         0.         0.18480392 0.        ]\n",
      " [0.         0.         0.         0.         0.         0.\n",
      "  0.         0.         0.         0.14315304]]\n",
      "El valor de beta es: [[ 0.60426056]\n",
      " [-3.34641372]]\n",
      "El n° iteraciones a la que converge es :2\n",
      "El producto de iteraciones es iter_i: 0.9940407075349111, El límite es: 1e-05\n",
      "El valor de las probabilidades parciales Pi es: [array([0.0340128]), array([0.06053134]), array([0.10546805]), array([0.1774629]), array([0.28305225]), array([0.41943069]), array([0.56933774]), array([0.7075284]), array([0.81572841]), array([0.89011647])]\n",
      "0\n",
      "1\n",
      "2\n",
      "3\n",
      "4\n",
      "5\n",
      "6\n",
      "7\n",
      "8\n",
      "9\n",
      "La matriz es W: [[0.03285593 0.         0.         0.         0.         0.\n",
      "  0.         0.         0.         0.        ]\n",
      " [0.         0.0568673  0.         0.         0.         0.\n",
      "  0.         0.         0.         0.        ]\n",
      " [0.         0.         0.09434454 0.         0.         0.\n",
      "  0.         0.         0.         0.        ]\n",
      " [0.         0.         0.         0.14596982 0.         0.\n",
      "  0.         0.         0.         0.        ]\n",
      " [0.         0.         0.         0.         0.20293367 0.\n",
      "  0.         0.         0.         0.        ]\n",
      " [0.         0.         0.         0.         0.         0.24350859\n",
      "  0.         0.         0.         0.        ]\n",
      " [0.         0.         0.         0.         0.         0.\n",
      "  0.24519228 0.         0.         0.        ]\n",
      " [0.         0.         0.         0.         0.         0.\n",
      "  0.         0.20693196 0.         0.        ]\n",
      " [0.         0.         0.         0.         0.         0.\n",
      "  0.         0.         0.15031557 0.        ]\n",
      " [0.         0.         0.         0.         0.         0.\n",
      "  0.         0.         0.         0.09780914]]\n",
      "El valor de beta es: [[ 0.65761412]\n",
      " [-3.66759924]]\n",
      "El n° iteraciones a la que converge es :3\n",
      "El producto de iteraciones es iter_i: 0.10600674406801981, El límite es: 1e-05\n",
      "El valor de las probabilidades parciales Pi es: [array([0.02490177]), array([0.04697681]), array([0.0868775]), array([0.15515129]), array([0.26170168]), array([0.40624059]), array([0.56907679]), array([0.71823018]), array([0.83108181]), array([0.90473054])]\n",
      "0\n",
      "1\n",
      "2\n",
      "3\n",
      "4\n",
      "5\n",
      "6\n",
      "7\n",
      "8\n",
      "9\n",
      "La matriz es W: [[0.02428167 0.         0.         0.         0.         0.\n",
      "  0.         0.         0.         0.        ]\n",
      " [0.         0.04476999 0.         0.         0.         0.\n",
      "  0.         0.         0.         0.        ]\n",
      " [0.         0.         0.0793298  0.         0.         0.\n",
      "  0.         0.         0.         0.        ]\n",
      " [0.         0.         0.         0.13107937 0.         0.\n",
      "  0.         0.         0.         0.        ]\n",
      " [0.         0.         0.         0.         0.19321391 0.\n",
      "  0.         0.         0.         0.        ]\n",
      " [0.         0.         0.         0.         0.         0.24120917\n",
      "  0.         0.         0.         0.        ]\n",
      " [0.         0.         0.         0.         0.         0.\n",
      "  0.2452284  0.         0.         0.        ]\n",
      " [0.         0.         0.         0.         0.         0.\n",
      "  0.         0.20237559 0.         0.        ]\n",
      " [0.         0.         0.         0.         0.         0.\n",
      "  0.         0.         0.14038483 0.        ]\n",
      " [0.         0.         0.         0.         0.         0.\n",
      "  0.         0.         0.         0.08619319]]\n",
      "El valor de beta es: [[ 0.66217766]\n",
      " [-3.6953843 ]]\n",
      "El n° iteraciones a la que converge es :4\n",
      "El producto de iteraciones es iter_i: 0.0007928351246008185, El límite es: 1e-05\n",
      "El valor de las probabilidades parciales Pi es: [array([0.02423594]), array([0.04594805]), array([0.08540873]), array([0.15331276]), array([0.25986436]), array([0.40504298]), array([0.56897776]), array([0.71907124]), array([0.83230289]), array([0.90586963])]\n",
      "0\n",
      "1\n",
      "2\n",
      "3\n",
      "4\n",
      "5\n",
      "6\n",
      "7\n",
      "8\n",
      "9\n",
      "La matriz es W: [[0.02364856 0.         0.         0.         0.         0.\n",
      "  0.         0.         0.         0.        ]\n",
      " [0.         0.04383683 0.         0.         0.         0.\n",
      "  0.         0.         0.         0.        ]\n",
      " [0.         0.         0.07811408 0.         0.         0.\n",
      "  0.         0.         0.         0.        ]\n",
      " [0.         0.         0.         0.12980796 0.         0.\n",
      "  0.         0.         0.         0.        ]\n",
      " [0.         0.         0.         0.         0.19233487 0.\n",
      "  0.         0.         0.         0.        ]\n",
      " [0.         0.         0.         0.         0.         0.24098316\n",
      "  0.         0.         0.         0.        ]\n",
      " [0.         0.         0.         0.         0.         0.\n",
      "  0.24524207 0.         0.         0.        ]\n",
      " [0.         0.         0.         0.         0.         0.\n",
      "  0.         0.20200779 0.         0.        ]\n",
      " [0.         0.         0.         0.         0.         0.\n",
      "  0.         0.         0.13957479 0.        ]\n",
      " [0.         0.         0.         0.         0.         0.\n",
      "  0.         0.         0.         0.08526985]]\n",
      "El valor de beta es: [[ 0.66220827]\n",
      " [-3.69557172]]\n",
      "El n° iteraciones a la que converge es :5\n"
     ]
    }
   ],
   "source": [
    "a = logistics(X, Y, 0.00001)"
   ]
  },
  {
   "cell_type": "markdown",
   "id": "1df7a79e",
   "metadata": {},
   "source": [
    "La ecuación conchasumadre es: Y =  0.66220827 -3.69557172X esto es lo que vendría siendo el \n",
    "exponente de la función logística:\n",
    "\n",
    "$ P = \\frac{1}{1+e^{-(0.66220827-3.69557172\\cdot X}} $"
   ]
  },
  {
   "cell_type": "code",
   "execution_count": 11,
   "id": "481bd026",
   "metadata": {},
   "outputs": [],
   "source": [
    "ll = likelihood (Y, logitprobs(X,a))"
   ]
  },
  {
   "cell_type": "code",
   "execution_count": 12,
   "id": "8efd57b7",
   "metadata": {},
   "outputs": [
    {
     "data": {
      "text/plain": [
       "array([1.32622426e-06])"
      ]
     },
     "execution_count": 12,
     "metadata": {},
     "output_type": "execute_result"
    }
   ],
   "source": [
    "ll #La suma total"
   ]
  },
  {
   "cell_type": "markdown",
   "id": "8be8cc9c",
   "metadata": {},
   "source": [
    "## Con el paquete statsmodel de python"
   ]
  },
  {
   "cell_type": "code",
   "execution_count": 13,
   "id": "16c531b2",
   "metadata": {},
   "outputs": [],
   "source": [
    "import statsmodels.api as sm"
   ]
  },
  {
   "cell_type": "code",
   "execution_count": 14,
   "id": "e680697c",
   "metadata": {},
   "outputs": [],
   "source": [
    "logit_model = sm.Logit(Y, X_new)"
   ]
  },
  {
   "cell_type": "code",
   "execution_count": 15,
   "id": "bfd41a7b",
   "metadata": {},
   "outputs": [
    {
     "name": "stdout",
     "output_type": "stream",
     "text": [
      "Optimization terminated successfully.\n",
      "         Current function value: 0.431012\n",
      "         Iterations 6\n"
     ]
    }
   ],
   "source": [
    "result = logit_model.fit()"
   ]
  },
  {
   "cell_type": "code",
   "execution_count": 43,
   "id": "a903cfd3",
   "metadata": {},
   "outputs": [
    {
     "name": "stdout",
     "output_type": "stream",
     "text": [
      "                        Results: Logit\n",
      "===============================================================\n",
      "Model:              Logit            Pseudo R-squared: 0.360   \n",
      "Dependent Variable: y                AIC:              12.6202 \n",
      "Date:               2022-03-24 15:30 BIC:              13.2254 \n",
      "No. Observations:   10               Log-Likelihood:   -4.3101 \n",
      "Df Model:           1                LL-Null:          -6.7301 \n",
      "Df Residuals:       8                LLR p-value:      0.027807\n",
      "Converged:          1.0000           Scale:            1.0000  \n",
      "No. Iterations:     6.0000                                     \n",
      "-----------------------------------------------------------------\n",
      "          Coef.    Std.Err.      z      P>|z|     [0.025   0.975]\n",
      "-----------------------------------------------------------------\n",
      "x1        0.6622     0.4001    1.6551   0.0979   -0.1220   1.4464\n",
      "const    -3.6956     2.2889   -1.6145   0.1064   -8.1818   0.7906\n",
      "===============================================================\n",
      "\n"
     ]
    }
   ],
   "source": [
    "print(result.summary2())"
   ]
  },
  {
   "cell_type": "markdown",
   "id": "b7797f09",
   "metadata": {},
   "source": [
    "Como podemos ver en el summary x1 es el eje de coordenadas y const el factor de multiplicación y\n",
    "\n",
    "estos coinciden exactamente con nuestro modelo, por lo que podemos decir es que nuestro porgrama\n",
    "\n",
    "está bien hecho y la aproximación de Newton - Rapson están bien calculados."
   ]
  },
  {
   "cell_type": "code",
   "execution_count": null,
   "id": "b2394970",
   "metadata": {},
   "outputs": [],
   "source": []
  }
 ],
 "metadata": {
  "kernelspec": {
   "display_name": "Python 3 (ipykernel)",
   "language": "python",
   "name": "python3"
  },
  "language_info": {
   "codemirror_mode": {
    "name": "ipython",
    "version": 3
   },
   "file_extension": ".py",
   "mimetype": "text/x-python",
   "name": "python",
   "nbconvert_exporter": "python",
   "pygments_lexer": "ipython3",
   "version": "3.9.7"
  }
 },
 "nbformat": 4,
 "nbformat_minor": 5
}
