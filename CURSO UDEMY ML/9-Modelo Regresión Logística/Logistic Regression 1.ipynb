{
 "cells": [
  {
   "cell_type": "markdown",
   "id": "8f8c0625",
   "metadata": {},
   "source": [
    "# Las matemáticas tras la regresión logística\n",
    "## Las tablas de contingencia"
   ]
  },
  {
   "cell_type": "code",
   "execution_count": 1,
   "id": "1ac9c019",
   "metadata": {},
   "outputs": [],
   "source": [
    "import pandas as pd\n",
    "import numpy as np\n",
    "import statsmodels.formula.api as smf\n",
    "import matplotlib.pyplot as plt\n",
    "from sklearn.linear_model import LinearRegression"
   ]
  },
  {
   "cell_type": "code",
   "execution_count": 2,
   "id": "74799950",
   "metadata": {},
   "outputs": [],
   "source": [
    "df = pd.read_csv(\"../../../Machine Learning/python-ml-course-master/datasets/gender-purchase/Gender Purchase.csv\")"
   ]
  },
  {
   "cell_type": "code",
   "execution_count": 4,
   "id": "a95326e1",
   "metadata": {},
   "outputs": [
    {
     "data": {
      "text/plain": [
       "(511, 2)"
      ]
     },
     "execution_count": 4,
     "metadata": {},
     "output_type": "execute_result"
    }
   ],
   "source": [
    "df.shape"
   ]
  },
  {
   "cell_type": "code",
   "execution_count": 5,
   "id": "bc92fc71",
   "metadata": {},
   "outputs": [
    {
     "data": {
      "text/html": [
       "<div>\n",
       "<style scoped>\n",
       "    .dataframe tbody tr th:only-of-type {\n",
       "        vertical-align: middle;\n",
       "    }\n",
       "\n",
       "    .dataframe tbody tr th {\n",
       "        vertical-align: top;\n",
       "    }\n",
       "\n",
       "    .dataframe thead th {\n",
       "        text-align: right;\n",
       "    }\n",
       "</style>\n",
       "<table border=\"1\" class=\"dataframe\">\n",
       "  <thead>\n",
       "    <tr style=\"text-align: right;\">\n",
       "      <th>Purchase</th>\n",
       "      <th>No</th>\n",
       "      <th>Yes</th>\n",
       "    </tr>\n",
       "    <tr>\n",
       "      <th>Gender</th>\n",
       "      <th></th>\n",
       "      <th></th>\n",
       "    </tr>\n",
       "  </thead>\n",
       "  <tbody>\n",
       "    <tr>\n",
       "      <th>Female</th>\n",
       "      <td>106</td>\n",
       "      <td>159</td>\n",
       "    </tr>\n",
       "    <tr>\n",
       "      <th>Male</th>\n",
       "      <td>125</td>\n",
       "      <td>121</td>\n",
       "    </tr>\n",
       "  </tbody>\n",
       "</table>\n",
       "</div>"
      ],
      "text/plain": [
       "Purchase   No  Yes\n",
       "Gender            \n",
       "Female    106  159\n",
       "Male      125  121"
      ]
     },
     "execution_count": 5,
     "metadata": {},
     "output_type": "execute_result"
    }
   ],
   "source": [
    "contingency_table = pd.crosstab(df[\"Gender\"], df[\"Purchase\"])\n",
    "contingency_table "
   ]
  },
  {
   "cell_type": "code",
   "execution_count": 6,
   "id": "5ad76c95",
   "metadata": {},
   "outputs": [
    {
     "data": {
      "text/plain": [
       "Gender\n",
       "Female    265\n",
       "Male      246\n",
       "dtype: int64"
      ]
     },
     "execution_count": 6,
     "metadata": {},
     "output_type": "execute_result"
    }
   ],
   "source": [
    "contingency_table.sum(axis=1)"
   ]
  },
  {
   "cell_type": "code",
   "execution_count": 7,
   "id": "ac4e517e",
   "metadata": {},
   "outputs": [
    {
     "data": {
      "text/plain": [
       "Purchase\n",
       "No     231\n",
       "Yes    280\n",
       "dtype: int64"
      ]
     },
     "execution_count": 7,
     "metadata": {},
     "output_type": "execute_result"
    }
   ],
   "source": [
    "contingency_table.sum(axis=0)"
   ]
  },
  {
   "cell_type": "code",
   "execution_count": 8,
   "id": "7e3fa34f",
   "metadata": {},
   "outputs": [
    {
     "data": {
      "text/html": [
       "<div>\n",
       "<style scoped>\n",
       "    .dataframe tbody tr th:only-of-type {\n",
       "        vertical-align: middle;\n",
       "    }\n",
       "\n",
       "    .dataframe tbody tr th {\n",
       "        vertical-align: top;\n",
       "    }\n",
       "\n",
       "    .dataframe thead th {\n",
       "        text-align: right;\n",
       "    }\n",
       "</style>\n",
       "<table border=\"1\" class=\"dataframe\">\n",
       "  <thead>\n",
       "    <tr style=\"text-align: right;\">\n",
       "      <th>Purchase</th>\n",
       "      <th>No</th>\n",
       "      <th>Yes</th>\n",
       "    </tr>\n",
       "    <tr>\n",
       "      <th>Gender</th>\n",
       "      <th></th>\n",
       "      <th></th>\n",
       "    </tr>\n",
       "  </thead>\n",
       "  <tbody>\n",
       "    <tr>\n",
       "      <th>Female</th>\n",
       "      <td>0.40000</td>\n",
       "      <td>0.60000</td>\n",
       "    </tr>\n",
       "    <tr>\n",
       "      <th>Male</th>\n",
       "      <td>0.50813</td>\n",
       "      <td>0.49187</td>\n",
       "    </tr>\n",
       "  </tbody>\n",
       "</table>\n",
       "</div>"
      ],
      "text/plain": [
       "Purchase       No      Yes\n",
       "Gender                    \n",
       "Female    0.40000  0.60000\n",
       "Male      0.50813  0.49187"
      ]
     },
     "execution_count": 8,
     "metadata": {},
     "output_type": "execute_result"
    }
   ],
   "source": [
    "contingency_table.astype(\"float\").div(contingency_table.sum(axis=1), axis=0)"
   ]
  },
  {
   "cell_type": "markdown",
   "id": "44a6c69c",
   "metadata": {},
   "source": [
    "## La probabilidad condicional"
   ]
  },
  {
   "cell_type": "code",
   "execution_count": 14,
   "id": "6c2cfe51",
   "metadata": {},
   "outputs": [],
   "source": [
    "from IPython.display import display, Math, Latex"
   ]
  },
  {
   "cell_type": "markdown",
   "id": "393ad9b9",
   "metadata": {},
   "source": [
    "* ¿Cuál es la probabilidad de que un cliente compre un producto sabiendo que es un hombre?\n",
    "* ¿Cuál es la probabilidad de que sabiendo que un cliente compra un producto, que este sea mujer?"
   ]
  },
  {
   "cell_type": "markdown",
   "id": "74efc6e0",
   "metadata": {},
   "source": [
    "$ P(Purchase|Male) = \\frac{Numero\\ total\\ de\\ compras\\ hechas\\ por\\ hombres}{Numero\\ total\\ de\\ hombres\\ del\\ grupo} $"
   ]
  },
  {
   "cell_type": "code",
   "execution_count": 19,
   "id": "cf386a19",
   "metadata": {},
   "outputs": [
    {
     "data": {
      "text/plain": [
       "0.491869918699187"
      ]
     },
     "execution_count": 19,
     "metadata": {},
     "output_type": "execute_result"
    }
   ],
   "source": [
    "121/246"
   ]
  },
  {
   "cell_type": "markdown",
   "id": "cd26c882",
   "metadata": {},
   "source": [
    "$ P(No Purchase|Male) = 1 - P(Purchase|Male) $"
   ]
  },
  {
   "cell_type": "code",
   "execution_count": 23,
   "id": "27e883fb",
   "metadata": {},
   "outputs": [
    {
     "data": {
      "text/plain": [
       "0.5081300813008129"
      ]
     },
     "execution_count": 23,
     "metadata": {},
     "output_type": "execute_result"
    }
   ],
   "source": [
    "1-0.491869918699187"
   ]
  },
  {
   "cell_type": "markdown",
   "id": "3e8dbec8",
   "metadata": {},
   "source": [
    "$ P(Female|Purchase) = \\frac{Numero\\ total\\ de\\ compras\\ hechas\\ por\\ mujeres}{Numero\\ total\\ de\\ compras\\ del\\ grupo} = \\frac{Female \\cap Purchase}{Purchase}$"
   ]
  },
  {
   "cell_type": "code",
   "execution_count": 21,
   "id": "bd9d774b",
   "metadata": {},
   "outputs": [
    {
     "data": {
      "text/plain": [
       "0.5678571428571428"
      ]
     },
     "execution_count": 21,
     "metadata": {},
     "output_type": "execute_result"
    }
   ],
   "source": [
    "159/280"
   ]
  },
  {
   "cell_type": "markdown",
   "id": "62328e13",
   "metadata": {},
   "source": [
    "$ P(No Female|Purchale) = 1 - P(Male|Purchase) $"
   ]
  },
  {
   "cell_type": "code",
   "execution_count": 25,
   "id": "05a61946",
   "metadata": {},
   "outputs": [
    {
     "data": {
      "text/plain": [
       "0.43214285714285716"
      ]
     },
     "execution_count": 25,
     "metadata": {},
     "output_type": "execute_result"
    }
   ],
   "source": [
    "121/280"
   ]
  },
  {
   "cell_type": "code",
   "execution_count": 26,
   "id": "24cc8842",
   "metadata": {},
   "outputs": [
    {
     "data": {
      "text/plain": [
       "1.0"
      ]
     },
     "execution_count": 26,
     "metadata": {},
     "output_type": "execute_result"
    }
   ],
   "source": [
    "0.5678571428571428 + 0.43214285714285716"
   ]
  },
  {
   "cell_type": "markdown",
   "id": "17258703",
   "metadata": {},
   "source": [
    "Las probabilidades más importantes entonces son:\n",
    "* P(Purchase|Male) 121/246\n",
    "* P(No purchase|Male) 125/246\n",
    "* P(Purchase|Female) 159/265\n",
    "* P(No purchase|Female) 106/265"
   ]
  },
  {
   "cell_type": "markdown",
   "id": "8c09ea7e",
   "metadata": {},
   "source": [
    "### Ratio de probabilidades\n",
    "Cociente entre los casos de éxito sobre los de fracaso en el suceso estudiado y para cada grupo.\n",
    "\n",
    "El ratio puede ir desde 0 hasta más infinito:\n",
    "\n",
    "$ odds\\in[0, +\\infty] $ \n",
    "\n",
    "* ${P_m} $ Es la probabilidad de hacer compra sabiendo que es un hombre.\n",
    "\n",
    "$ odds_{purchase,male} = \\frac{P_m}{1-P_m} = \\frac{P_m}{N_\\bar pm} = \\frac{121}{126} $ \n",
    "\n",
    "* ${P_f} $ Es la probabilidad de hacer compra sabiendo que es una mujer. \n",
    "\n",
    "$ odds_{purchase,male} = \\frac{P_f}{1-P_f} = \\frac{P_f}{N_\\bar pf} = \\frac{159}{106} $\n",
    "\n"
   ]
  },
  {
   "cell_type": "code",
   "execution_count": 27,
   "id": "f1736e1c",
   "metadata": {},
   "outputs": [
    {
     "data": {
      "text/plain": [
       "(0.9680000000000002, 1.4999999999999998)"
      ]
     },
     "execution_count": 27,
     "metadata": {},
     "output_type": "execute_result"
    }
   ],
   "source": [
    "pm = 121 /246\n",
    "pf= 159/265\n",
    "odds_m = pm / (1-pm) # 121/126\n",
    "odds_f = pf / (1-pf) # 159/106\n",
    "odds_m, odds_f "
   ]
  },
  {
   "cell_type": "markdown",
   "id": "aacb2945",
   "metadata": {},
   "source": [
    "* Si el ratio es superior a uno es más probable el éxito que el fracaso. Cuanto mayor, más probabilidad de éxito del suceso.\n",
    "* Si el ratio es exactamente igual a 1, éxito y fracaso son equiprobables (p=0.5)\n",
    "* Si el ratio es menor que uno el fracaso es más probable que el éxito. Cuanto menor, menos probabilidad de éxito del suceso."
   ]
  },
  {
   "cell_type": "markdown",
   "id": "33b8b2f6",
   "metadata": {},
   "source": [
    "$ odds_{ratio,global} = \\frac{odds_{purchase,male}} {odds_{purchase,female}} $"
   ]
  },
  {
   "cell_type": "code",
   "execution_count": 30,
   "id": "ff3c6286",
   "metadata": {},
   "outputs": [
    {
     "data": {
      "text/plain": [
       "1.5495867768595035"
      ]
     },
     "execution_count": 30,
     "metadata": {},
     "output_type": "execute_result"
    }
   ],
   "source": [
    "odds_r = odds_m/odds_f\n",
    "odds_r"
   ]
  },
  {
   "cell_type": "markdown",
   "id": "afe6d97d",
   "metadata": {},
   "source": [
    "## La regresión logística desde la regresión lineal\n",
    "* $ y = \\alpha + \\beta \\cdot x $ \n",
    "\n",
    "* $ (x,y) \\in[-\\infty, +\\infty]^2 $ \n",
    "\n",
    "Si ya nos movemos a las regresiones logísticas, la y ya no puede ser contínua, sinó que es discreta o binaria.\n",
    "\n",
    "* $ y \\in(0, 1)?? $ \n",
    "* $ X \\in[-\\infty, +\\infty] $ \n",
    "* $ P \\in[0, 1] $ -> Probabilidades que vaya desde 0 a 1\n",
    "* $ P = \\alpha + \\beta \\cdot X $ \n",
    "\n",
    "P es la probabilidad condicionada de éxito o fracaso condicionada a la presencia de la variable X el problema que surje es que P tiene que ir desde 0 a 1, por lo que se debe ajustar el modelo.\n",
    "\n",
    "* $ P = \\frac{P}{1-P} = \\frac{\\alpha + \\beta \\cdot X}{1 - \\alpha - \\beta \\cdot X} \\in[0, +\\infty]  $ \n",
    "\n",
    "En este modelo, los rangos van desde 0 a infinito, por lo que todavía le falta trabajo al modelo. Para esto se hace uso del logaritmo neperiano. Se hace esto porque P, que es alpha + beta por X tiene un rango de menos infinito a más infinito, y es por ende que si aplicamos una transformación, se debe mantener el rango.\n",
    "\n",
    "* $ P = \\alpha - \\beta \\cdot X = ln(\\frac{P}{1-P}) \\in[-\\infty, +\\infty]  $ \n",
    "\n",
    "De esta manera:\n",
    "\n",
    "$ \\begin{cases}\\frac{P}{1-P}\\in[0,1]\\Rightarrow ln(\\frac{P}{1-P}) \\in[-\\infty, 0]\\\\\\frac{P}{1-P}\\in[1,+\\infty]\\Rightarrow ln(\\frac{P}{1-P}) \\in[0, +\\infty]\\end{cases} $ \n",
    "\n",
    "Si procedemos a despejar matemáticamente.\n",
    " \n",
    "* $ ln(\\frac{P}{1-P})={\\alpha + \\beta \\cdot X} $\n",
    "\n",
    "\n",
    "* $ \\frac{P}{1-P}=e^{\\alpha + \\beta \\cdot X} $\n",
    "\n",
    "\n",
    "* $ P=\\frac{e^{\\alpha + \\beta \\cdot X}}{1+e^{\\alpha + \\beta \\cdot X}} $\n",
    "\n",
    "\n",
    "* $ P=\\frac{1}{1+e^{-(\\alpha + \\beta \\cdot X)}} $\n",
    "\n",
    "\n",
    "* Si a + bx es muy pequeño (negativo), entonces P tiende a 0\n",
    "* Si a + bx = 0, entonces P=0.5\n",
    "* Si a + bx es muy grande (positivo), entonces P tiende a 1\n"
   ]
  },
  {
   "cell_type": "markdown",
   "id": "163a44e5",
   "metadata": {},
   "source": [
    "## Regresión logística múltiple"
   ]
  },
  {
   "cell_type": "markdown",
   "id": "565a2347",
   "metadata": {},
   "source": [
    "* $ P=\\frac{1}{1+e^{-(\\alpha + \\sum_{i=1}^n\\beta_i \\cdot X_i)}} $"
   ]
  },
  {
   "cell_type": "code",
   "execution_count": null,
   "id": "ea6bbb62",
   "metadata": {},
   "outputs": [],
   "source": [
    " "
   ]
  }
 ],
 "metadata": {
  "kernelspec": {
   "display_name": "Python 3 (ipykernel)",
   "language": "python",
   "name": "python3"
  },
  "language_info": {
   "codemirror_mode": {
    "name": "ipython",
    "version": 3
   },
   "file_extension": ".py",
   "mimetype": "text/x-python",
   "name": "python",
   "nbconvert_exporter": "python",
   "pygments_lexer": "ipython3",
   "version": "3.9.7"
  }
 },
 "nbformat": 4,
 "nbformat_minor": 5
}
