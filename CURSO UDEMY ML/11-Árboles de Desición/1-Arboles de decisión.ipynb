{
 "cells": [
  {
   "cell_type": "markdown",
   "id": "35fdd2fc",
   "metadata": {},
   "source": [
    "## Árboles de desición para especies de flores"
   ]
  },
  {
   "cell_type": "code",
   "execution_count": 2,
   "id": "0ba398df",
   "metadata": {},
   "outputs": [],
   "source": [
    "import pandas as pd\n",
    "import numpy as np\n",
    "import matplotlib.pyplot as plt"
   ]
  },
  {
   "cell_type": "code",
   "execution_count": 3,
   "id": "e450c88b",
   "metadata": {},
   "outputs": [],
   "source": [
    "df = pd.read_csv(\"../../Data-Sets/datasets/iris/iris.csv\")"
   ]
  },
  {
   "cell_type": "code",
   "execution_count": 4,
   "id": "48bd8444",
   "metadata": {},
   "outputs": [
    {
     "data": {
      "text/html": [
       "<div>\n",
       "<style scoped>\n",
       "    .dataframe tbody tr th:only-of-type {\n",
       "        vertical-align: middle;\n",
       "    }\n",
       "\n",
       "    .dataframe tbody tr th {\n",
       "        vertical-align: top;\n",
       "    }\n",
       "\n",
       "    .dataframe thead th {\n",
       "        text-align: right;\n",
       "    }\n",
       "</style>\n",
       "<table border=\"1\" class=\"dataframe\">\n",
       "  <thead>\n",
       "    <tr style=\"text-align: right;\">\n",
       "      <th></th>\n",
       "      <th>Sepal.Length</th>\n",
       "      <th>Sepal.Width</th>\n",
       "      <th>Petal.Length</th>\n",
       "      <th>Petal.Width</th>\n",
       "      <th>Species</th>\n",
       "    </tr>\n",
       "  </thead>\n",
       "  <tbody>\n",
       "    <tr>\n",
       "      <th>0</th>\n",
       "      <td>5.1</td>\n",
       "      <td>3.5</td>\n",
       "      <td>1.4</td>\n",
       "      <td>0.2</td>\n",
       "      <td>setosa</td>\n",
       "    </tr>\n",
       "    <tr>\n",
       "      <th>1</th>\n",
       "      <td>4.9</td>\n",
       "      <td>3.0</td>\n",
       "      <td>1.4</td>\n",
       "      <td>0.2</td>\n",
       "      <td>setosa</td>\n",
       "    </tr>\n",
       "    <tr>\n",
       "      <th>2</th>\n",
       "      <td>4.7</td>\n",
       "      <td>3.2</td>\n",
       "      <td>1.3</td>\n",
       "      <td>0.2</td>\n",
       "      <td>setosa</td>\n",
       "    </tr>\n",
       "    <tr>\n",
       "      <th>3</th>\n",
       "      <td>4.6</td>\n",
       "      <td>3.1</td>\n",
       "      <td>1.5</td>\n",
       "      <td>0.2</td>\n",
       "      <td>setosa</td>\n",
       "    </tr>\n",
       "    <tr>\n",
       "      <th>4</th>\n",
       "      <td>5.0</td>\n",
       "      <td>3.6</td>\n",
       "      <td>1.4</td>\n",
       "      <td>0.2</td>\n",
       "      <td>setosa</td>\n",
       "    </tr>\n",
       "  </tbody>\n",
       "</table>\n",
       "</div>"
      ],
      "text/plain": [
       "   Sepal.Length  Sepal.Width  Petal.Length  Petal.Width Species\n",
       "0           5.1          3.5           1.4          0.2  setosa\n",
       "1           4.9          3.0           1.4          0.2  setosa\n",
       "2           4.7          3.2           1.3          0.2  setosa\n",
       "3           4.6          3.1           1.5          0.2  setosa\n",
       "4           5.0          3.6           1.4          0.2  setosa"
      ]
     },
     "execution_count": 4,
     "metadata": {},
     "output_type": "execute_result"
    }
   ],
   "source": [
    "df.head()"
   ]
  },
  {
   "cell_type": "code",
   "execution_count": 7,
   "id": "bccfbe63",
   "metadata": {},
   "outputs": [
    {
     "data": {
      "text/plain": [
       "(150, 5)"
      ]
     },
     "execution_count": 7,
     "metadata": {},
     "output_type": "execute_result"
    }
   ],
   "source": [
    "df.shape"
   ]
  },
  {
   "cell_type": "code",
   "execution_count": 8,
   "id": "2c1e772a",
   "metadata": {},
   "outputs": [
    {
     "data": {
      "text/plain": [
       "(array([50.,  0.,  0.,  0.,  0., 50.,  0.,  0.,  0., 50.]),\n",
       " array([0. , 0.2, 0.4, 0.6, 0.8, 1. , 1.2, 1.4, 1.6, 1.8, 2. ]),\n",
       " <BarContainer object of 10 artists>)"
      ]
     },
     "execution_count": 8,
     "metadata": {},
     "output_type": "execute_result"
    },
    {
     "data": {
      "image/png": "[encoded data removed]",
      "text/plain": [
       "<Figure size 432x288 with 1 Axes>"
      ]
     },
     "metadata": {
      "needs_background": "light"
     },
     "output_type": "display_data"
    }
   ],
   "source": [
    "plt.hist(df.Species)"
   ]
  },
  {
   "cell_type": "code",
   "execution_count": 9,
   "id": "cdecf3ed",
   "metadata": {},
   "outputs": [
    {
     "data": {
      "text/plain": [
       "array(['setosa', 'versicolor', 'virginica'], dtype=object)"
      ]
     },
     "execution_count": 9,
     "metadata": {},
     "output_type": "execute_result"
    }
   ],
   "source": [
    "df.Species.unique()"
   ]
  },
  {
   "cell_type": "code",
   "execution_count": 10,
   "id": "8012f395",
   "metadata": {},
   "outputs": [
    {
     "data": {
      "text/plain": [
       "'Species'"
      ]
     },
     "execution_count": 10,
     "metadata": {},
     "output_type": "execute_result"
    }
   ],
   "source": [
    "colnames = df.columns.values.tolist()\n",
    "colnames[4]"
   ]
  },
  {
   "cell_type": "code",
   "execution_count": 11,
   "id": "8538df7d",
   "metadata": {},
   "outputs": [],
   "source": [
    "colnames = df.columns.values.tolist()\n",
    "predictors = colnames[:4]\n",
    "target = colnames[4]"
   ]
  },
  {
   "cell_type": "code",
   "execution_count": 12,
   "id": "ccecaa92",
   "metadata": {},
   "outputs": [],
   "source": [
    "import numpy as np"
   ]
  },
  {
   "cell_type": "code",
   "execution_count": 13,
   "id": "de24ae92",
   "metadata": {},
   "outputs": [],
   "source": [
    "df[\"is_train\"] = np.random.uniform(0,1,len(df))<0.75"
   ]
  },
  {
   "cell_type": "code",
   "execution_count": 14,
   "id": "6e00c13e",
   "metadata": {},
   "outputs": [
    {
     "data": {
      "text/html": [
       "<div>\n",
       "<style scoped>\n",
       "    .dataframe tbody tr th:only-of-type {\n",
       "        vertical-align: middle;\n",
       "    }\n",
       "\n",
       "    .dataframe tbody tr th {\n",
       "        vertical-align: top;\n",
       "    }\n",
       "\n",
       "    .dataframe thead th {\n",
       "        text-align: right;\n",
       "    }\n",
       "</style>\n",
       "<table border=\"1\" class=\"dataframe\">\n",
       "  <thead>\n",
       "    <tr style=\"text-align: right;\">\n",
       "      <th></th>\n",
       "      <th>Sepal.Length</th>\n",
       "      <th>Sepal.Width</th>\n",
       "      <th>Petal.Length</th>\n",
       "      <th>Petal.Width</th>\n",
       "      <th>Species</th>\n",
       "      <th>is_train</th>\n",
       "    </tr>\n",
       "  </thead>\n",
       "  <tbody>\n",
       "    <tr>\n",
       "      <th>0</th>\n",
       "      <td>5.1</td>\n",
       "      <td>3.5</td>\n",
       "      <td>1.4</td>\n",
       "      <td>0.2</td>\n",
       "      <td>setosa</td>\n",
       "      <td>True</td>\n",
       "    </tr>\n",
       "    <tr>\n",
       "      <th>1</th>\n",
       "      <td>4.9</td>\n",
       "      <td>3.0</td>\n",
       "      <td>1.4</td>\n",
       "      <td>0.2</td>\n",
       "      <td>setosa</td>\n",
       "      <td>False</td>\n",
       "    </tr>\n",
       "    <tr>\n",
       "      <th>2</th>\n",
       "      <td>4.7</td>\n",
       "      <td>3.2</td>\n",
       "      <td>1.3</td>\n",
       "      <td>0.2</td>\n",
       "      <td>setosa</td>\n",
       "      <td>True</td>\n",
       "    </tr>\n",
       "    <tr>\n",
       "      <th>3</th>\n",
       "      <td>4.6</td>\n",
       "      <td>3.1</td>\n",
       "      <td>1.5</td>\n",
       "      <td>0.2</td>\n",
       "      <td>setosa</td>\n",
       "      <td>True</td>\n",
       "    </tr>\n",
       "    <tr>\n",
       "      <th>4</th>\n",
       "      <td>5.0</td>\n",
       "      <td>3.6</td>\n",
       "      <td>1.4</td>\n",
       "      <td>0.2</td>\n",
       "      <td>setosa</td>\n",
       "      <td>True</td>\n",
       "    </tr>\n",
       "  </tbody>\n",
       "</table>\n",
       "</div>"
      ],
      "text/plain": [
       "   Sepal.Length  Sepal.Width  Petal.Length  Petal.Width Species  is_train\n",
       "0           5.1          3.5           1.4          0.2  setosa      True\n",
       "1           4.9          3.0           1.4          0.2  setosa     False\n",
       "2           4.7          3.2           1.3          0.2  setosa      True\n",
       "3           4.6          3.1           1.5          0.2  setosa      True\n",
       "4           5.0          3.6           1.4          0.2  setosa      True"
      ]
     },
     "execution_count": 14,
     "metadata": {},
     "output_type": "execute_result"
    }
   ],
   "source": [
    "df.head()"
   ]
  },
  {
   "cell_type": "code",
   "execution_count": 15,
   "id": "6f9d54b8",
   "metadata": {
    "scrolled": false
   },
   "outputs": [
    {
     "data": {
      "text/plain": [
       "(array([ 46.,   0.,   0.,   0.,   0.,   0.,   0.,   0.,   0., 104.]),\n",
       " array([0. , 0.1, 0.2, 0.3, 0.4, 0.5, 0.6, 0.7, 0.8, 0.9, 1. ],\n",
       "       dtype=float32),\n",
       " <BarContainer object of 10 artists>)"
      ]
     },
     "execution_count": 15,
     "metadata": {},
     "output_type": "execute_result"
    },
    {
     "data": {
      "image/png": "[encoded data removed]",
      "text/plain": [
       "<Figure size 432x288 with 1 Axes>"
      ]
     },
     "metadata": {
      "needs_background": "light"
     },
     "output_type": "display_data"
    }
   ],
   "source": [
    "plt.hist(df.is_train.astype(np.float32))"
   ]
  },
  {
   "cell_type": "code",
   "execution_count": 16,
   "id": "8d852d37",
   "metadata": {},
   "outputs": [],
   "source": [
    "train, test = df[df[\"is_train\"]==True], df[df[\"is_train\"]==False]"
   ]
  },
  {
   "cell_type": "code",
   "execution_count": 17,
   "id": "b0466c42",
   "metadata": {},
   "outputs": [],
   "source": [
    "from sklearn.tree import DecisionTreeClassifier"
   ]
  },
  {
   "cell_type": "code",
   "execution_count": 18,
   "id": "3deb0499",
   "metadata": {},
   "outputs": [
    {
     "data": {
      "text/plain": [
       "DecisionTreeClassifier(criterion='entropy', min_samples_split=10,\n",
       "                       random_state=99)"
      ]
     },
     "execution_count": 18,
     "metadata": {},
     "output_type": "execute_result"
    }
   ],
   "source": [
    "tree = DecisionTreeClassifier(criterion=\"entropy\", min_samples_split=10, random_state=99)\n",
    "tree.fit(train[predictors], train[target])"
   ]
  },
  {
   "cell_type": "code",
   "execution_count": 19,
   "id": "0188dedd",
   "metadata": {},
   "outputs": [],
   "source": [
    "preds = tree.predict(test[predictors])"
   ]
  },
  {
   "cell_type": "code",
   "execution_count": 43,
   "id": "fc61cbe3",
   "metadata": {},
   "outputs": [
    {
     "data": {
      "text/plain": [
       "(46, 6)"
      ]
     },
     "execution_count": 43,
     "metadata": {},
     "output_type": "execute_result"
    }
   ],
   "source": [
    "test.shape"
   ]
  },
  {
   "cell_type": "code",
   "execution_count": 20,
   "id": "bf2e688a",
   "metadata": {},
   "outputs": [
    {
     "data": {
      "text/html": [
       "<div>\n",
       "<style scoped>\n",
       "    .dataframe tbody tr th:only-of-type {\n",
       "        vertical-align: middle;\n",
       "    }\n",
       "\n",
       "    .dataframe tbody tr th {\n",
       "        vertical-align: top;\n",
       "    }\n",
       "\n",
       "    .dataframe thead th {\n",
       "        text-align: right;\n",
       "    }\n",
       "</style>\n",
       "<table border=\"1\" class=\"dataframe\">\n",
       "  <thead>\n",
       "    <tr style=\"text-align: right;\">\n",
       "      <th>Predictions</th>\n",
       "      <th>setosa</th>\n",
       "      <th>versicolor</th>\n",
       "      <th>virginica</th>\n",
       "    </tr>\n",
       "    <tr>\n",
       "      <th>Actual</th>\n",
       "      <th></th>\n",
       "      <th></th>\n",
       "      <th></th>\n",
       "    </tr>\n",
       "  </thead>\n",
       "  <tbody>\n",
       "    <tr>\n",
       "      <th>setosa</th>\n",
       "      <td>13</td>\n",
       "      <td>0</td>\n",
       "      <td>0</td>\n",
       "    </tr>\n",
       "    <tr>\n",
       "      <th>versicolor</th>\n",
       "      <td>0</td>\n",
       "      <td>19</td>\n",
       "      <td>0</td>\n",
       "    </tr>\n",
       "    <tr>\n",
       "      <th>virginica</th>\n",
       "      <td>0</td>\n",
       "      <td>1</td>\n",
       "      <td>13</td>\n",
       "    </tr>\n",
       "  </tbody>\n",
       "</table>\n",
       "</div>"
      ],
      "text/plain": [
       "Predictions  setosa  versicolor  virginica\n",
       "Actual                                    \n",
       "setosa           13           0          0\n",
       "versicolor        0          19          0\n",
       "virginica         0           1         13"
      ]
     },
     "execution_count": 20,
     "metadata": {},
     "output_type": "execute_result"
    }
   ],
   "source": [
    "pd.crosstab(test[target], preds, rownames=[\"Actual\"], colnames=[\"Predictions\"])"
   ]
  },
  {
   "cell_type": "markdown",
   "id": "4c002fbe",
   "metadata": {},
   "source": [
    "## Visualización del árbol de desición"
   ]
  },
  {
   "cell_type": "code",
   "execution_count": 21,
   "id": "dbf2e0a0",
   "metadata": {},
   "outputs": [],
   "source": [
    "from sklearn.tree import export_graphviz"
   ]
  },
  {
   "cell_type": "code",
   "execution_count": 22,
   "id": "17736148",
   "metadata": {},
   "outputs": [],
   "source": [
    "with open(\"../../Data-Sets/notebooks/resources/iris_dtree.dot\", \"w\") as dotfile:\n",
    "    export_graphviz(tree, out_file=dotfile, feature_names=predictors)\n",
    "    dotfile.close()"
   ]
  },
  {
   "cell_type": "code",
   "execution_count": 23,
   "id": "1c46a1a6",
   "metadata": {},
   "outputs": [],
   "source": [
    "import os \n",
    "os.environ[\"PATH\"] += os.pathsep + r'C:\\Program Files\\Graphviz\\bin'\n",
    "from graphviz import Source"
   ]
  },
  {
   "cell_type": "code",
   "execution_count": 24,
   "id": "18e1e7ce",
   "metadata": {},
   "outputs": [
    {
     "data": {
      "text/plain": [
       "'digraph Tree {\\nnode [shape=box] ;\\n0 [label=\"Petal.Length <= 2.45\\\\nentropy = 1.581\\\\nsamples = 104\\\\nvalue = [37, 31, 36]\"] ;\\n1 [label=\"entropy = 0.0\\\\nsamples = 37\\\\nvalue = [37, 0, 0]\"] ;\\n0 -> 1 [labeldistance=2.5, labelangle=45, headlabel=\"True\"] ;\\n2 [label=\"Petal.Length <= 5.05\\\\nentropy = 0.996\\\\nsamples = 67\\\\nvalue = [0, 31, 36]\"] ;\\n0 -> 2 [labeldistance=2.5, labelangle=-45, headlabel=\"False\"] ;\\n3 [label=\"Petal.Width <= 1.65\\\\nentropy = 0.523\\\\nsamples = 34\\\\nvalue = [0, 30, 4]\"] ;\\n2 -> 3 ;\\n4 [label=\"entropy = 0.0\\\\nsamples = 28\\\\nvalue = [0, 28, 0]\"] ;\\n3 -> 4 ;\\n5 [label=\"entropy = 0.918\\\\nsamples = 6\\\\nvalue = [0, 2, 4]\"] ;\\n3 -> 5 ;\\n6 [label=\"Petal.Width <= 1.7\\\\nentropy = 0.196\\\\nsamples = 33\\\\nvalue = [0, 1, 32]\"] ;\\n2 -> 6 ;\\n7 [label=\"entropy = 0.811\\\\nsamples = 4\\\\nvalue = [0, 1, 3]\"] ;\\n6 -> 7 ;\\n8 [label=\"entropy = 0.0\\\\nsamples = 29\\\\nvalue = [0, 0, 29]\"] ;\\n6 -> 8 ;\\n}'"
      ]
     },
     "execution_count": 24,
     "metadata": {},
     "output_type": "execute_result"
    }
   ],
   "source": [
    "file = open(\"../../Data-Sets/notebooks/resources/iris_dtree.dot\", \"r\")\n",
    "text = file.read()\n",
    "text"
   ]
  },
  {
   "cell_type": "code",
   "execution_count": 44,
   "id": "842c290c",
   "metadata": {},
   "outputs": [],
   "source": [
    "text2='digraph Tree {\\nnode [shape=circle] ;\\n0 [label=\"Petal.Length <= 2.45\\\\nentropy = 1.581\\\\nsamples = 104\\\\nvalue = [37, 31, 36]\"] ;\\n1 [label=\"entropy = 0.0\\\\nsamples = 37\\\\nvalue = [37, 0, 0]\"] ;\\n0 -> 1 [labeldistance=2.5, labelangle=45, headlabel=\"True\"] ;\\n2 [label=\"Petal.Length <= 5.05\\\\nentropy = 0.996\\\\nsamples = 67\\\\nvalue = [0, 31, 36]\"] ;\\n0 -> 2 [labeldistance=2.5, labelangle=-45, headlabel=\"False\"] ;\\n3 [label=\"Petal.Width <= 1.65\\\\nentropy = 0.523\\\\nsamples = 34\\\\nvalue = [0, 30, 4]\"] ;\\n2 -> 3 ;\\n4 [label=\"entropy = 0.0\\\\nsamples = 28\\\\nvalue = [0, 28, 0]\"] ;\\n3 -> 4 ;\\n5 [label=\"entropy = 0.918\\\\nsamples = 6\\\\nvalue = [0, 2, 4]\"] ;\\n3 -> 5 ;\\n6 [label=\"Petal.Width <= 1.7\\\\nentropy = 0.196\\\\nsamples = 33\\\\nvalue = [0, 1, 32]\"] ;\\n2 -> 6 ;\\n7 [label=\"entropy = 0.811\\\\nsamples = 4\\\\nvalue = [0, 1, 3]\"] ;\\n6 -> 7 ;\\n8 [label=\"entropy = 0.0\\\\nsamples = 29\\\\nvalue = [0, 0, 29]\"] ;\\n6 -> 8 ;\\n}'"
   ]
  },
  {
   "cell_type": "code",
   "execution_count": 45,
   "id": "c87689a9",
   "metadata": {},
   "outputs": [
    {
     "data": {
      "image/svg+xml": [
       "<?xml version=\"1.0\" encoding=\"UTF-8\" standalone=\"no\"?>\n",
       "<!DOCTYPE svg PUBLIC \"-//W3C//DTD SVG 1.1//EN\"\n",
       " \"http://www.w3.org/Graphics/SVG/1.1/DTD/svg11.dtd\">\n",
       "<!-- Generated by graphviz version 3.0.0 (20220226.1711)\n",
       " -->\n",
       "<!-- Title: Tree Pages: 1 -->\n",
       "<svg width=\"692pt\" height=\"837pt\"\n",
       " viewBox=\"0.00 0.00 692.39 837.25\" xmlns=\"http://www.w3.org/2000/svg\" xmlns:xlink=\"http://www.w3.org/1999/xlink\">\n",
       "<g id=\"graph0\" class=\"graph\" transform=\"scale(1 1) rotate(0) translate(4 833.25)\">\n",
       "<title>Tree</title>\n",
       "<polygon fill=\"white\" stroke=\"transparent\" points=\"-4,4 -4,-833.25 688.39,-833.25 688.39,4 -4,4\"/>\n",
       "<!-- 0 -->\n",
       "<g id=\"node1\" class=\"node\">\n",
       "<title>0</title>\n",
       "<ellipse fill=\"none\" stroke=\"black\" cx=\"245.2\" cy=\"-734.5\" rx=\"94.51\" ry=\"94.51\"/>\n",
       "<text text-anchor=\"middle\" x=\"245.2\" y=\"-753.3\" font-family=\"Times New Roman,serif\" font-size=\"14.00\">Petal.Length &lt;= 2.45</text>\n",
       "<text text-anchor=\"middle\" x=\"245.2\" y=\"-738.3\" font-family=\"Times New Roman,serif\" font-size=\"14.00\">entropy = 1.581</text>\n",
       "<text text-anchor=\"middle\" x=\"245.2\" y=\"-723.3\" font-family=\"Times New Roman,serif\" font-size=\"14.00\">samples = 104</text>\n",
       "<text text-anchor=\"middle\" x=\"245.2\" y=\"-708.3\" font-family=\"Times New Roman,serif\" font-size=\"14.00\">value = [37, 31, 36]</text>\n",
       "</g>\n",
       "<!-- 1 -->\n",
       "<g id=\"node2\" class=\"node\">\n",
       "<title>1</title>\n",
       "<ellipse fill=\"none\" stroke=\"black\" cx=\"149.2\" cy=\"-508.99\" rx=\"79.39\" ry=\"79.39\"/>\n",
       "<text text-anchor=\"middle\" x=\"149.2\" y=\"-520.29\" font-family=\"Times New Roman,serif\" font-size=\"14.00\">entropy = 0.0</text>\n",
       "<text text-anchor=\"middle\" x=\"149.2\" y=\"-505.29\" font-family=\"Times New Roman,serif\" font-size=\"14.00\">samples = 37</text>\n",
       "<text text-anchor=\"middle\" x=\"149.2\" y=\"-490.29\" font-family=\"Times New Roman,serif\" font-size=\"14.00\">value = [37, 0, 0]</text>\n",
       "</g>\n",
       "<!-- 0&#45;&gt;1 -->\n",
       "<g id=\"edge1\" class=\"edge\">\n",
       "<title>0&#45;&gt;1</title>\n",
       "<path fill=\"none\" stroke=\"black\" d=\"M208.08,-647.08C200.22,-628.78 191.94,-609.51 184.16,-591.4\"/>\n",
       "<polygon fill=\"black\" stroke=\"black\" points=\"187.31,-589.85 180.14,-582.05 180.88,-592.61 187.31,-589.85\"/>\n",
       "<text text-anchor=\"middle\" x=\"170.88\" y=\"-601.56\" font-family=\"Times New Roman,serif\" font-size=\"14.00\">True</text>\n",
       "</g>\n",
       "<!-- 2 -->\n",
       "<g id=\"node3\" class=\"node\">\n",
       "<title>2</title>\n",
       "<ellipse fill=\"none\" stroke=\"black\" cx=\"341.2\" cy=\"-508.99\" rx=\"94.51\" ry=\"94.51\"/>\n",
       "<text text-anchor=\"middle\" x=\"341.2\" y=\"-527.79\" font-family=\"Times New Roman,serif\" font-size=\"14.00\">Petal.Length &lt;= 5.05</text>\n",
       "<text text-anchor=\"middle\" x=\"341.2\" y=\"-512.79\" font-family=\"Times New Roman,serif\" font-size=\"14.00\">entropy = 0.996</text>\n",
       "<text text-anchor=\"middle\" x=\"341.2\" y=\"-497.79\" font-family=\"Times New Roman,serif\" font-size=\"14.00\">samples = 67</text>\n",
       "<text text-anchor=\"middle\" x=\"341.2\" y=\"-482.79\" font-family=\"Times New Roman,serif\" font-size=\"14.00\">value = [0, 31, 36]</text>\n",
       "</g>\n",
       "<!-- 0&#45;&gt;2 -->\n",
       "<g id=\"edge2\" class=\"edge\">\n",
       "<title>0&#45;&gt;2</title>\n",
       "<path fill=\"none\" stroke=\"black\" d=\"M282.31,-647.08C288.1,-633.61 294.11,-619.62 299.98,-605.95\"/>\n",
       "<polygon fill=\"black\" stroke=\"black\" points=\"303.29,-607.11 304.02,-596.54 296.86,-604.35 303.29,-607.11\"/>\n",
       "<text text-anchor=\"middle\" x=\"313.29\" y=\"-616.06\" font-family=\"Times New Roman,serif\" font-size=\"14.00\">False</text>\n",
       "</g>\n",
       "<!-- 3 -->\n",
       "<g id=\"node4\" class=\"node\">\n",
       "<title>3</title>\n",
       "<ellipse fill=\"none\" stroke=\"black\" cx=\"243.2\" cy=\"-286.32\" rx=\"91.85\" ry=\"91.85\"/>\n",
       "<text text-anchor=\"middle\" x=\"243.2\" y=\"-305.12\" font-family=\"Times New Roman,serif\" font-size=\"14.00\">Petal.Width &lt;= 1.65</text>\n",
       "<text text-anchor=\"middle\" x=\"243.2\" y=\"-290.12\" font-family=\"Times New Roman,serif\" font-size=\"14.00\">entropy = 0.523</text>\n",
       "<text text-anchor=\"middle\" x=\"243.2\" y=\"-275.12\" font-family=\"Times New Roman,serif\" font-size=\"14.00\">samples = 34</text>\n",
       "<text text-anchor=\"middle\" x=\"243.2\" y=\"-260.12\" font-family=\"Times New Roman,serif\" font-size=\"14.00\">value = [0, 30, 4]</text>\n",
       "</g>\n",
       "<!-- 2&#45;&gt;3 -->\n",
       "<g id=\"edge3\" class=\"edge\">\n",
       "<title>2&#45;&gt;3</title>\n",
       "<path fill=\"none\" stroke=\"black\" d=\"M303.03,-422.04C296.85,-408.14 290.44,-393.7 284.2,-379.66\"/>\n",
       "<polygon fill=\"black\" stroke=\"black\" points=\"287.39,-378.22 280.14,-370.5 281,-381.06 287.39,-378.22\"/>\n",
       "</g>\n",
       "<!-- 6 -->\n",
       "<g id=\"node7\" class=\"node\">\n",
       "<title>6</title>\n",
       "<ellipse fill=\"none\" stroke=\"black\" cx=\"440.2\" cy=\"-286.32\" rx=\"86.95\" ry=\"86.95\"/>\n",
       "<text text-anchor=\"middle\" x=\"440.2\" y=\"-305.12\" font-family=\"Times New Roman,serif\" font-size=\"14.00\">Petal.Width &lt;= 1.7</text>\n",
       "<text text-anchor=\"middle\" x=\"440.2\" y=\"-290.12\" font-family=\"Times New Roman,serif\" font-size=\"14.00\">entropy = 0.196</text>\n",
       "<text text-anchor=\"middle\" x=\"440.2\" y=\"-275.12\" font-family=\"Times New Roman,serif\" font-size=\"14.00\">samples = 33</text>\n",
       "<text text-anchor=\"middle\" x=\"440.2\" y=\"-260.12\" font-family=\"Times New Roman,serif\" font-size=\"14.00\">value = [0, 1, 32]</text>\n",
       "</g>\n",
       "<!-- 2&#45;&gt;6 -->\n",
       "<g id=\"edge6\" class=\"edge\">\n",
       "<title>2&#45;&gt;6</title>\n",
       "<path fill=\"none\" stroke=\"black\" d=\"M379.61,-422.36C386.5,-407.01 393.69,-390.98 400.61,-375.56\"/>\n",
       "<polygon fill=\"black\" stroke=\"black\" points=\"403.98,-376.6 404.88,-366.05 397.59,-373.74 403.98,-376.6\"/>\n",
       "</g>\n",
       "<!-- 4 -->\n",
       "<g id=\"node5\" class=\"node\">\n",
       "<title>4</title>\n",
       "<ellipse fill=\"none\" stroke=\"black\" cx=\"79.2\" cy=\"-79.2\" rx=\"79.39\" ry=\"79.39\"/>\n",
       "<text text-anchor=\"middle\" x=\"79.2\" y=\"-90.5\" font-family=\"Times New Roman,serif\" font-size=\"14.00\">entropy = 0.0</text>\n",
       "<text text-anchor=\"middle\" x=\"79.2\" y=\"-75.5\" font-family=\"Times New Roman,serif\" font-size=\"14.00\">samples = 28</text>\n",
       "<text text-anchor=\"middle\" x=\"79.2\" y=\"-60.5\" font-family=\"Times New Roman,serif\" font-size=\"14.00\">value = [0, 28, 0]</text>\n",
       "</g>\n",
       "<!-- 3&#45;&gt;4 -->\n",
       "<g id=\"edge4\" class=\"edge\">\n",
       "<title>3&#45;&gt;4</title>\n",
       "<path fill=\"none\" stroke=\"black\" d=\"M186.07,-213.86C169.35,-192.95 151.1,-170.13 134.49,-149.36\"/>\n",
       "<polygon fill=\"black\" stroke=\"black\" points=\"137.19,-147.13 128.22,-141.51 131.73,-151.5 137.19,-147.13\"/>\n",
       "</g>\n",
       "<!-- 5 -->\n",
       "<g id=\"node6\" class=\"node\">\n",
       "<title>5</title>\n",
       "<ellipse fill=\"none\" stroke=\"black\" cx=\"251.2\" cy=\"-79.2\" rx=\"74.91\" ry=\"74.91\"/>\n",
       "<text text-anchor=\"middle\" x=\"251.2\" y=\"-90.5\" font-family=\"Times New Roman,serif\" font-size=\"14.00\">entropy = 0.918</text>\n",
       "<text text-anchor=\"middle\" x=\"251.2\" y=\"-75.5\" font-family=\"Times New Roman,serif\" font-size=\"14.00\">samples = 6</text>\n",
       "<text text-anchor=\"middle\" x=\"251.2\" y=\"-60.5\" font-family=\"Times New Roman,serif\" font-size=\"14.00\">value = [0, 2, 4]</text>\n",
       "</g>\n",
       "<!-- 3&#45;&gt;5 -->\n",
       "<g id=\"edge5\" class=\"edge\">\n",
       "<title>3&#45;&gt;5</title>\n",
       "<path fill=\"none\" stroke=\"black\" d=\"M246.74,-194.45C247.13,-184.51 247.52,-174.42 247.91,-164.56\"/>\n",
       "<polygon fill=\"black\" stroke=\"black\" points=\"251.41,-164.52 248.3,-154.39 244.42,-164.24 251.41,-164.52\"/>\n",
       "</g>\n",
       "<!-- 7 -->\n",
       "<g id=\"node8\" class=\"node\">\n",
       "<title>7</title>\n",
       "<ellipse fill=\"none\" stroke=\"black\" cx=\"433.2\" cy=\"-79.2\" rx=\"74.91\" ry=\"74.91\"/>\n",
       "<text text-anchor=\"middle\" x=\"433.2\" y=\"-90.5\" font-family=\"Times New Roman,serif\" font-size=\"14.00\">entropy = 0.811</text>\n",
       "<text text-anchor=\"middle\" x=\"433.2\" y=\"-75.5\" font-family=\"Times New Roman,serif\" font-size=\"14.00\">samples = 4</text>\n",
       "<text text-anchor=\"middle\" x=\"433.2\" y=\"-60.5\" font-family=\"Times New Roman,serif\" font-size=\"14.00\">value = [0, 1, 3]</text>\n",
       "</g>\n",
       "<!-- 6&#45;&gt;7 -->\n",
       "<g id=\"edge7\" class=\"edge\">\n",
       "<title>6&#45;&gt;7</title>\n",
       "<path fill=\"none\" stroke=\"black\" d=\"M437.26,-199.22C436.86,-187.69 436.46,-175.87 436.07,-164.37\"/>\n",
       "<polygon fill=\"black\" stroke=\"black\" points=\"439.57,-164.24 435.73,-154.36 432.57,-164.48 439.57,-164.24\"/>\n",
       "</g>\n",
       "<!-- 8 -->\n",
       "<g id=\"node9\" class=\"node\">\n",
       "<title>8</title>\n",
       "<ellipse fill=\"none\" stroke=\"black\" cx=\"605.2\" cy=\"-79.2\" rx=\"79.39\" ry=\"79.39\"/>\n",
       "<text text-anchor=\"middle\" x=\"605.2\" y=\"-90.5\" font-family=\"Times New Roman,serif\" font-size=\"14.00\">entropy = 0.0</text>\n",
       "<text text-anchor=\"middle\" x=\"605.2\" y=\"-75.5\" font-family=\"Times New Roman,serif\" font-size=\"14.00\">samples = 29</text>\n",
       "<text text-anchor=\"middle\" x=\"605.2\" y=\"-60.5\" font-family=\"Times New Roman,serif\" font-size=\"14.00\">value = [0, 0, 29]</text>\n",
       "</g>\n",
       "<!-- 6&#45;&gt;8 -->\n",
       "<g id=\"edge8\" class=\"edge\">\n",
       "<title>6&#45;&gt;8</title>\n",
       "<path fill=\"none\" stroke=\"black\" d=\"M494.22,-218.15C511.89,-196.2 531.53,-171.77 549.33,-149.65\"/>\n",
       "<polygon fill=\"black\" stroke=\"black\" points=\"552.25,-151.6 555.79,-141.61 546.8,-147.21 552.25,-151.6\"/>\n",
       "</g>\n",
       "</g>\n",
       "</svg>\n"
      ],
      "text/plain": [
       "<graphviz.sources.Source at 0x1f111995970>"
      ]
     },
     "execution_count": 45,
     "metadata": {},
     "output_type": "execute_result"
    }
   ],
   "source": [
    "Source(text2)"
   ]
  },
  {
   "cell_type": "code",
   "execution_count": 25,
   "id": "cdc1fc46",
   "metadata": {
    "scrolled": false
   },
   "outputs": [
    {
     "data": {
      "image/svg+xml": [
       "<?xml version=\"1.0\" encoding=\"UTF-8\" standalone=\"no\"?>\n",
       "<!DOCTYPE svg PUBLIC \"-//W3C//DTD SVG 1.1//EN\"\n",
       " \"http://www.w3.org/Graphics/SVG/1.1/DTD/svg11.dtd\">\n",
       "<!-- Generated by graphviz version 3.0.0 (20220226.1711)\n",
       " -->\n",
       "<!-- Title: Tree Pages: 1 -->\n",
       "<svg width=\"508pt\" height=\"373pt\"\n",
       " viewBox=\"0.00 0.00 508.00 373.00\" xmlns=\"http://www.w3.org/2000/svg\" xmlns:xlink=\"http://www.w3.org/1999/xlink\">\n",
       "<g id=\"graph0\" class=\"graph\" transform=\"scale(1 1) rotate(0) translate(4 369)\">\n",
       "<title>Tree</title>\n",
       "<polygon fill=\"white\" stroke=\"transparent\" points=\"-4,4 -4,-369 504,-369 504,4 -4,4\"/>\n",
       "<!-- 0 -->\n",
       "<g id=\"node1\" class=\"node\">\n",
       "<title>0</title>\n",
       "<polygon fill=\"none\" stroke=\"black\" points=\"245,-365 111,-365 111,-297 245,-297 245,-365\"/>\n",
       "<text text-anchor=\"middle\" x=\"178\" y=\"-349.8\" font-family=\"Times New Roman,serif\" font-size=\"14.00\">Petal.Length &lt;= 2.45</text>\n",
       "<text text-anchor=\"middle\" x=\"178\" y=\"-334.8\" font-family=\"Times New Roman,serif\" font-size=\"14.00\">entropy = 1.581</text>\n",
       "<text text-anchor=\"middle\" x=\"178\" y=\"-319.8\" font-family=\"Times New Roman,serif\" font-size=\"14.00\">samples = 104</text>\n",
       "<text text-anchor=\"middle\" x=\"178\" y=\"-304.8\" font-family=\"Times New Roman,serif\" font-size=\"14.00\">value = [37, 31, 36]</text>\n",
       "</g>\n",
       "<!-- 1 -->\n",
       "<g id=\"node2\" class=\"node\">\n",
       "<title>1</title>\n",
       "<polygon fill=\"none\" stroke=\"black\" points=\"164,-253.5 52,-253.5 52,-200.5 164,-200.5 164,-253.5\"/>\n",
       "<text text-anchor=\"middle\" x=\"108\" y=\"-238.3\" font-family=\"Times New Roman,serif\" font-size=\"14.00\">entropy = 0.0</text>\n",
       "<text text-anchor=\"middle\" x=\"108\" y=\"-223.3\" font-family=\"Times New Roman,serif\" font-size=\"14.00\">samples = 37</text>\n",
       "<text text-anchor=\"middle\" x=\"108\" y=\"-208.3\" font-family=\"Times New Roman,serif\" font-size=\"14.00\">value = [37, 0, 0]</text>\n",
       "</g>\n",
       "<!-- 0&#45;&gt;1 -->\n",
       "<g id=\"edge1\" class=\"edge\">\n",
       "<title>0&#45;&gt;1</title>\n",
       "<path fill=\"none\" stroke=\"black\" d=\"M155.27,-296.88C147.57,-285.67 138.97,-273.13 131.23,-261.85\"/>\n",
       "<polygon fill=\"black\" stroke=\"black\" points=\"134.06,-259.78 125.51,-253.52 128.29,-263.75 134.06,-259.78\"/>\n",
       "<text text-anchor=\"middle\" x=\"120.94\" y=\"-274.4\" font-family=\"Times New Roman,serif\" font-size=\"14.00\">True</text>\n",
       "</g>\n",
       "<!-- 2 -->\n",
       "<g id=\"node3\" class=\"node\">\n",
       "<title>2</title>\n",
       "<polygon fill=\"none\" stroke=\"black\" points=\"316,-261 182,-261 182,-193 316,-193 316,-261\"/>\n",
       "<text text-anchor=\"middle\" x=\"249\" y=\"-245.8\" font-family=\"Times New Roman,serif\" font-size=\"14.00\">Petal.Length &lt;= 5.05</text>\n",
       "<text text-anchor=\"middle\" x=\"249\" y=\"-230.8\" font-family=\"Times New Roman,serif\" font-size=\"14.00\">entropy = 0.996</text>\n",
       "<text text-anchor=\"middle\" x=\"249\" y=\"-215.8\" font-family=\"Times New Roman,serif\" font-size=\"14.00\">samples = 67</text>\n",
       "<text text-anchor=\"middle\" x=\"249\" y=\"-200.8\" font-family=\"Times New Roman,serif\" font-size=\"14.00\">value = [0, 31, 36]</text>\n",
       "</g>\n",
       "<!-- 0&#45;&gt;2 -->\n",
       "<g id=\"edge2\" class=\"edge\">\n",
       "<title>0&#45;&gt;2</title>\n",
       "<path fill=\"none\" stroke=\"black\" d=\"M201.05,-296.88C207.13,-288.15 213.76,-278.62 220.1,-269.51\"/>\n",
       "<polygon fill=\"black\" stroke=\"black\" points=\"222.98,-271.51 225.82,-261.3 217.24,-267.51 222.98,-271.51\"/>\n",
       "<text text-anchor=\"middle\" x=\"230.23\" y=\"-282.21\" font-family=\"Times New Roman,serif\" font-size=\"14.00\">False</text>\n",
       "</g>\n",
       "<!-- 3 -->\n",
       "<g id=\"node4\" class=\"node\">\n",
       "<title>3</title>\n",
       "<polygon fill=\"none\" stroke=\"black\" points=\"242,-157 112,-157 112,-89 242,-89 242,-157\"/>\n",
       "<text text-anchor=\"middle\" x=\"177\" y=\"-141.8\" font-family=\"Times New Roman,serif\" font-size=\"14.00\">Petal.Width &lt;= 1.65</text>\n",
       "<text text-anchor=\"middle\" x=\"177\" y=\"-126.8\" font-family=\"Times New Roman,serif\" font-size=\"14.00\">entropy = 0.523</text>\n",
       "<text text-anchor=\"middle\" x=\"177\" y=\"-111.8\" font-family=\"Times New Roman,serif\" font-size=\"14.00\">samples = 34</text>\n",
       "<text text-anchor=\"middle\" x=\"177\" y=\"-96.8\" font-family=\"Times New Roman,serif\" font-size=\"14.00\">value = [0, 30, 4]</text>\n",
       "</g>\n",
       "<!-- 2&#45;&gt;3 -->\n",
       "<g id=\"edge3\" class=\"edge\">\n",
       "<title>2&#45;&gt;3</title>\n",
       "<path fill=\"none\" stroke=\"black\" d=\"M225.62,-192.88C219.46,-184.15 212.74,-174.62 206.3,-165.51\"/>\n",
       "<polygon fill=\"black\" stroke=\"black\" points=\"209.13,-163.45 200.51,-157.3 203.41,-167.49 209.13,-163.45\"/>\n",
       "</g>\n",
       "<!-- 6 -->\n",
       "<g id=\"node7\" class=\"node\">\n",
       "<title>6</title>\n",
       "<polygon fill=\"none\" stroke=\"black\" points=\"383.5,-157 260.5,-157 260.5,-89 383.5,-89 383.5,-157\"/>\n",
       "<text text-anchor=\"middle\" x=\"322\" y=\"-141.8\" font-family=\"Times New Roman,serif\" font-size=\"14.00\">Petal.Width &lt;= 1.7</text>\n",
       "<text text-anchor=\"middle\" x=\"322\" y=\"-126.8\" font-family=\"Times New Roman,serif\" font-size=\"14.00\">entropy = 0.196</text>\n",
       "<text text-anchor=\"middle\" x=\"322\" y=\"-111.8\" font-family=\"Times New Roman,serif\" font-size=\"14.00\">samples = 33</text>\n",
       "<text text-anchor=\"middle\" x=\"322\" y=\"-96.8\" font-family=\"Times New Roman,serif\" font-size=\"14.00\">value = [0, 1, 32]</text>\n",
       "</g>\n",
       "<!-- 2&#45;&gt;6 -->\n",
       "<g id=\"edge6\" class=\"edge\">\n",
       "<title>2&#45;&gt;6</title>\n",
       "<path fill=\"none\" stroke=\"black\" d=\"M272.7,-192.88C278.95,-184.15 285.77,-174.62 292.29,-165.51\"/>\n",
       "<polygon fill=\"black\" stroke=\"black\" points=\"295.19,-167.47 298.17,-157.3 289.5,-163.39 295.19,-167.47\"/>\n",
       "</g>\n",
       "<!-- 4 -->\n",
       "<g id=\"node5\" class=\"node\">\n",
       "<title>4</title>\n",
       "<polygon fill=\"none\" stroke=\"black\" points=\"112,-53 0,-53 0,0 112,0 112,-53\"/>\n",
       "<text text-anchor=\"middle\" x=\"56\" y=\"-37.8\" font-family=\"Times New Roman,serif\" font-size=\"14.00\">entropy = 0.0</text>\n",
       "<text text-anchor=\"middle\" x=\"56\" y=\"-22.8\" font-family=\"Times New Roman,serif\" font-size=\"14.00\">samples = 28</text>\n",
       "<text text-anchor=\"middle\" x=\"56\" y=\"-7.8\" font-family=\"Times New Roman,serif\" font-size=\"14.00\">value = [0, 28, 0]</text>\n",
       "</g>\n",
       "<!-- 3&#45;&gt;4 -->\n",
       "<g id=\"edge4\" class=\"edge\">\n",
       "<title>3&#45;&gt;4</title>\n",
       "<path fill=\"none\" stroke=\"black\" d=\"M134.68,-88.95C122.5,-79.43 109.23,-69.07 97.12,-59.62\"/>\n",
       "<polygon fill=\"black\" stroke=\"black\" points=\"98.99,-56.63 88.95,-53.24 94.68,-62.15 98.99,-56.63\"/>\n",
       "</g>\n",
       "<!-- 5 -->\n",
       "<g id=\"node6\" class=\"node\">\n",
       "<title>5</title>\n",
       "<polygon fill=\"none\" stroke=\"black\" points=\"236,-53 130,-53 130,0 236,0 236,-53\"/>\n",
       "<text text-anchor=\"middle\" x=\"183\" y=\"-37.8\" font-family=\"Times New Roman,serif\" font-size=\"14.00\">entropy = 0.918</text>\n",
       "<text text-anchor=\"middle\" x=\"183\" y=\"-22.8\" font-family=\"Times New Roman,serif\" font-size=\"14.00\">samples = 6</text>\n",
       "<text text-anchor=\"middle\" x=\"183\" y=\"-7.8\" font-family=\"Times New Roman,serif\" font-size=\"14.00\">value = [0, 2, 4]</text>\n",
       "</g>\n",
       "<!-- 3&#45;&gt;5 -->\n",
       "<g id=\"edge5\" class=\"edge\">\n",
       "<title>3&#45;&gt;5</title>\n",
       "<path fill=\"none\" stroke=\"black\" d=\"M179.1,-88.95C179.62,-80.72 180.18,-71.85 180.72,-63.48\"/>\n",
       "<polygon fill=\"black\" stroke=\"black\" points=\"184.23,-63.44 181.37,-53.24 177.24,-62.99 184.23,-63.44\"/>\n",
       "</g>\n",
       "<!-- 7 -->\n",
       "<g id=\"node8\" class=\"node\">\n",
       "<title>7</title>\n",
       "<polygon fill=\"none\" stroke=\"black\" points=\"370,-53 264,-53 264,0 370,0 370,-53\"/>\n",
       "<text text-anchor=\"middle\" x=\"317\" y=\"-37.8\" font-family=\"Times New Roman,serif\" font-size=\"14.00\">entropy = 0.811</text>\n",
       "<text text-anchor=\"middle\" x=\"317\" y=\"-22.8\" font-family=\"Times New Roman,serif\" font-size=\"14.00\">samples = 4</text>\n",
       "<text text-anchor=\"middle\" x=\"317\" y=\"-7.8\" font-family=\"Times New Roman,serif\" font-size=\"14.00\">value = [0, 1, 3]</text>\n",
       "</g>\n",
       "<!-- 6&#45;&gt;7 -->\n",
       "<g id=\"edge7\" class=\"edge\">\n",
       "<title>6&#45;&gt;7</title>\n",
       "<path fill=\"none\" stroke=\"black\" d=\"M320.25,-88.95C319.82,-80.72 319.35,-71.85 318.9,-63.48\"/>\n",
       "<polygon fill=\"black\" stroke=\"black\" points=\"322.39,-63.04 318.36,-53.24 315.4,-63.41 322.39,-63.04\"/>\n",
       "</g>\n",
       "<!-- 8 -->\n",
       "<g id=\"node9\" class=\"node\">\n",
       "<title>8</title>\n",
       "<polygon fill=\"none\" stroke=\"black\" points=\"500,-53 388,-53 388,0 500,0 500,-53\"/>\n",
       "<text text-anchor=\"middle\" x=\"444\" y=\"-37.8\" font-family=\"Times New Roman,serif\" font-size=\"14.00\">entropy = 0.0</text>\n",
       "<text text-anchor=\"middle\" x=\"444\" y=\"-22.8\" font-family=\"Times New Roman,serif\" font-size=\"14.00\">samples = 29</text>\n",
       "<text text-anchor=\"middle\" x=\"444\" y=\"-7.8\" font-family=\"Times New Roman,serif\" font-size=\"14.00\">value = [0, 0, 29]</text>\n",
       "</g>\n",
       "<!-- 6&#45;&gt;8 -->\n",
       "<g id=\"edge8\" class=\"edge\">\n",
       "<title>6&#45;&gt;8</title>\n",
       "<path fill=\"none\" stroke=\"black\" d=\"M364.67,-88.95C376.95,-79.43 390.33,-69.07 402.54,-59.62\"/>\n",
       "<polygon fill=\"black\" stroke=\"black\" points=\"405.01,-62.13 410.77,-53.24 400.72,-56.59 405.01,-62.13\"/>\n",
       "</g>\n",
       "</g>\n",
       "</svg>\n"
      ],
      "text/plain": [
       "<graphviz.sources.Source at 0x1f10e4553a0>"
      ]
     },
     "execution_count": 25,
     "metadata": {},
     "output_type": "execute_result"
    }
   ],
   "source": [
    "Source(text)"
   ]
  },
  {
   "cell_type": "code",
   "execution_count": 46,
   "id": "b6a0e207",
   "metadata": {},
   "outputs": [
    {
     "data": {
      "text/plain": [
       "['Sepal.Length', 'Sepal.Width', 'Petal.Length', 'Petal.Width']"
      ]
     },
     "execution_count": 46,
     "metadata": {},
     "output_type": "execute_result"
    }
   ],
   "source": [
    "predictors"
   ]
  },
  {
   "cell_type": "markdown",
   "id": "9ba03b06",
   "metadata": {},
   "source": [
    "## Cross Validation para la poda"
   ]
  },
  {
   "cell_type": "code",
   "execution_count": 26,
   "id": "bbb2989d",
   "metadata": {},
   "outputs": [],
   "source": [
    "X = df[predictors]\n",
    "Y = df[target]"
   ]
  },
  {
   "cell_type": "code",
   "execution_count": 27,
   "id": "f7193b40",
   "metadata": {},
   "outputs": [
    {
     "data": {
      "text/plain": [
       "DecisionTreeClassifier(criterion='entropy', max_depth=5, min_samples_split=20,\n",
       "                       random_state=99)"
      ]
     },
     "execution_count": 27,
     "metadata": {},
     "output_type": "execute_result"
    }
   ],
   "source": [
    "tree = DecisionTreeClassifier(criterion=\"entropy\", max_depth=5, min_samples_split=20, random_state=99)\n",
    "tree.fit(X,Y)"
   ]
  },
  {
   "cell_type": "code",
   "execution_count": 29,
   "id": "d45bd087",
   "metadata": {},
   "outputs": [],
   "source": [
    "from sklearn.model_selection import cross_val_score  \n",
    "from sklearn.model_selection import KFold"
   ]
  },
  {
   "cell_type": "code",
   "execution_count": 32,
   "id": "917a4a4e",
   "metadata": {},
   "outputs": [],
   "source": [
    "cv = KFold(n_splits=10, shuffle=True, random_state=1)"
   ]
  },
  {
   "cell_type": "code",
   "execution_count": 33,
   "id": "49e8d723",
   "metadata": {},
   "outputs": [],
   "source": [
    "from sklearn.model_selection import cross_val_score"
   ]
  },
  {
   "cell_type": "code",
   "execution_count": 36,
   "id": "575f293a",
   "metadata": {},
   "outputs": [
    {
     "data": {
      "text/plain": [
       "array([1.        , 0.93333333, 0.93333333, 0.93333333, 1.        ,\n",
       "       0.93333333, 1.        , 0.86666667, 0.93333333, 0.8       ])"
      ]
     },
     "execution_count": 36,
     "metadata": {},
     "output_type": "execute_result"
    }
   ],
   "source": [
    "scores = cross_val_score(tree, X, Y, scoring=\"accuracy\", cv=cv, n_jobs=1)\n",
    "scores"
   ]
  },
  {
   "cell_type": "code",
   "execution_count": 37,
   "id": "2e076991",
   "metadata": {},
   "outputs": [],
   "source": [
    "score = np.mean(scores)"
   ]
  },
  {
   "cell_type": "code",
   "execution_count": 38,
   "id": "ada07a24",
   "metadata": {},
   "outputs": [
    {
     "data": {
      "text/plain": [
       "0.9333333333333333"
      ]
     },
     "execution_count": 38,
     "metadata": {},
     "output_type": "execute_result"
    }
   ],
   "source": [
    "score"
   ]
  },
  {
   "cell_type": "markdown",
   "id": "40505e84",
   "metadata": {},
   "source": [
    "Un score de 0.9333 nos dice que el modelo tiene un 93% de presición a la hora de realizar este tipo de clasificación."
   ]
  },
  {
   "cell_type": "code",
   "execution_count": 40,
   "id": "c80a0dfb",
   "metadata": {},
   "outputs": [
    {
     "name": "stdout",
     "output_type": "stream",
     "text": [
      "Score para i=  1 es de 0.5666666666666667\n",
      "    [0. 0. 1. 0.]\n",
      "Score para i=  2 es de 0.9200000000000002\n",
      "    [0.         0.         0.66620285 0.33379715]\n",
      "Score para i=  3 es de 0.9400000000000001\n",
      "    [0.         0.         0.68976981 0.31023019]\n",
      "Score para i=  4 es de 0.9333333333333333\n",
      "    [0.         0.         0.66869158 0.33130842]\n",
      "Score para i=  5 es de 0.9333333333333333\n",
      "    [0.         0.         0.66869158 0.33130842]\n",
      "Score para i=  6 es de 0.9333333333333333\n",
      "    [0.         0.         0.66869158 0.33130842]\n",
      "Score para i=  7 es de 0.9333333333333333\n",
      "    [0.         0.         0.66869158 0.33130842]\n",
      "Score para i=  8 es de 0.9333333333333333\n",
      "    [0.         0.         0.66869158 0.33130842]\n",
      "Score para i=  9 es de 0.9333333333333333\n",
      "    [0.         0.         0.66869158 0.33130842]\n",
      "Score para i=  10 es de 0.9333333333333333\n",
      "    [0.         0.         0.66869158 0.33130842]\n"
     ]
    }
   ],
   "source": [
    "for i in range(1,11):\n",
    "    tree = DecisionTreeClassifier(criterion=\"entropy\", max_depth=i, min_samples_split=20, random_state=99)\n",
    "    tree.fit(X,Y)\n",
    "    cv = KFold(n_splits=10, shuffle=True, random_state=1)\n",
    "    scores = cross_val_score(tree, X, Y, scoring=\"accuracy\", cv=cv, n_jobs=1)\n",
    "    score = np.mean(scores)\n",
    "    print(\"Score para i= \" , i , \"es de\", score)\n",
    "    print(\"   \", tree.feature_importances_)\n",
    "    "
   ]
  },
  {
   "cell_type": "markdown",
   "id": "ea2c3ddf",
   "metadata": {},
   "source": [
    "El máximo rendimiento se alcanza para i = 3, o sea para una profundidad del árbol de desición igual a 3."
   ]
  },
  {
   "cell_type": "code",
   "execution_count": 41,
   "id": "a36477a0",
   "metadata": {},
   "outputs": [
    {
     "data": {
      "text/plain": [
       "['Sepal.Length', 'Sepal.Width', 'Petal.Length', 'Petal.Width']"
      ]
     },
     "execution_count": 41,
     "metadata": {},
     "output_type": "execute_result"
    }
   ],
   "source": [
    "predictors"
   ]
  },
  {
   "cell_type": "markdown",
   "id": "7e94c9d9",
   "metadata": {},
   "source": [
    "Con tree.feature_importances_ tenemos los 4 predictores y su relevancia en el árbol, si sólo tuviéramos que elegir un solo clasificador, entonces probablemente nos quedaríamos con Petal.Length. En el caso de elegir 2, el 66% de la influencia se la lleva Petal.Length y Petal.Width con un 33% y así suscesivamente. Los **sépalos** no pintan nada al parecer."
   ]
  },
  {
   "cell_type": "markdown",
   "id": "63a6ab67",
   "metadata": {},
   "source": []
  }
 ],
 "metadata": {
  "kernelspec": {
   "display_name": "Python 3 (ipykernel)",
   "language": "python",
   "name": "python3"
  },
  "language_info": {
   "codemirror_mode": {
    "name": "ipython",
    "version": 3
   },
   "file_extension": ".py",
   "mimetype": "text/x-python",
   "name": "python",
   "nbconvert_exporter": "python",
   "pygments_lexer": "ipython3",
   "version": "3.9.7"
  }
 },
 "nbformat": 4,
 "nbformat_minor": 5
}
