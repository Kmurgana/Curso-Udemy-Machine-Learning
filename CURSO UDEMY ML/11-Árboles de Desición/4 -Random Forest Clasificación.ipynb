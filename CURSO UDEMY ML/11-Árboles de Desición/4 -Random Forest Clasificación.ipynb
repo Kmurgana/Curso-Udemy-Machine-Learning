{
 "cells": [
  {
   "cell_type": "markdown",
   "id": "f9de140a",
   "metadata": {},
   "source": [
    "## Random Forest para Clasificación"
   ]
  },
  {
   "cell_type": "code",
   "execution_count": 5,
   "id": "d2c1cec2",
   "metadata": {},
   "outputs": [],
   "source": [
    "import pandas as pd\n",
    "import numpy as np\n",
    "import matplotlib.pyplot as plt\n",
    "from sklearn.ensemble import RandomForestClassifier"
   ]
  },
  {
   "cell_type": "code",
   "execution_count": 2,
   "id": "c027f38a",
   "metadata": {},
   "outputs": [],
   "source": [
    "df = pd.read_csv(\"../../Data-Sets/datasets/iris/iris.csv\")"
   ]
  },
  {
   "cell_type": "code",
   "execution_count": 3,
   "id": "4a62c66f",
   "metadata": {},
   "outputs": [],
   "source": [
    "colnames = df.columns.values.tolist()\n",
    "predictors = colnames[:4]\n",
    "target = colnames[4]\n",
    "X = df[predictors]\n",
    "Y = df[target]"
   ]
  },
  {
   "cell_type": "code",
   "execution_count": 10,
   "id": "9c405430",
   "metadata": {},
   "outputs": [
    {
     "data": {
      "text/plain": [
       "RandomForestClassifier(n_estimators=500, n_jobs=2, oob_score=True)"
      ]
     },
     "execution_count": 10,
     "metadata": {},
     "output_type": "execute_result"
    }
   ],
   "source": [
    "forest = RandomForestClassifier(n_jobs=2, oob_score=True, n_estimators=500)\n",
    "forest.fit(X,Y)"
   ]
  },
  {
   "cell_type": "code",
   "execution_count": 11,
   "id": "28b9aeb1",
   "metadata": {},
   "outputs": [
    {
     "data": {
      "text/plain": [
       "array([[1.        , 0.        , 0.        ],\n",
       "       [1.        , 0.        , 0.        ],\n",
       "       [1.        , 0.        , 0.        ],\n",
       "       [1.        , 0.        , 0.        ],\n",
       "       [1.        , 0.        , 0.        ],\n",
       "       [1.        , 0.        , 0.        ],\n",
       "       [1.        , 0.        , 0.        ],\n",
       "       [1.        , 0.        , 0.        ],\n",
       "       [1.        , 0.        , 0.        ],\n",
       "       [1.        , 0.        , 0.        ],\n",
       "       [1.        , 0.        , 0.        ],\n",
       "       [1.        , 0.        , 0.        ],\n",
       "       [1.        , 0.        , 0.        ],\n",
       "       [1.        , 0.        , 0.        ],\n",
       "       [0.97474747, 0.02525253, 0.        ],\n",
       "       [0.98918919, 0.01081081, 0.        ],\n",
       "       [1.        , 0.        , 0.        ],\n",
       "       [1.        , 0.        , 0.        ],\n",
       "       [0.98      , 0.02      , 0.        ],\n",
       "       [1.        , 0.        , 0.        ],\n",
       "       [1.        , 0.        , 0.        ],\n",
       "       [1.        , 0.        , 0.        ],\n",
       "       [1.        , 0.        , 0.        ],\n",
       "       [1.        , 0.        , 0.        ],\n",
       "       [1.        , 0.        , 0.        ],\n",
       "       [1.        , 0.        , 0.        ],\n",
       "       [1.        , 0.        , 0.        ],\n",
       "       [1.        , 0.        , 0.        ],\n",
       "       [1.        , 0.        , 0.        ],\n",
       "       [1.        , 0.        , 0.        ],\n",
       "       [1.        , 0.        , 0.        ],\n",
       "       [1.        , 0.        , 0.        ],\n",
       "       [1.        , 0.        , 0.        ],\n",
       "       [1.        , 0.        , 0.        ],\n",
       "       [1.        , 0.        , 0.        ],\n",
       "       [1.        , 0.        , 0.        ],\n",
       "       [0.9516129 , 0.0483871 , 0.        ],\n",
       "       [1.        , 0.        , 0.        ],\n",
       "       [1.        , 0.        , 0.        ],\n",
       "       [1.        , 0.        , 0.        ],\n",
       "       [1.        , 0.        , 0.        ],\n",
       "       [0.96446701, 0.03045685, 0.00507614],\n",
       "       [1.        , 0.        , 0.        ],\n",
       "       [1.        , 0.        , 0.        ],\n",
       "       [1.        , 0.        , 0.        ],\n",
       "       [1.        , 0.        , 0.        ],\n",
       "       [1.        , 0.        , 0.        ],\n",
       "       [1.        , 0.        , 0.        ],\n",
       "       [1.        , 0.        , 0.        ],\n",
       "       [1.        , 0.        , 0.        ],\n",
       "       [0.        , 0.9689441 , 0.0310559 ],\n",
       "       [0.        , 0.9893617 , 0.0106383 ],\n",
       "       [0.        , 0.78857143, 0.21142857],\n",
       "       [0.        , 0.98453608, 0.01546392],\n",
       "       [0.        , 0.98412698, 0.01587302],\n",
       "       [0.        , 1.        , 0.        ],\n",
       "       [0.        , 0.9516129 , 0.0483871 ],\n",
       "       [0.        , 0.79661017, 0.20338983],\n",
       "       [0.        , 1.        , 0.        ],\n",
       "       [0.        , 0.9704142 , 0.0295858 ],\n",
       "       [0.00529101, 0.91005291, 0.08465608],\n",
       "       [0.        , 0.99459459, 0.00540541],\n",
       "       [0.        , 0.9039548 , 0.0960452 ],\n",
       "       [0.        , 0.984375  , 0.015625  ],\n",
       "       [0.        , 1.        , 0.        ],\n",
       "       [0.        , 1.        , 0.        ],\n",
       "       [0.        , 1.        , 0.        ],\n",
       "       [0.        , 0.99425287, 0.00574713],\n",
       "       [0.        , 0.89673913, 0.10326087],\n",
       "       [0.        , 1.        , 0.        ],\n",
       "       [0.        , 0.04395604, 0.95604396],\n",
       "       [0.        , 0.98888889, 0.01111111],\n",
       "       [0.        , 0.55675676, 0.44324324],\n",
       "       [0.        , 0.98369565, 0.01630435],\n",
       "       [0.        , 1.        , 0.        ],\n",
       "       [0.        , 1.        , 0.        ],\n",
       "       [0.        , 0.86705202, 0.13294798],\n",
       "       [0.        , 0.03389831, 0.96610169],\n",
       "       [0.        , 1.        , 0.        ],\n",
       "       [0.        , 1.        , 0.        ],\n",
       "       [0.        , 1.        , 0.        ],\n",
       "       [0.        , 1.        , 0.        ],\n",
       "       [0.        , 0.99465241, 0.00534759],\n",
       "       [0.        , 0.14606742, 0.85393258],\n",
       "       [0.04123711, 0.91752577, 0.04123711],\n",
       "       [0.01463415, 0.97560976, 0.0097561 ],\n",
       "       [0.        , 1.        , 0.        ],\n",
       "       [0.        , 0.97927461, 0.02072539],\n",
       "       [0.        , 1.        , 0.        ],\n",
       "       [0.        , 0.99450549, 0.00549451],\n",
       "       [0.        , 0.98224852, 0.01775148],\n",
       "       [0.        , 0.98941799, 0.01058201],\n",
       "       [0.        , 0.98816568, 0.01183432],\n",
       "       [0.00473934, 0.94312796, 0.0521327 ],\n",
       "       [0.        , 1.        , 0.        ],\n",
       "       [0.        , 1.        , 0.        ],\n",
       "       [0.        , 1.        , 0.        ],\n",
       "       [0.        , 0.98809524, 0.01190476],\n",
       "       [0.        , 0.9742268 , 0.0257732 ],\n",
       "       [0.        , 1.        , 0.        ],\n",
       "       [0.        , 0.0097561 , 0.9902439 ],\n",
       "       [0.        , 0.02380952, 0.97619048],\n",
       "       [0.        , 0.        , 1.        ],\n",
       "       [0.        , 0.        , 1.        ],\n",
       "       [0.        , 0.        , 1.        ],\n",
       "       [0.        , 0.        , 1.        ],\n",
       "       [0.        , 0.86592179, 0.13407821],\n",
       "       [0.        , 0.00526316, 0.99473684],\n",
       "       [0.        , 0.01036269, 0.98963731],\n",
       "       [0.        , 0.        , 1.        ],\n",
       "       [0.        , 0.02631579, 0.97368421],\n",
       "       [0.        , 0.00537634, 0.99462366],\n",
       "       [0.        , 0.        , 1.        ],\n",
       "       [0.        , 0.08474576, 0.91525424],\n",
       "       [0.        , 0.01176471, 0.98823529],\n",
       "       [0.        , 0.        , 1.        ],\n",
       "       [0.        , 0.        , 1.        ],\n",
       "       [0.        , 0.        , 1.        ],\n",
       "       [0.        , 0.        , 1.        ],\n",
       "       [0.        , 0.77777778, 0.22222222],\n",
       "       [0.        , 0.        , 1.        ],\n",
       "       [0.        , 0.13265306, 0.86734694],\n",
       "       [0.        , 0.        , 1.        ],\n",
       "       [0.        , 0.08522727, 0.91477273],\n",
       "       [0.        , 0.        , 1.        ],\n",
       "       [0.        , 0.01666667, 0.98333333],\n",
       "       [0.        , 0.2244898 , 0.7755102 ],\n",
       "       [0.        , 0.05612245, 0.94387755],\n",
       "       [0.        , 0.        , 1.        ],\n",
       "       [0.        , 0.45180723, 0.54819277],\n",
       "       [0.        , 0.        , 1.        ],\n",
       "       [0.        , 0.        , 1.        ],\n",
       "       [0.        , 0.        , 1.        ],\n",
       "       [0.        , 0.62745098, 0.37254902],\n",
       "       [0.        , 0.5026455 , 0.4973545 ],\n",
       "       [0.        , 0.        , 1.        ],\n",
       "       [0.        , 0.01075269, 0.98924731],\n",
       "       [0.        , 0.00613497, 0.99386503],\n",
       "       [0.        , 0.47619048, 0.52380952],\n",
       "       [0.        , 0.        , 1.        ],\n",
       "       [0.        , 0.        , 1.        ],\n",
       "       [0.        , 0.05102041, 0.94897959],\n",
       "       [0.        , 0.02298851, 0.97701149],\n",
       "       [0.        , 0.        , 1.        ],\n",
       "       [0.        , 0.        , 1.        ],\n",
       "       [0.        , 0.01507538, 0.98492462],\n",
       "       [0.        , 0.07471264, 0.92528736],\n",
       "       [0.        , 0.        , 1.        ],\n",
       "       [0.        , 0.02873563, 0.97126437],\n",
       "       [0.        , 0.12121212, 0.87878788]])"
      ]
     },
     "execution_count": 11,
     "metadata": {},
     "output_type": "execute_result"
    }
   ],
   "source": [
    "forest.oob_decision_function_"
   ]
  },
  {
   "cell_type": "markdown",
   "id": "6f47c7d9",
   "metadata": {},
   "source": [
    "Con ese array podemos ver con qué probabilidad se ha votado que cada elemento sea cual, el array tiene tantas columnas como targets existan para clasificar. A veces pueden haber nan, lo que significa que las variables que ha tomado el árbol para decidir no habrá incluido ninguna variable relevante para clasificar, no habrá ninguna que minimice la entropía. Mientras más árboles decidamos poner, entonces menos probable es que aparezcan nans."
   ]
  },
  {
   "cell_type": "code",
   "execution_count": 12,
   "id": "a92f72ca",
   "metadata": {},
   "outputs": [
    {
     "data": {
      "text/plain": [
       "0.9533333333333334"
      ]
     },
     "execution_count": 12,
     "metadata": {},
     "output_type": "execute_result"
    }
   ],
   "source": [
    "forest.oob_score_"
   ]
  },
  {
   "cell_type": "markdown",
   "id": "bea75304",
   "metadata": {},
   "source": [
    "Como se vé, obtenemos inclusive más presición que cuando utilizamos validación cruzada y poda de árbol en el método de clasificación, donde obtuvimos para una profundidad de 3 es de **0.94** como valor máximo. A base de ir creando árboles, maximizamos la presición del modelo."
   ]
  }
 ],
 "metadata": {
  "kernelspec": {
   "display_name": "Python 3 (ipykernel)",
   "language": "python",
   "name": "python3"
  },
  "language_info": {
   "codemirror_mode": {
    "name": "ipython",
    "version": 3
   },
   "file_extension": ".py",
   "mimetype": "text/x-python",
   "name": "python",
   "nbconvert_exporter": "python",
   "pygments_lexer": "ipython3",
   "version": "3.9.7"
  }
 },
 "nbformat": 4,
 "nbformat_minor": 5
}
